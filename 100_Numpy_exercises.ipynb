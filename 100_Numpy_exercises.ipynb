{
 "cells": [
  {
   "cell_type": "markdown",
   "id": "ad1d1330",
   "metadata": {},
   "source": [
    "# 100 numpy exercises\n",
    "\n",
    "This is a collection of exercises that have been collected in the numpy mailing list, on stack overflow\n",
    "and in the numpy documentation. The goal of this collection is to offer a quick reference for both old\n",
    "and new users but also to provide a set of exercises for those who teach.\n",
    "\n",
    "\n",
    "If you find an error or think you've a better way to solve some of them, feel\n",
    "free to open an issue at <https://github.com/rougier/numpy-100>."
   ]
  },
  {
   "cell_type": "markdown",
   "id": "1d620162",
   "metadata": {},
   "source": [
    "File automatically generated. See the documentation to update questions/answers/hints programmatically."
   ]
  },
  {
   "cell_type": "markdown",
   "id": "8574d627",
   "metadata": {},
   "source": [
    "Run the `initialize.py` module, then for each question you can query the\n",
    "answer or an hint with `hint(n)` or `answer(n)` for `n` question number."
   ]
  },
  {
   "cell_type": "code",
   "execution_count": 1,
   "id": "c6fe8a29",
   "metadata": {},
   "outputs": [
    {
     "ename": "ModuleNotFoundError",
     "evalue": "No module named 'nbformat'",
     "output_type": "error",
     "traceback": [
      "\u001b[1;31m---------------------------------------------------------------------------\u001b[0m",
      "\u001b[1;31mModuleNotFoundError\u001b[0m                       Traceback (most recent call last)",
      "File \u001b[1;32m~\\Desktop\\projects\\c#\\vscode\\numpy-100-master\\initialise.py:3\u001b[0m\n\u001b[0;32m      1\u001b[0m \u001b[39mimport\u001b[39;00m \u001b[39mnumpy\u001b[39;00m \u001b[39mas\u001b[39;00m \u001b[39mnp\u001b[39;00m\n\u001b[1;32m----> 3\u001b[0m \u001b[39mimport\u001b[39;00m \u001b[39mgenerators\u001b[39;00m \u001b[39mas\u001b[39;00m \u001b[39mge\u001b[39;00m\n\u001b[0;32m      6\u001b[0m \u001b[39mdef\u001b[39;00m \u001b[39mquestion\u001b[39m(n):\n\u001b[0;32m      7\u001b[0m     \u001b[39mprint\u001b[39m(\u001b[39mf\u001b[39m\u001b[39m'\u001b[39m\u001b[39m{\u001b[39;00mn\u001b[39m}\u001b[39;00m\u001b[39m. \u001b[39m\u001b[39m'\u001b[39m \u001b[39m+\u001b[39m ge\u001b[39m.\u001b[39mQHA[\u001b[39mf\u001b[39m\u001b[39m'\u001b[39m\u001b[39mq\u001b[39m\u001b[39m{\u001b[39;00mn\u001b[39m}\u001b[39;00m\u001b[39m'\u001b[39m])\n",
      "File \u001b[1;32m~\\Desktop\\projects\\c#\\vscode\\numpy-100-master\\generators.py:2\u001b[0m\n\u001b[0;32m      1\u001b[0m \u001b[39mimport\u001b[39;00m \u001b[39mos\u001b[39;00m\n\u001b[1;32m----> 2\u001b[0m \u001b[39mimport\u001b[39;00m \u001b[39mnbformat\u001b[39;00m \u001b[39mas\u001b[39;00m \u001b[39mnbf\u001b[39;00m\n\u001b[0;32m      3\u001b[0m \u001b[39mimport\u001b[39;00m \u001b[39mmdutils\u001b[39;00m\n\u001b[0;32m      6\u001b[0m \u001b[39mdef\u001b[39;00m \u001b[39mktx_to_dict\u001b[39m(input_file, keystarter\u001b[39m=\u001b[39m\u001b[39m'\u001b[39m\u001b[39m<\u001b[39m\u001b[39m'\u001b[39m):\n",
      "\u001b[1;31mModuleNotFoundError\u001b[0m: No module named 'nbformat'"
     ]
    }
   ],
   "source": [
    "%run initialise.py"
   ]
  },
  {
   "cell_type": "markdown",
   "id": "954c5d8f",
   "metadata": {},
   "source": [
    "#### 1. Import the numpy package under the name `np` (★☆☆)"
   ]
  },
  {
   "cell_type": "code",
   "execution_count": 3,
   "id": "4006c08e",
   "metadata": {},
   "outputs": [],
   "source": [
    "import numpy as np"
   ]
  },
  {
   "cell_type": "markdown",
   "id": "88e34f09",
   "metadata": {},
   "source": [
    "#### 2. Print the numpy version and the configuration (★☆☆)"
   ]
  },
  {
   "cell_type": "code",
   "execution_count": 9,
   "id": "b1122a25",
   "metadata": {},
   "outputs": [
    {
     "name": "stdout",
     "output_type": "stream",
     "text": [
      "1.22.3\n",
      "openblas64__info:\n",
      "    library_dirs = ['D:\\\\a\\\\1\\\\s\\\\numpy\\\\build\\\\openblas64__info']\n",
      "    libraries = ['openblas64__info']\n",
      "    language = f77\n",
      "    define_macros = [('HAVE_CBLAS', None), ('BLAS_SYMBOL_SUFFIX', '64_'), ('HAVE_BLAS_ILP64', None)]\n",
      "blas_ilp64_opt_info:\n",
      "    library_dirs = ['D:\\\\a\\\\1\\\\s\\\\numpy\\\\build\\\\openblas64__info']\n",
      "    libraries = ['openblas64__info']\n",
      "    language = f77\n",
      "    define_macros = [('HAVE_CBLAS', None), ('BLAS_SYMBOL_SUFFIX', '64_'), ('HAVE_BLAS_ILP64', None)]\n",
      "openblas64__lapack_info:\n",
      "    library_dirs = ['D:\\\\a\\\\1\\\\s\\\\numpy\\\\build\\\\openblas64__lapack_info']\n",
      "    libraries = ['openblas64__lapack_info']\n",
      "    language = f77\n",
      "    define_macros = [('HAVE_CBLAS', None), ('BLAS_SYMBOL_SUFFIX', '64_'), ('HAVE_BLAS_ILP64', None), ('HAVE_LAPACKE', None)]\n",
      "lapack_ilp64_opt_info:\n",
      "    library_dirs = ['D:\\\\a\\\\1\\\\s\\\\numpy\\\\build\\\\openblas64__lapack_info']\n",
      "    libraries = ['openblas64__lapack_info']\n",
      "    language = f77\n",
      "    define_macros = [('HAVE_CBLAS', None), ('BLAS_SYMBOL_SUFFIX', '64_'), ('HAVE_BLAS_ILP64', None), ('HAVE_LAPACKE', None)]\n",
      "Supported SIMD extensions in this NumPy install:\n",
      "    baseline = SSE,SSE2,SSE3\n",
      "    found = SSSE3,SSE41,POPCNT,SSE42,AVX,F16C,FMA3,AVX2\n",
      "    not found = AVX512F,AVX512CD,AVX512_SKX,AVX512_CLX,AVX512_CNL\n"
     ]
    }
   ],
   "source": [
    "print(np.version.version)\n",
    "np.show_config()"
   ]
  },
  {
   "cell_type": "markdown",
   "id": "37c21848",
   "metadata": {},
   "source": [
    "#### 3. Create a null vector of size 10 (★☆☆)"
   ]
  },
  {
   "cell_type": "code",
   "execution_count": 11,
   "id": "e090a462",
   "metadata": {},
   "outputs": [
    {
     "name": "stdout",
     "output_type": "stream",
     "text": [
      "[0. 0. 0. 0. 0. 0. 0. 0. 0. 0.]\n"
     ]
    }
   ],
   "source": [
    "v = np.zeros(10)\n",
    "print(v)"
   ]
  },
  {
   "cell_type": "markdown",
   "id": "7c0e6add",
   "metadata": {},
   "source": [
    "#### 4. How to find the memory size of any array (★☆☆)"
   ]
  },
  {
   "cell_type": "code",
   "execution_count": 13,
   "id": "8c96715d",
   "metadata": {},
   "outputs": [
    {
     "name": "stdout",
     "output_type": "stream",
     "text": [
      "80\n"
     ]
    }
   ],
   "source": [
    "print(v.size * v.itemsize)"
   ]
  },
  {
   "cell_type": "markdown",
   "metadata": {},
   "source": []
  },
  {
   "cell_type": "markdown",
   "id": "4cf547db",
   "metadata": {},
   "source": [
    "#### 5. How to get the documentation of the numpy add function from the command line? (★☆☆)"
   ]
  },
  {
   "cell_type": "code",
   "execution_count": 12,
   "id": "2a24a1e9",
   "metadata": {},
   "outputs": [
    {
     "name": "stdout",
     "output_type": "stream",
     "text": [
      "add(x1, x2, /, out=None, *, where=True, casting='same_kind', order='K', dtype=None, subok=True[, signature, extobj])\n",
      "\n",
      "Add arguments element-wise.\n",
      "\n",
      "Parameters\n",
      "----------\n",
      "x1, x2 : array_like\n",
      "    The arrays to be added.\n",
      "    If ``x1.shape != x2.shape``, they must be broadcastable to a common\n",
      "    shape (which becomes the shape of the output).\n",
      "out : ndarray, None, or tuple of ndarray and None, optional\n",
      "    A location into which the result is stored. If provided, it must have\n",
      "    a shape that the inputs broadcast to. If not provided or None,\n",
      "    a freshly-allocated array is returned. A tuple (possible only as a\n",
      "    keyword argument) must have length equal to the number of outputs.\n",
      "where : array_like, optional\n",
      "    This condition is broadcast over the input. At locations where the\n",
      "    condition is True, the `out` array will be set to the ufunc result.\n",
      "    Elsewhere, the `out` array will retain its original value.\n",
      "    Note that if an uninitialized `out` array is created via the default\n",
      "    ``out=None``, locations within it where the condition is False will\n",
      "    remain uninitialized.\n",
      "**kwargs\n",
      "    For other keyword-only arguments, see the\n",
      "    :ref:`ufunc docs <ufuncs.kwargs>`.\n",
      "\n",
      "Returns\n",
      "-------\n",
      "add : ndarray or scalar\n",
      "    The sum of `x1` and `x2`, element-wise.\n",
      "    This is a scalar if both `x1` and `x2` are scalars.\n",
      "\n",
      "Notes\n",
      "-----\n",
      "Equivalent to `x1` + `x2` in terms of array broadcasting.\n",
      "\n",
      "Examples\n",
      "--------\n",
      ">>> np.add(1.0, 4.0)\n",
      "5.0\n",
      ">>> x1 = np.arange(9.0).reshape((3, 3))\n",
      ">>> x2 = np.arange(3.0)\n",
      ">>> np.add(x1, x2)\n",
      "array([[  0.,   2.,   4.],\n",
      "       [  3.,   5.,   7.],\n",
      "       [  6.,   8.,  10.]])\n",
      "\n",
      "The ``+`` operator can be used as a shorthand for ``np.add`` on ndarrays.\n",
      "\n",
      ">>> x1 = np.arange(9.0).reshape((3, 3))\n",
      ">>> x2 = np.arange(3.0)\n",
      ">>> x1 + x2\n",
      "array([[ 0.,  2.,  4.],\n",
      "       [ 3.,  5.,  7.],\n",
      "       [ 6.,  8., 10.]])\n"
     ]
    }
   ],
   "source": [
    "!python -c \"import numpy; numpy.info(numpy.add)\""
   ]
  },
  {
   "cell_type": "markdown",
   "id": "bf6679c3",
   "metadata": {},
   "source": [
    "#### 6. Create a null vector of size 10 but the fifth value which is 1 (★☆☆)"
   ]
  },
  {
   "cell_type": "code",
   "execution_count": 17,
   "id": "f4cd59b6",
   "metadata": {},
   "outputs": [
    {
     "name": "stdout",
     "output_type": "stream",
     "text": [
      "[0. 0. 0. 0. 1. 0. 0. 0. 0. 0.]\n"
     ]
    }
   ],
   "source": [
    "v = np.zeros(10)\n",
    "v[4] = 1\n",
    "print(v)"
   ]
  },
  {
   "cell_type": "markdown",
   "id": "022451fb",
   "metadata": {},
   "source": [
    "#### 7. Create a vector with values ranging from 10 to 49 (★☆☆)"
   ]
  },
  {
   "cell_type": "code",
   "execution_count": 18,
   "id": "22c2f0a8",
   "metadata": {},
   "outputs": [
    {
     "name": "stdout",
     "output_type": "stream",
     "text": [
      "[10 11 12 13 14 15 16 17 18 19 20 21 22 23 24 25 26 27 28 29 30 31 32 33\n",
      " 34 35 36 37 38 39 40 41 42 43 44 45 46 47 48 49]\n"
     ]
    }
   ],
   "source": [
    "v = np.arange(10, 50)\n",
    "print(v)"
   ]
  },
  {
   "cell_type": "markdown",
   "id": "aca8f6ee",
   "metadata": {},
   "source": [
    "#### 8. Reverse a vector (first element becomes last) (★☆☆)"
   ]
  },
  {
   "cell_type": "code",
   "execution_count": 19,
   "id": "15f37616",
   "metadata": {},
   "outputs": [
    {
     "name": "stdout",
     "output_type": "stream",
     "text": [
      "[49 48 47 46 45 44 43 42 41 40 39 38 37 36 35 34 33 32 31 30 29 28 27 26\n",
      " 25 24 23 22 21 20 19 18 17 16 15 14 13 12 11 10]\n"
     ]
    }
   ],
   "source": [
    "print(v[::-1])"
   ]
  },
  {
   "cell_type": "markdown",
   "id": "97bfddd4",
   "metadata": {},
   "source": [
    "#### 9. Create a 3x3 matrix with values ranging from 0 to 8 (★☆☆)"
   ]
  },
  {
   "cell_type": "code",
   "execution_count": 23,
   "id": "8b93d83c",
   "metadata": {},
   "outputs": [
    {
     "name": "stdout",
     "output_type": "stream",
     "text": [
      "[[0 1 2]\n",
      " [3 4 5]\n",
      " [6 7 8]]\n"
     ]
    }
   ],
   "source": [
    "m = np.arange(0, 9).reshape(3, 3)\n",
    "print(m)"
   ]
  },
  {
   "cell_type": "markdown",
   "id": "a073dad0",
   "metadata": {},
   "source": [
    "#### 10. Find indices of non-zero elements from [1,2,0,0,4,0] (★☆☆)"
   ]
  },
  {
   "cell_type": "code",
   "execution_count": 28,
   "id": "c21fb91c",
   "metadata": {},
   "outputs": [
    {
     "name": "stdout",
     "output_type": "stream",
     "text": [
      "(array([0, 1, 4], dtype=int64),)\n"
     ]
    }
   ],
   "source": [
    "print(np.nonzero([1, 2, 0, 0, 4, 0]))"
   ]
  },
  {
   "cell_type": "markdown",
   "id": "82b9a7a0",
   "metadata": {},
   "source": [
    "#### 11. Create a 3x3 identity matrix (★☆☆)"
   ]
  },
  {
   "cell_type": "code",
   "execution_count": 29,
   "id": "7ce1325a",
   "metadata": {},
   "outputs": [
    {
     "name": "stdout",
     "output_type": "stream",
     "text": [
      "[[1. 0. 0.]\n",
      " [0. 1. 0.]\n",
      " [0. 0. 1.]]\n"
     ]
    }
   ],
   "source": [
    "m = np.eye(3)\n",
    "print(m)"
   ]
  },
  {
   "cell_type": "markdown",
   "id": "0e6364d3",
   "metadata": {},
   "source": [
    "#### 12. Create a 3x3x3 array with random values (★☆☆)"
   ]
  },
  {
   "cell_type": "code",
   "execution_count": 30,
   "id": "8139c1c8",
   "metadata": {},
   "outputs": [
    {
     "name": "stdout",
     "output_type": "stream",
     "text": [
      "[[[0.76577176 0.77594047 0.5435368 ]\n",
      "  [0.81380016 0.09309248 0.28437868]\n",
      "  [0.62717162 0.13510152 0.35414266]]\n",
      "\n",
      " [[0.07028207 0.40764095 0.45524097]\n",
      "  [0.62106222 0.82256835 0.70727222]\n",
      "  [0.13866136 0.14962476 0.78933373]]\n",
      "\n",
      " [[0.87166362 0.57379339 0.43286776]\n",
      "  [0.98786576 0.78895732 0.45423452]\n",
      "  [0.29754494 0.31266875 0.99436591]]]\n"
     ]
    }
   ],
   "source": [
    "a = np.random.random((3,3,3))\n",
    "print(a)"
   ]
  },
  {
   "cell_type": "markdown",
   "id": "49ef36a6",
   "metadata": {},
   "source": [
    "#### 13. Create a 10x10 array with random values and find the minimum and maximum values (★☆☆)"
   ]
  },
  {
   "cell_type": "code",
   "execution_count": 39,
   "id": "5b4c73c7",
   "metadata": {},
   "outputs": [
    {
     "name": "stdout",
     "output_type": "stream",
     "text": [
      "0.990329919486236 0.0054703957777562096\n"
     ]
    }
   ],
   "source": [
    "a = np.random.random((10, 10))\n",
    "print(a.max(), a.min())\n"
   ]
  },
  {
   "cell_type": "markdown",
   "id": "625eb243",
   "metadata": {},
   "source": [
    "#### 14. Create a random vector of size 30 and find the mean value (★☆☆)"
   ]
  },
  {
   "cell_type": "code",
   "execution_count": 37,
   "id": "ba7b8300",
   "metadata": {},
   "outputs": [
    {
     "name": "stdout",
     "output_type": "stream",
     "text": [
      "0.4992192840208725\n"
     ]
    }
   ],
   "source": [
    "a = np.random.random(30)\n",
    "print(a.mean())"
   ]
  },
  {
   "cell_type": "markdown",
   "id": "19540b2f",
   "metadata": {},
   "source": [
    "#### 15. Create a 2d array with 1 on the border and 0 inside (★☆☆)"
   ]
  },
  {
   "cell_type": "code",
   "execution_count": 44,
   "id": "19e78d2c",
   "metadata": {},
   "outputs": [
    {
     "name": "stdout",
     "output_type": "stream",
     "text": [
      "[[1. 1. 1. 1. 1.]\n",
      " [1. 0. 0. 0. 1.]\n",
      " [1. 0. 0. 0. 1.]\n",
      " [1. 0. 0. 0. 1.]\n",
      " [1. 1. 1. 1. 1.]]\n"
     ]
    }
   ],
   "source": [
    "a = np.ones((5, 5))\n",
    "a[1:-1, 1:-1] = 0\n",
    "print(a)"
   ]
  },
  {
   "cell_type": "markdown",
   "id": "3f0fe171",
   "metadata": {},
   "source": [
    "#### 16. How to add a border (filled with 0's) around an existing array? (★☆☆)"
   ]
  },
  {
   "cell_type": "code",
   "execution_count": 45,
   "id": "662a99b4",
   "metadata": {},
   "outputs": [
    {
     "name": "stdout",
     "output_type": "stream",
     "text": [
      "[[0. 0. 0. 0. 0. 0. 0.]\n",
      " [0. 1. 1. 1. 1. 1. 0.]\n",
      " [0. 1. 1. 1. 1. 1. 0.]\n",
      " [0. 1. 1. 1. 1. 1. 0.]\n",
      " [0. 1. 1. 1. 1. 1. 0.]\n",
      " [0. 1. 1. 1. 1. 1. 0.]\n",
      " [0. 0. 0. 0. 0. 0. 0.]]\n"
     ]
    }
   ],
   "source": [
    "a = np.ones((5,5))\n",
    "a = np.pad(a, pad_width=1, mode='constant', constant_values=0)\n",
    "print(a)"
   ]
  },
  {
   "cell_type": "markdown",
   "id": "0464c4af",
   "metadata": {},
   "source": [
    "#### 17. What is the result of the following expression? (★☆☆)\n",
    "```python\n",
    "0 * np.nan\n",
    "np.nan == np.nan\n",
    "np.inf > np.nan\n",
    "np.nan - np.nan\n",
    "np.nan in set([np.nan])\n",
    "0.3 == 3 * 0.1\n",
    "```"
   ]
  },
  {
   "cell_type": "code",
   "execution_count": 51,
   "id": "18926a29",
   "metadata": {},
   "outputs": [
    {
     "name": "stdout",
     "output_type": "stream",
     "text": [
      "nan\n",
      "False\n",
      "False\n",
      "nan\n",
      "True\n",
      "False\n"
     ]
    }
   ],
   "source": [
    "print(0 * np.nan)\n",
    "print(np.nan == np.nan)\n",
    "print(np.inf > np.nan)\n",
    "print(np.nan - np.nan)\n",
    "print(np.nan in set([np.nan]))\n",
    "print(0.3 == 3 * 0.1)"
   ]
  },
  {
   "cell_type": "markdown",
   "id": "afb90e8b",
   "metadata": {},
   "source": [
    "#### 18. Create a 5x5 matrix with values 1,2,3,4 just below the diagonal (★☆☆)"
   ]
  },
  {
   "cell_type": "code",
   "execution_count": 58,
   "id": "8a988102",
   "metadata": {},
   "outputs": [
    {
     "name": "stdout",
     "output_type": "stream",
     "text": [
      "[[0 0 0 0 0]\n",
      " [1 0 0 0 0]\n",
      " [0 2 0 0 0]\n",
      " [0 0 3 0 0]\n",
      " [0 0 0 4 0]]\n"
     ]
    }
   ],
   "source": [
    "m = np.diag(1 + np.arange(4), k=-1)\n",
    "print(m)"
   ]
  },
  {
   "cell_type": "markdown",
   "id": "ca611f9e",
   "metadata": {},
   "source": [
    "#### 19. Create a 8x8 matrix and fill it with a checkerboard pattern (★☆☆)"
   ]
  },
  {
   "cell_type": "code",
   "execution_count": 57,
   "id": "24049fc7",
   "metadata": {},
   "outputs": [
    {
     "name": "stdout",
     "output_type": "stream",
     "text": [
      "[[0 1 0 1 0 1 0 1]\n",
      " [1 0 1 0 1 0 1 0]\n",
      " [0 1 0 1 0 1 0 1]\n",
      " [1 0 1 0 1 0 1 0]\n",
      " [0 1 0 1 0 1 0 1]\n",
      " [1 0 1 0 1 0 1 0]\n",
      " [0 1 0 1 0 1 0 1]\n",
      " [1 0 1 0 1 0 1 0]]\n"
     ]
    }
   ],
   "source": [
    "m = np.zeros((8,8),dtype=int)\n",
    "m[1::2,::2] = 1\n",
    "m[::2,1::2] = 1\n",
    "print(m)"
   ]
  },
  {
   "cell_type": "markdown",
   "id": "9b77f7af",
   "metadata": {},
   "source": [
    "#### 20. Consider a (6,7,8) shape array, what is the index (x,y,z) of the 100th element? (★☆☆)"
   ]
  },
  {
   "cell_type": "code",
   "execution_count": 55,
   "id": "402efd68",
   "metadata": {},
   "outputs": [
    {
     "name": "stdout",
     "output_type": "stream",
     "text": [
      "(1, 5, 3)\n"
     ]
    }
   ],
   "source": [
    "print(np.unravel_index(99,(6,7,8)))"
   ]
  },
  {
   "cell_type": "markdown",
   "id": "07e399b8",
   "metadata": {},
   "source": [
    "#### 21. Create a checkerboard 8x8 matrix using the tile function (★☆☆)"
   ]
  },
  {
   "cell_type": "code",
   "execution_count": 56,
   "id": "867964a9",
   "metadata": {},
   "outputs": [
    {
     "name": "stdout",
     "output_type": "stream",
     "text": [
      "[[0 1 0 1 0 1 0 1]\n",
      " [1 0 1 0 1 0 1 0]\n",
      " [0 1 0 1 0 1 0 1]\n",
      " [1 0 1 0 1 0 1 0]\n",
      " [0 1 0 1 0 1 0 1]\n",
      " [1 0 1 0 1 0 1 0]\n",
      " [0 1 0 1 0 1 0 1]\n",
      " [1 0 1 0 1 0 1 0]]\n"
     ]
    }
   ],
   "source": [
    "m = np.tile( np.array([[0,1],[1,0]]), (4,4))\n",
    "print(m)"
   ]
  },
  {
   "cell_type": "markdown",
   "id": "bc92d88a",
   "metadata": {},
   "source": [
    "#### 22. Normalize a 5x5 random matrix (★☆☆)"
   ]
  },
  {
   "cell_type": "code",
   "execution_count": 65,
   "id": "a3709496",
   "metadata": {},
   "outputs": [
    {
     "name": "stdout",
     "output_type": "stream",
     "text": [
      "[[-0.18138521 -0.36815196 -1.35956561  1.13518223 -0.51031872]\n",
      " [ 0.10917761 -0.947111   -1.31961539 -1.60452963  1.00554934]\n",
      " [ 1.59827097 -0.23960535  1.2567442   0.98787977  0.90183643]\n",
      " [ 0.8322708  -0.8198503  -0.06457053 -0.55571703  0.81239761]\n",
      " [-1.3689359  -0.50246532 -1.15111745  1.75061134  0.6030191 ]]\n"
     ]
    }
   ],
   "source": [
    "m = np.random.random((5,5))\n",
    "m = (m - np.mean (m)) / (np.std (m))\n",
    "print(m)"
   ]
  },
  {
   "cell_type": "markdown",
   "id": "9e2fd8ce",
   "metadata": {},
   "source": [
    "#### 23. Create a custom dtype that describes a color as four unsigned bytes (RGBA) (★☆☆)"
   ]
  },
  {
   "cell_type": "code",
   "execution_count": 66,
   "id": "5881b2b5",
   "metadata": {},
   "outputs": [],
   "source": [
    "color = np.dtype([(\"r\", np.ubyte),\n",
    "                  (\"g\", np.ubyte),\n",
    "                  (\"b\", np.ubyte),\n",
    "                  (\"a\", np.ubyte)])"
   ]
  },
  {
   "cell_type": "markdown",
   "id": "d6904ab9",
   "metadata": {},
   "source": [
    "#### 24. Multiply a 5x3 matrix by a 3x2 matrix (real matrix product) (★☆☆)"
   ]
  },
  {
   "cell_type": "code",
   "execution_count": 68,
   "id": "cb3b6528",
   "metadata": {},
   "outputs": [
    {
     "name": "stdout",
     "output_type": "stream",
     "text": [
      "[[3. 3.]\n",
      " [3. 3.]\n",
      " [3. 3.]\n",
      " [3. 3.]\n",
      " [3. 3.]]\n"
     ]
    }
   ],
   "source": [
    "m = np.dot(np.ones((5,3)), np.ones((3,2)))\n",
    "print(m)"
   ]
  },
  {
   "cell_type": "markdown",
   "id": "c57116dd",
   "metadata": {},
   "source": [
    "#### 25. Given a 1D array, negate all elements which are between 3 and 8, in place. (★☆☆)"
   ]
  },
  {
   "cell_type": "code",
   "execution_count": 71,
   "id": "4fbf1b1e",
   "metadata": {},
   "outputs": [
    {
     "name": "stdout",
     "output_type": "stream",
     "text": [
      "[ 0  1  2  3 -4 -5 -6 -7  8  9]\n"
     ]
    }
   ],
   "source": [
    "a = np.arange(10)\n",
    "a[(3 < a) & (a < 8)] *= -1\n",
    "print(a)"
   ]
  },
  {
   "cell_type": "markdown",
   "id": "52707d61",
   "metadata": {},
   "source": [
    "#### 26. What is the output of the following script? (★☆☆)\n",
    "```python\n",
    "# Author: Jake VanderPlas\n",
    "\n",
    "print(sum(range(5),-1))\n",
    "from numpy import *\n",
    "print(sum(range(5),-1))\n",
    "```"
   ]
  },
  {
   "cell_type": "code",
   "execution_count": 18,
   "id": "18a238e6",
   "metadata": {},
   "outputs": [
    {
     "name": "stdout",
     "output_type": "stream",
     "text": [
      "9\n",
      "10\n"
     ]
    }
   ],
   "source": [
    "print(sum(range(5),-1))\n",
    "from numpy import *\n",
    "print(sum(range(5),-1))"
   ]
  },
  {
   "cell_type": "markdown",
   "id": "5ab377fd",
   "metadata": {},
   "source": [
    "#### 27. Consider an integer vector Z, which of these expressions are legal? (★☆☆)\n",
    "```python\n",
    "Z**Z\n",
    "2 << Z >> 2\n",
    "Z <- Z\n",
    "1j*Z\n",
    "Z/1/1\n",
    "Z<Z>Z\n",
    "```"
   ]
  },
  {
   "cell_type": "code",
   "execution_count": 24,
   "id": "36cc66a9",
   "metadata": {},
   "outputs": [
    {
     "name": "stdout",
     "output_type": "stream",
     "text": [
      "[         1          1          4         27        256       3125\n",
      "      46656     823543   16777216  387420489 1410065408]\n",
      "[  0   1   2   4   8  16  32  64 128 256 512]\n",
      "[False False False False False False False False False False False]\n",
      "[0. +0.j 0. +1.j 0. +2.j 0. +3.j 0. +4.j 0. +5.j 0. +6.j 0. +7.j 0. +8.j\n",
      " 0. +9.j 0.+10.j]\n",
      "[ 0.  1.  2.  3.  4.  5.  6.  7.  8.  9. 10.]\n"
     ]
    }
   ],
   "source": [
    "import numpy as np\n",
    "Z = np.arange(11, dtype=int)\n",
    "print(Z**Z)\n",
    "print(2 << Z >> 2)\n",
    "print(Z <- Z)\n",
    "print(1j*Z)\n",
    "print(Z/1/1)\n",
    "#Z<Z>Z # ilegal"
   ]
  },
  {
   "cell_type": "markdown",
   "id": "654f223f",
   "metadata": {},
   "source": [
    "#### 28. What are the result of the following expressions? (★☆☆)\n",
    "```python\n",
    "np.array(0) / np.array(0)\n",
    "np.array(0) // np.array(0)\n",
    "np.array([np.nan]).astype(int).astype(float)\n",
    "```"
   ]
  },
  {
   "cell_type": "code",
   "execution_count": 25,
   "id": "6d9d3c21",
   "metadata": {},
   "outputs": [
    {
     "name": "stdout",
     "output_type": "stream",
     "text": [
      "nan\n",
      "0\n",
      "[-2.14748365e+09]\n"
     ]
    },
    {
     "name": "stderr",
     "output_type": "stream",
     "text": [
      "C:\\Users\\ivanm\\AppData\\Local\\Temp\\ipykernel_12488\\3912170336.py:1: RuntimeWarning: invalid value encountered in true_divide\n",
      "  print(np.array(0) / np.array(0))\n",
      "C:\\Users\\ivanm\\AppData\\Local\\Temp\\ipykernel_12488\\3912170336.py:2: RuntimeWarning: divide by zero encountered in floor_divide\n",
      "  print(np.array(0) // np.array(0))\n"
     ]
    }
   ],
   "source": [
    "print(np.array(0) / np.array(0))\n",
    "print(np.array(0) // np.array(0))\n",
    "print(np.array([np.nan]).astype(int).astype(float))"
   ]
  },
  {
   "cell_type": "markdown",
   "id": "a7e00adf",
   "metadata": {},
   "source": [
    "#### 29. How to round away from zero a float array ? (★☆☆)"
   ]
  },
  {
   "cell_type": "code",
   "execution_count": 26,
   "id": "6ee5777d",
   "metadata": {},
   "outputs": [
    {
     "name": "stdout",
     "output_type": "stream",
     "text": [
      "[ 4. -4. -6. -8.  5. -3.  6.  3. -6. -6.]\n"
     ]
    }
   ],
   "source": [
    "Z = np.random.uniform(-10,+10,10)\n",
    "print(np.copysign(np.ceil(np.abs(Z)), Z))"
   ]
  },
  {
   "cell_type": "markdown",
   "id": "56be1f05",
   "metadata": {},
   "source": [
    "#### 30. How to find common values between two arrays? (★☆☆)"
   ]
  },
  {
   "cell_type": "code",
   "execution_count": 79,
   "id": "62eeedc0",
   "metadata": {},
   "outputs": [
    {
     "name": "stdout",
     "output_type": "stream",
     "text": [
      "[0 2 3 4 7]\n"
     ]
    }
   ],
   "source": [
    "Z1 = np.random.randint(0,10,10)\n",
    "Z2 = np.random.randint(0,10,10)\n",
    "print(np.intersect1d(Z1,Z2))"
   ]
  },
  {
   "cell_type": "markdown",
   "id": "83567c5c",
   "metadata": {},
   "source": [
    "#### 31. How to ignore all numpy warnings (not recommended)? (★☆☆)"
   ]
  },
  {
   "cell_type": "code",
   "execution_count": 80,
   "id": "fa02b423",
   "metadata": {},
   "outputs": [],
   "source": [
    "defaults = np.seterr(all=\"ignore\")\n",
    "Z = np.ones(1) / 0"
   ]
  },
  {
   "cell_type": "markdown",
   "id": "0a7449b6",
   "metadata": {},
   "source": [
    "#### 32. Is the following expressions true? (★☆☆)\n",
    "```python\n",
    "np.sqrt(-1) == np.emath.sqrt(-1)\n",
    "```"
   ]
  },
  {
   "cell_type": "code",
   "execution_count": 81,
   "id": "69eb4456",
   "metadata": {},
   "outputs": [
    {
     "data": {
      "text/plain": [
       "False"
      ]
     },
     "execution_count": 81,
     "metadata": {},
     "output_type": "execute_result"
    }
   ],
   "source": [
    "np.sqrt(-1) == np.emath.sqrt(-1)"
   ]
  },
  {
   "cell_type": "markdown",
   "id": "9d434219",
   "metadata": {},
   "source": [
    "#### 33. How to get the dates of yesterday, today and tomorrow? (★☆☆)"
   ]
  },
  {
   "cell_type": "code",
   "execution_count": 84,
   "id": "0b192943",
   "metadata": {},
   "outputs": [
    {
     "name": "stdout",
     "output_type": "stream",
     "text": [
      "2023-03-27 2023-03-28 2023-03-29\n"
     ]
    }
   ],
   "source": [
    "yesterday = np.datetime64('today') - np.timedelta64(1)\n",
    "today     = np.datetime64('today')\n",
    "tomorrow  = np.datetime64('today') + np.timedelta64(1)\n",
    "print(yesterday, today, tomorrow)"
   ]
  },
  {
   "cell_type": "markdown",
   "id": "b0e44339",
   "metadata": {},
   "source": [
    "#### 34. How to get all the dates corresponding to the month of July 2016? (★★☆)"
   ]
  },
  {
   "cell_type": "code",
   "execution_count": 85,
   "id": "8bf7daa6",
   "metadata": {},
   "outputs": [
    {
     "name": "stdout",
     "output_type": "stream",
     "text": [
      "['2016-07-01' '2016-07-02' '2016-07-03' '2016-07-04' '2016-07-05'\n",
      " '2016-07-06' '2016-07-07' '2016-07-08' '2016-07-09' '2016-07-10'\n",
      " '2016-07-11' '2016-07-12' '2016-07-13' '2016-07-14' '2016-07-15'\n",
      " '2016-07-16' '2016-07-17' '2016-07-18' '2016-07-19' '2016-07-20'\n",
      " '2016-07-21' '2016-07-22' '2016-07-23' '2016-07-24' '2016-07-25'\n",
      " '2016-07-26' '2016-07-27' '2016-07-28' '2016-07-29' '2016-07-30'\n",
      " '2016-07-31']\n"
     ]
    }
   ],
   "source": [
    "Z = np.arange('2016-07', '2016-08', dtype='datetime64[D]')\n",
    "print(Z)"
   ]
  },
  {
   "cell_type": "markdown",
   "id": "f9b3c24a",
   "metadata": {},
   "source": [
    "#### 35. How to compute ((A+B)*(-A/2)) in place (without copy)? (★★☆)"
   ]
  },
  {
   "cell_type": "code",
   "execution_count": 86,
   "id": "40da18c9",
   "metadata": {},
   "outputs": [
    {
     "data": {
      "text/plain": [
       "array([-1.5, -1.5, -1.5])"
      ]
     },
     "execution_count": 86,
     "metadata": {},
     "output_type": "execute_result"
    }
   ],
   "source": [
    "A = np.ones(3)*1\n",
    "B = np.ones(3)*2\n",
    "np.add(A,B,out=B)\n",
    "np.divide(A,2,out=A)\n",
    "np.negative(A,out=A)\n",
    "np.multiply(A,B,out=A)"
   ]
  },
  {
   "cell_type": "markdown",
   "id": "cbb64ee9",
   "metadata": {},
   "source": [
    "#### 36. Extract the integer part of a random array of positive numbers using 4 different methods (★★☆)"
   ]
  },
  {
   "cell_type": "code",
   "execution_count": 87,
   "id": "f83748bd",
   "metadata": {},
   "outputs": [
    {
     "name": "stdout",
     "output_type": "stream",
     "text": [
      "[7. 6. 5. 4. 1. 1. 1. 8. 1. 2.]\n",
      "[7. 6. 5. 4. 1. 1. 1. 8. 1. 2.]\n",
      "[7. 6. 5. 4. 1. 1. 1. 8. 1. 2.]\n",
      "[7 6 5 4 1 1 1 8 1 2]\n",
      "[7. 6. 5. 4. 1. 1. 1. 8. 1. 2.]\n"
     ]
    }
   ],
   "source": [
    "Z = np.random.uniform(0,10,10)\n",
    "\n",
    "print(Z - Z%1)\n",
    "print(Z // 1)\n",
    "print(np.floor(Z))\n",
    "print(Z.astype(int))\n",
    "print(np.trunc(Z))"
   ]
  },
  {
   "cell_type": "markdown",
   "id": "8418e1e4",
   "metadata": {},
   "source": [
    "#### 37. Create a 5x5 matrix with row values ranging from 0 to 4 (★★☆)"
   ]
  },
  {
   "cell_type": "code",
   "execution_count": 88,
   "id": "08e726e4",
   "metadata": {},
   "outputs": [
    {
     "name": "stdout",
     "output_type": "stream",
     "text": [
      "[[0. 1. 2. 3. 4.]\n",
      " [0. 1. 2. 3. 4.]\n",
      " [0. 1. 2. 3. 4.]\n",
      " [0. 1. 2. 3. 4.]\n",
      " [0. 1. 2. 3. 4.]]\n"
     ]
    }
   ],
   "source": [
    "Z = np.zeros((5,5))\n",
    "Z += np.arange(5)\n",
    "print(Z)"
   ]
  },
  {
   "cell_type": "markdown",
   "id": "a8420e2c",
   "metadata": {},
   "source": [
    "#### 38. Consider a generator function that generates 10 integers and use it to build an array (★☆☆)"
   ]
  },
  {
   "cell_type": "code",
   "execution_count": 89,
   "id": "c58e77ad",
   "metadata": {},
   "outputs": [
    {
     "name": "stdout",
     "output_type": "stream",
     "text": [
      "[0. 1. 2. 3. 4. 5. 6. 7. 8. 9.]\n"
     ]
    }
   ],
   "source": [
    "def generate():\n",
    "    for x in range(10):\n",
    "        yield x\n",
    "Z = np.fromiter(generate(),dtype=float,count=-1)\n",
    "print(Z)"
   ]
  },
  {
   "cell_type": "markdown",
   "id": "deab3e77",
   "metadata": {},
   "source": [
    "#### 39. Create a vector of size 10 with values ranging from 0 to 1, both excluded (★★☆)"
   ]
  },
  {
   "cell_type": "code",
   "execution_count": 90,
   "id": "2c5fafc8",
   "metadata": {},
   "outputs": [
    {
     "name": "stdout",
     "output_type": "stream",
     "text": [
      "[0.09090909 0.18181818 0.27272727 0.36363636 0.45454545 0.54545455\n",
      " 0.63636364 0.72727273 0.81818182 0.90909091]\n"
     ]
    }
   ],
   "source": [
    "Z = np.linspace(0,1,11,endpoint=False)[1:]\n",
    "print(Z)\n"
   ]
  },
  {
   "cell_type": "markdown",
   "id": "5bb5de9c",
   "metadata": {},
   "source": [
    "#### 40. Create a random vector of size 10 and sort it (★★☆)"
   ]
  },
  {
   "cell_type": "code",
   "execution_count": 91,
   "id": "b9916965",
   "metadata": {},
   "outputs": [
    {
     "name": "stdout",
     "output_type": "stream",
     "text": [
      "[0.07966113 0.20299627 0.30901669 0.31463734 0.4683671  0.6520392\n",
      " 0.7781223  0.82088988 0.88061299 0.90575081]\n"
     ]
    }
   ],
   "source": [
    "Z = np.random.random(10)\n",
    "Z.sort()\n",
    "print(Z)"
   ]
  },
  {
   "cell_type": "markdown",
   "id": "ebc8ad64",
   "metadata": {},
   "source": [
    "#### 41. How to sum a small array faster than np.sum? (★★☆)"
   ]
  },
  {
   "cell_type": "code",
   "execution_count": 92,
   "id": "e7ac9923",
   "metadata": {},
   "outputs": [
    {
     "data": {
      "text/plain": [
       "45"
      ]
     },
     "execution_count": 92,
     "metadata": {},
     "output_type": "execute_result"
    }
   ],
   "source": [
    "Z = np.arange(10)\n",
    "np.add.reduce(Z)"
   ]
  },
  {
   "cell_type": "markdown",
   "id": "4abfb753",
   "metadata": {},
   "source": [
    "#### 42. Consider two random array A and B, check if they are equal (★★☆)"
   ]
  },
  {
   "cell_type": "code",
   "execution_count": 95,
   "id": "d265b5f6",
   "metadata": {},
   "outputs": [
    {
     "name": "stdout",
     "output_type": "stream",
     "text": [
      "False\n"
     ]
    }
   ],
   "source": [
    "A = np.random.randint(0,2,5)\n",
    "B = np.random.randint(0,2,5)\n",
    "equal = np.array_equal(A,B)\n",
    "print(equal)"
   ]
  },
  {
   "cell_type": "markdown",
   "id": "c8fad2be",
   "metadata": {},
   "source": [
    "#### 43. Make an array immutable (read-only) (★★☆)"
   ]
  },
  {
   "cell_type": "code",
   "execution_count": 96,
   "id": "cadce095",
   "metadata": {},
   "outputs": [
    {
     "ename": "ValueError",
     "evalue": "assignment destination is read-only",
     "output_type": "error",
     "traceback": [
      "\u001b[1;31m---------------------------------------------------------------------------\u001b[0m",
      "\u001b[1;31mValueError\u001b[0m                                Traceback (most recent call last)",
      "Cell \u001b[1;32mIn[96], line 3\u001b[0m\n\u001b[0;32m      1\u001b[0m Z \u001b[39m=\u001b[39m np\u001b[39m.\u001b[39mzeros(\u001b[39m10\u001b[39m)\n\u001b[0;32m      2\u001b[0m Z\u001b[39m.\u001b[39mflags\u001b[39m.\u001b[39mwriteable \u001b[39m=\u001b[39m \u001b[39mFalse\u001b[39;00m\n\u001b[1;32m----> 3\u001b[0m Z[\u001b[39m0\u001b[39;49m] \u001b[39m=\u001b[39m \u001b[39m1\u001b[39m\n",
      "\u001b[1;31mValueError\u001b[0m: assignment destination is read-only"
     ]
    }
   ],
   "source": [
    "Z = np.zeros(10)\n",
    "Z.flags.writeable = False\n",
    "Z[0] = 1"
   ]
  },
  {
   "cell_type": "markdown",
   "id": "91b25fb1",
   "metadata": {},
   "source": [
    "#### 44. Consider a random 10x2 matrix representing cartesian coordinates, convert them to polar coordinates (★★☆)"
   ]
  },
  {
   "cell_type": "code",
   "execution_count": 97,
   "id": "3f5fb344",
   "metadata": {},
   "outputs": [
    {
     "name": "stdout",
     "output_type": "stream",
     "text": [
      "[0.97806634 0.89675644 0.82670895 0.61498246 1.00207437 0.69906096\n",
      " 0.46630046 0.88554735 0.73355005 0.77098515]\n",
      "[0.33384306 1.30863672 0.04266241 1.08787176 0.92790346 0.26825678\n",
      " 0.83007454 0.36797083 1.49489501 0.9990905 ]\n"
     ]
    }
   ],
   "source": [
    "Z = np.random.random((10,2))\n",
    "X,Y = Z[:,0], Z[:,1]\n",
    "R = np.sqrt(X**2+Y**2)\n",
    "T = np.arctan2(Y,X)\n",
    "print(R)\n",
    "print(T)"
   ]
  },
  {
   "cell_type": "markdown",
   "id": "7e4116bc",
   "metadata": {},
   "source": [
    "#### 45. Create random vector of size 10 and replace the maximum value by 0 (★★☆)"
   ]
  },
  {
   "cell_type": "code",
   "execution_count": 98,
   "id": "b4e895f6",
   "metadata": {},
   "outputs": [
    {
     "name": "stdout",
     "output_type": "stream",
     "text": [
      "[0.         0.7627536  0.4881548  0.55816513 0.61499122 0.66048061\n",
      " 0.35424295 0.4554489  0.58056834 0.44968503]\n"
     ]
    }
   ],
   "source": [
    "Z = np.random.random(10)\n",
    "Z[Z.argmax()] = 0\n",
    "print(Z)"
   ]
  },
  {
   "cell_type": "markdown",
   "id": "f5b68c55",
   "metadata": {},
   "source": [
    "#### 46. Create a structured array with `x` and `y` coordinates covering the [0,1]x[0,1] area (★★☆)"
   ]
  },
  {
   "cell_type": "code",
   "execution_count": 99,
   "id": "32fd3691",
   "metadata": {},
   "outputs": [
    {
     "name": "stdout",
     "output_type": "stream",
     "text": [
      "[[(0.  , 0.  ) (0.25, 0.  ) (0.5 , 0.  ) (0.75, 0.  ) (1.  , 0.  )]\n",
      " [(0.  , 0.25) (0.25, 0.25) (0.5 , 0.25) (0.75, 0.25) (1.  , 0.25)]\n",
      " [(0.  , 0.5 ) (0.25, 0.5 ) (0.5 , 0.5 ) (0.75, 0.5 ) (1.  , 0.5 )]\n",
      " [(0.  , 0.75) (0.25, 0.75) (0.5 , 0.75) (0.75, 0.75) (1.  , 0.75)]\n",
      " [(0.  , 1.  ) (0.25, 1.  ) (0.5 , 1.  ) (0.75, 1.  ) (1.  , 1.  )]]\n"
     ]
    }
   ],
   "source": [
    "Z = np.zeros((5,5), [('x',float),('y',float)])\n",
    "Z['x'], Z['y'] = np.meshgrid(np.linspace(0,1,5),\n",
    "                             np.linspace(0,1,5))\n",
    "print(Z)"
   ]
  },
  {
   "cell_type": "markdown",
   "id": "378bc4e9",
   "metadata": {},
   "source": [
    "#### 47. Given two arrays, X and Y, construct the Cauchy matrix C (Cij =1/(xi - yj)) (★★☆)"
   ]
  },
  {
   "cell_type": "code",
   "execution_count": 100,
   "id": "43282e51",
   "metadata": {},
   "outputs": [
    {
     "name": "stdout",
     "output_type": "stream",
     "text": [
      "3638.163637117973\n"
     ]
    }
   ],
   "source": [
    "X = np.arange(8)\n",
    "Y = X + 0.5\n",
    "C = 1.0 / np.subtract.outer(X, Y)\n",
    "print(np.linalg.det(C))"
   ]
  },
  {
   "cell_type": "markdown",
   "id": "7f45d2f9",
   "metadata": {},
   "source": [
    "#### 48. Print the minimum and maximum representable value for each numpy scalar type (★★☆)"
   ]
  },
  {
   "cell_type": "code",
   "execution_count": 101,
   "id": "a7f37b9e",
   "metadata": {},
   "outputs": [
    {
     "name": "stdout",
     "output_type": "stream",
     "text": [
      "-128\n",
      "127\n",
      "-2147483648\n",
      "2147483647\n",
      "-9223372036854775808\n",
      "9223372036854775807\n",
      "-3.4028235e+38\n",
      "3.4028235e+38\n",
      "1.1920929e-07\n",
      "-1.7976931348623157e+308\n",
      "1.7976931348623157e+308\n",
      "2.220446049250313e-16\n"
     ]
    }
   ],
   "source": [
    "for dtype in [np.int8, np.int32, np.int64]:\n",
    "   print(np.iinfo(dtype).min)\n",
    "   print(np.iinfo(dtype).max)\n",
    "for dtype in [np.float32, np.float64]:\n",
    "   print(np.finfo(dtype).min)\n",
    "   print(np.finfo(dtype).max)\n",
    "   print(np.finfo(dtype).eps)"
   ]
  },
  {
   "cell_type": "markdown",
   "id": "1d269f07",
   "metadata": {},
   "source": [
    "#### 49. How to print all the values of an array? (★★☆)"
   ]
  },
  {
   "cell_type": "code",
   "execution_count": 102,
   "id": "fde90b07",
   "metadata": {},
   "outputs": [
    {
     "name": "stdout",
     "output_type": "stream",
     "text": [
      "[[0. 0. 0. 0. 0. 0. 0. 0. 0. 0. 0. 0. 0. 0. 0. 0. 0. 0. 0. 0. 0. 0. 0. 0.\n",
      "  0. 0. 0. 0. 0. 0. 0. 0. 0. 0. 0. 0. 0. 0. 0. 0.]\n",
      " [0. 0. 0. 0. 0. 0. 0. 0. 0. 0. 0. 0. 0. 0. 0. 0. 0. 0. 0. 0. 0. 0. 0. 0.\n",
      "  0. 0. 0. 0. 0. 0. 0. 0. 0. 0. 0. 0. 0. 0. 0. 0.]\n",
      " [0. 0. 0. 0. 0. 0. 0. 0. 0. 0. 0. 0. 0. 0. 0. 0. 0. 0. 0. 0. 0. 0. 0. 0.\n",
      "  0. 0. 0. 0. 0. 0. 0. 0. 0. 0. 0. 0. 0. 0. 0. 0.]\n",
      " [0. 0. 0. 0. 0. 0. 0. 0. 0. 0. 0. 0. 0. 0. 0. 0. 0. 0. 0. 0. 0. 0. 0. 0.\n",
      "  0. 0. 0. 0. 0. 0. 0. 0. 0. 0. 0. 0. 0. 0. 0. 0.]\n",
      " [0. 0. 0. 0. 0. 0. 0. 0. 0. 0. 0. 0. 0. 0. 0. 0. 0. 0. 0. 0. 0. 0. 0. 0.\n",
      "  0. 0. 0. 0. 0. 0. 0. 0. 0. 0. 0. 0. 0. 0. 0. 0.]\n",
      " [0. 0. 0. 0. 0. 0. 0. 0. 0. 0. 0. 0. 0. 0. 0. 0. 0. 0. 0. 0. 0. 0. 0. 0.\n",
      "  0. 0. 0. 0. 0. 0. 0. 0. 0. 0. 0. 0. 0. 0. 0. 0.]\n",
      " [0. 0. 0. 0. 0. 0. 0. 0. 0. 0. 0. 0. 0. 0. 0. 0. 0. 0. 0. 0. 0. 0. 0. 0.\n",
      "  0. 0. 0. 0. 0. 0. 0. 0. 0. 0. 0. 0. 0. 0. 0. 0.]\n",
      " [0. 0. 0. 0. 0. 0. 0. 0. 0. 0. 0. 0. 0. 0. 0. 0. 0. 0. 0. 0. 0. 0. 0. 0.\n",
      "  0. 0. 0. 0. 0. 0. 0. 0. 0. 0. 0. 0. 0. 0. 0. 0.]\n",
      " [0. 0. 0. 0. 0. 0. 0. 0. 0. 0. 0. 0. 0. 0. 0. 0. 0. 0. 0. 0. 0. 0. 0. 0.\n",
      "  0. 0. 0. 0. 0. 0. 0. 0. 0. 0. 0. 0. 0. 0. 0. 0.]\n",
      " [0. 0. 0. 0. 0. 0. 0. 0. 0. 0. 0. 0. 0. 0. 0. 0. 0. 0. 0. 0. 0. 0. 0. 0.\n",
      "  0. 0. 0. 0. 0. 0. 0. 0. 0. 0. 0. 0. 0. 0. 0. 0.]\n",
      " [0. 0. 0. 0. 0. 0. 0. 0. 0. 0. 0. 0. 0. 0. 0. 0. 0. 0. 0. 0. 0. 0. 0. 0.\n",
      "  0. 0. 0. 0. 0. 0. 0. 0. 0. 0. 0. 0. 0. 0. 0. 0.]\n",
      " [0. 0. 0. 0. 0. 0. 0. 0. 0. 0. 0. 0. 0. 0. 0. 0. 0. 0. 0. 0. 0. 0. 0. 0.\n",
      "  0. 0. 0. 0. 0. 0. 0. 0. 0. 0. 0. 0. 0. 0. 0. 0.]\n",
      " [0. 0. 0. 0. 0. 0. 0. 0. 0. 0. 0. 0. 0. 0. 0. 0. 0. 0. 0. 0. 0. 0. 0. 0.\n",
      "  0. 0. 0. 0. 0. 0. 0. 0. 0. 0. 0. 0. 0. 0. 0. 0.]\n",
      " [0. 0. 0. 0. 0. 0. 0. 0. 0. 0. 0. 0. 0. 0. 0. 0. 0. 0. 0. 0. 0. 0. 0. 0.\n",
      "  0. 0. 0. 0. 0. 0. 0. 0. 0. 0. 0. 0. 0. 0. 0. 0.]\n",
      " [0. 0. 0. 0. 0. 0. 0. 0. 0. 0. 0. 0. 0. 0. 0. 0. 0. 0. 0. 0. 0. 0. 0. 0.\n",
      "  0. 0. 0. 0. 0. 0. 0. 0. 0. 0. 0. 0. 0. 0. 0. 0.]\n",
      " [0. 0. 0. 0. 0. 0. 0. 0. 0. 0. 0. 0. 0. 0. 0. 0. 0. 0. 0. 0. 0. 0. 0. 0.\n",
      "  0. 0. 0. 0. 0. 0. 0. 0. 0. 0. 0. 0. 0. 0. 0. 0.]\n",
      " [0. 0. 0. 0. 0. 0. 0. 0. 0. 0. 0. 0. 0. 0. 0. 0. 0. 0. 0. 0. 0. 0. 0. 0.\n",
      "  0. 0. 0. 0. 0. 0. 0. 0. 0. 0. 0. 0. 0. 0. 0. 0.]\n",
      " [0. 0. 0. 0. 0. 0. 0. 0. 0. 0. 0. 0. 0. 0. 0. 0. 0. 0. 0. 0. 0. 0. 0. 0.\n",
      "  0. 0. 0. 0. 0. 0. 0. 0. 0. 0. 0. 0. 0. 0. 0. 0.]\n",
      " [0. 0. 0. 0. 0. 0. 0. 0. 0. 0. 0. 0. 0. 0. 0. 0. 0. 0. 0. 0. 0. 0. 0. 0.\n",
      "  0. 0. 0. 0. 0. 0. 0. 0. 0. 0. 0. 0. 0. 0. 0. 0.]\n",
      " [0. 0. 0. 0. 0. 0. 0. 0. 0. 0. 0. 0. 0. 0. 0. 0. 0. 0. 0. 0. 0. 0. 0. 0.\n",
      "  0. 0. 0. 0. 0. 0. 0. 0. 0. 0. 0. 0. 0. 0. 0. 0.]\n",
      " [0. 0. 0. 0. 0. 0. 0. 0. 0. 0. 0. 0. 0. 0. 0. 0. 0. 0. 0. 0. 0. 0. 0. 0.\n",
      "  0. 0. 0. 0. 0. 0. 0. 0. 0. 0. 0. 0. 0. 0. 0. 0.]\n",
      " [0. 0. 0. 0. 0. 0. 0. 0. 0. 0. 0. 0. 0. 0. 0. 0. 0. 0. 0. 0. 0. 0. 0. 0.\n",
      "  0. 0. 0. 0. 0. 0. 0. 0. 0. 0. 0. 0. 0. 0. 0. 0.]\n",
      " [0. 0. 0. 0. 0. 0. 0. 0. 0. 0. 0. 0. 0. 0. 0. 0. 0. 0. 0. 0. 0. 0. 0. 0.\n",
      "  0. 0. 0. 0. 0. 0. 0. 0. 0. 0. 0. 0. 0. 0. 0. 0.]\n",
      " [0. 0. 0. 0. 0. 0. 0. 0. 0. 0. 0. 0. 0. 0. 0. 0. 0. 0. 0. 0. 0. 0. 0. 0.\n",
      "  0. 0. 0. 0. 0. 0. 0. 0. 0. 0. 0. 0. 0. 0. 0. 0.]\n",
      " [0. 0. 0. 0. 0. 0. 0. 0. 0. 0. 0. 0. 0. 0. 0. 0. 0. 0. 0. 0. 0. 0. 0. 0.\n",
      "  0. 0. 0. 0. 0. 0. 0. 0. 0. 0. 0. 0. 0. 0. 0. 0.]\n",
      " [0. 0. 0. 0. 0. 0. 0. 0. 0. 0. 0. 0. 0. 0. 0. 0. 0. 0. 0. 0. 0. 0. 0. 0.\n",
      "  0. 0. 0. 0. 0. 0. 0. 0. 0. 0. 0. 0. 0. 0. 0. 0.]\n",
      " [0. 0. 0. 0. 0. 0. 0. 0. 0. 0. 0. 0. 0. 0. 0. 0. 0. 0. 0. 0. 0. 0. 0. 0.\n",
      "  0. 0. 0. 0. 0. 0. 0. 0. 0. 0. 0. 0. 0. 0. 0. 0.]\n",
      " [0. 0. 0. 0. 0. 0. 0. 0. 0. 0. 0. 0. 0. 0. 0. 0. 0. 0. 0. 0. 0. 0. 0. 0.\n",
      "  0. 0. 0. 0. 0. 0. 0. 0. 0. 0. 0. 0. 0. 0. 0. 0.]\n",
      " [0. 0. 0. 0. 0. 0. 0. 0. 0. 0. 0. 0. 0. 0. 0. 0. 0. 0. 0. 0. 0. 0. 0. 0.\n",
      "  0. 0. 0. 0. 0. 0. 0. 0. 0. 0. 0. 0. 0. 0. 0. 0.]\n",
      " [0. 0. 0. 0. 0. 0. 0. 0. 0. 0. 0. 0. 0. 0. 0. 0. 0. 0. 0. 0. 0. 0. 0. 0.\n",
      "  0. 0. 0. 0. 0. 0. 0. 0. 0. 0. 0. 0. 0. 0. 0. 0.]\n",
      " [0. 0. 0. 0. 0. 0. 0. 0. 0. 0. 0. 0. 0. 0. 0. 0. 0. 0. 0. 0. 0. 0. 0. 0.\n",
      "  0. 0. 0. 0. 0. 0. 0. 0. 0. 0. 0. 0. 0. 0. 0. 0.]\n",
      " [0. 0. 0. 0. 0. 0. 0. 0. 0. 0. 0. 0. 0. 0. 0. 0. 0. 0. 0. 0. 0. 0. 0. 0.\n",
      "  0. 0. 0. 0. 0. 0. 0. 0. 0. 0. 0. 0. 0. 0. 0. 0.]\n",
      " [0. 0. 0. 0. 0. 0. 0. 0. 0. 0. 0. 0. 0. 0. 0. 0. 0. 0. 0. 0. 0. 0. 0. 0.\n",
      "  0. 0. 0. 0. 0. 0. 0. 0. 0. 0. 0. 0. 0. 0. 0. 0.]\n",
      " [0. 0. 0. 0. 0. 0. 0. 0. 0. 0. 0. 0. 0. 0. 0. 0. 0. 0. 0. 0. 0. 0. 0. 0.\n",
      "  0. 0. 0. 0. 0. 0. 0. 0. 0. 0. 0. 0. 0. 0. 0. 0.]\n",
      " [0. 0. 0. 0. 0. 0. 0. 0. 0. 0. 0. 0. 0. 0. 0. 0. 0. 0. 0. 0. 0. 0. 0. 0.\n",
      "  0. 0. 0. 0. 0. 0. 0. 0. 0. 0. 0. 0. 0. 0. 0. 0.]\n",
      " [0. 0. 0. 0. 0. 0. 0. 0. 0. 0. 0. 0. 0. 0. 0. 0. 0. 0. 0. 0. 0. 0. 0. 0.\n",
      "  0. 0. 0. 0. 0. 0. 0. 0. 0. 0. 0. 0. 0. 0. 0. 0.]\n",
      " [0. 0. 0. 0. 0. 0. 0. 0. 0. 0. 0. 0. 0. 0. 0. 0. 0. 0. 0. 0. 0. 0. 0. 0.\n",
      "  0. 0. 0. 0. 0. 0. 0. 0. 0. 0. 0. 0. 0. 0. 0. 0.]\n",
      " [0. 0. 0. 0. 0. 0. 0. 0. 0. 0. 0. 0. 0. 0. 0. 0. 0. 0. 0. 0. 0. 0. 0. 0.\n",
      "  0. 0. 0. 0. 0. 0. 0. 0. 0. 0. 0. 0. 0. 0. 0. 0.]\n",
      " [0. 0. 0. 0. 0. 0. 0. 0. 0. 0. 0. 0. 0. 0. 0. 0. 0. 0. 0. 0. 0. 0. 0. 0.\n",
      "  0. 0. 0. 0. 0. 0. 0. 0. 0. 0. 0. 0. 0. 0. 0. 0.]\n",
      " [0. 0. 0. 0. 0. 0. 0. 0. 0. 0. 0. 0. 0. 0. 0. 0. 0. 0. 0. 0. 0. 0. 0. 0.\n",
      "  0. 0. 0. 0. 0. 0. 0. 0. 0. 0. 0. 0. 0. 0. 0. 0.]]\n"
     ]
    }
   ],
   "source": [
    "np.set_printoptions(threshold=float(\"inf\"))\n",
    "Z = np.zeros((40,40))\n",
    "print(Z)"
   ]
  },
  {
   "cell_type": "markdown",
   "id": "ed655678",
   "metadata": {},
   "source": [
    "#### 50. How to find the closest value (to a given scalar) in a vector? (★★☆)"
   ]
  },
  {
   "cell_type": "code",
   "execution_count": 103,
   "id": "55e0812f",
   "metadata": {},
   "outputs": [
    {
     "name": "stdout",
     "output_type": "stream",
     "text": [
      "22\n"
     ]
    }
   ],
   "source": [
    "Z = np.arange(100)\n",
    "v = np.random.uniform(0,100)\n",
    "index = (np.abs(Z-v)).argmin()\n",
    "print(Z[index])"
   ]
  },
  {
   "cell_type": "markdown",
   "id": "3f73f88f",
   "metadata": {},
   "source": [
    "#### 51. Create a structured array representing a position (x,y) and a color (r,g,b) (★★☆)"
   ]
  },
  {
   "cell_type": "code",
   "execution_count": 104,
   "id": "74b51105",
   "metadata": {},
   "outputs": [
    {
     "name": "stdout",
     "output_type": "stream",
     "text": [
      "[((0., 0.), (0., 0., 0.)) ((0., 0.), (0., 0., 0.))\n",
      " ((0., 0.), (0., 0., 0.)) ((0., 0.), (0., 0., 0.))\n",
      " ((0., 0.), (0., 0., 0.)) ((0., 0.), (0., 0., 0.))\n",
      " ((0., 0.), (0., 0., 0.)) ((0., 0.), (0., 0., 0.))\n",
      " ((0., 0.), (0., 0., 0.)) ((0., 0.), (0., 0., 0.))]\n"
     ]
    },
    {
     "name": "stderr",
     "output_type": "stream",
     "text": [
      "C:\\Users\\ivanm\\AppData\\Local\\Temp\\ipykernel_2324\\274409719.py:1: FutureWarning: Passing (type, 1) or '1type' as a synonym of type is deprecated; in a future version of numpy, it will be understood as (type, (1,)) / '(1,)type'.\n",
      "  Z = np.zeros(10, [ ('position', [ ('x', float, 1),\n"
     ]
    }
   ],
   "source": [
    "Z = np.zeros(10, [ ('position', [ ('x', float, 1),\n",
    "                                  ('y', float, 1)]),\n",
    "                   ('color',    [ ('r', float, 1),\n",
    "                                  ('g', float, 1),\n",
    "                                  ('b', float, 1)])])\n",
    "print(Z)"
   ]
  },
  {
   "cell_type": "markdown",
   "id": "db83eee0",
   "metadata": {},
   "source": [
    "#### 52. Consider a random vector with shape (100,2) representing coordinates, find point by point distances (★★☆)"
   ]
  },
  {
   "cell_type": "code",
   "execution_count": 105,
   "id": "10884922",
   "metadata": {},
   "outputs": [
    {
     "name": "stdout",
     "output_type": "stream",
     "text": [
      "[[0.         0.67330238 0.03353352 0.8050943  0.60835661 0.70864812\n",
      "  0.10083276 0.40494542 0.69345089 0.85684095 0.33772535 0.29240886\n",
      "  0.33895332 0.65331376 0.2509503  0.8026033  0.60072042 0.48558319\n",
      "  0.30354874 0.90494314 0.73795785 0.40228349 0.13661412 0.45891192\n",
      "  0.45827108 0.75087949 0.52262967 0.66188781 0.56913284 0.56838632\n",
      "  0.41187346 0.50117059 0.31892075 0.66858179 0.49916993 0.29234186\n",
      "  0.54025693 0.21405581 0.65835824 0.14280409 0.22143168 0.28505783\n",
      "  0.52832123 0.19903272 0.43559644 0.33582828 0.5171774  0.22099986\n",
      "  0.67379505 0.60446165 0.47544323 0.77658199 0.71715479 0.2322925\n",
      "  0.39745497 0.64771265 0.39813644 0.17818051 0.25986205 0.49281742\n",
      "  0.84708551 0.48829932 0.42800027 0.63019165 0.58233072 0.06870899\n",
      "  0.3208029  0.80170751 0.70814222 0.4082804  0.40783942 0.92441993\n",
      "  0.36485502 0.64339488 0.26840852 0.7654336  0.28072349 0.62310161\n",
      "  0.44387039 0.68680422 0.63846694 0.31226522 0.37808249 0.40689059\n",
      "  0.26315931 0.89187295 0.47279854 0.76283917 0.90516391 0.48143211\n",
      "  0.35598105 0.55494857 0.83756998 0.44219336 0.67284802 0.44491688\n",
      "  0.3286184  0.30712707 0.57387266 0.34993027]\n",
      " [0.67330238 0.         0.65016413 0.3642232  0.3455234  0.76832336\n",
      "  0.75160194 0.78251088 0.49439574 0.8959389  0.65835898 0.40051709\n",
      "  0.73249386 0.18357504 0.65233852 0.13481266 0.2155425  0.59910264\n",
      "  0.52863597 0.83271075 0.06558321 0.28935198 0.67360324 0.23341624\n",
      "  0.26515078 0.53856796 0.56078929 0.39480482 0.21697099 0.22994319\n",
      "  0.47500322 0.3964059  0.92998143 0.63207485 0.1745994  0.69367133\n",
      "  0.34352595 0.45973538 0.0154904  0.75000207 0.6823562  0.59724565\n",
      "  0.50265582 0.47465397 0.91644691 0.43326496 0.49146892 0.7385059\n",
      "  0.61289013 0.39657652 0.45025349 0.12323158 0.21426557 0.63117126\n",
      "  0.82202406 0.68111829 0.86301669 0.62083884 0.45086929 0.71752256\n",
      "  0.35980555 0.77541326 0.25216058 0.3308104  0.16493722 0.67416753\n",
      "  0.45765915 0.12874233 0.03489806 0.53700081 1.02243102 0.28013846\n",
      "  0.36287469 0.1748875  0.51295916 0.72632342 0.66444304 0.37891176\n",
      "  0.2802392  0.44974535 0.6314895  0.41992526 0.37261366 0.80579515\n",
      "  0.46561106 0.77838248 0.71005852 0.72708702 0.37264829 0.2489515\n",
      "  0.53829793 0.69236784 0.80543431 0.24921456 0.34149325 0.33059369\n",
      "  0.36152067 0.37108817 0.74750267 0.32821618]\n",
      " [0.03353352 0.65016413 0.         0.7733988  0.57596467 0.67771223\n",
      "  0.1079076  0.38159893 0.65996397 0.8266198  0.30838202 0.27790444\n",
      "  0.31428895 0.63780592 0.26916794 0.77815005 0.58662845 0.49532115\n",
      "  0.30812912 0.87281028 0.71516681 0.38479456 0.11253926 0.44046172\n",
      "  0.44318821 0.7173551  0.48952167 0.6289963  0.53965082 0.53852609\n",
      "  0.37834651 0.497104   0.32116951 0.63568185 0.47564716 0.2660411\n",
      "  0.50792147 0.19348597 0.63507937 0.17512186 0.19593103 0.25319175\n",
      "  0.49481568 0.17849829 0.42212352 0.30312475 0.519338   0.20260775\n",
      "  0.64067665 0.5714333  0.44197486 0.75120281 0.68771762 0.24830662\n",
      "  0.37753418 0.61567101 0.38196425 0.19265113 0.22875311 0.46371679\n",
      "  0.81592224 0.46187043 0.40800148 0.59805667 0.55441241 0.04946053\n",
      "  0.28770238 0.77818775 0.68505376 0.41440896 0.41239977 0.8976142\n",
      "  0.33426708 0.61467031 0.26980384 0.73307969 0.29958963 0.59029419\n",
      "  0.41467978 0.65351324 0.60572604 0.28062125 0.34660801 0.385192\n",
      "  0.25692884 0.85913991 0.44374746 0.73051939 0.87458441 0.45248997\n",
      "  0.32275586 0.52412658 0.80574596 0.41535846 0.64066955 0.43490336\n",
      "  0.31248175 0.28135828 0.54444279 0.33032555]\n",
      " [0.8050943  0.3642232  0.7733988  0.         0.20296552 0.53576959\n",
      "  0.84749415 0.71710048 0.23284003 0.62247564 0.62119791 0.6226474\n",
      "  0.69633977 0.54693515 0.88815917 0.33000255 0.57042899 0.91321511\n",
      "  0.78903833 0.52263301 0.37324484 0.54631368 0.74101567 0.51224808\n",
      "  0.56217931 0.24082161 0.41821622 0.17369714 0.25865535 0.2532257\n",
      "  0.43079702 0.72544351 0.95988157 0.39819395 0.4138813  0.68051958\n",
      "  0.26838855 0.62856261 0.3624451  0.92464306 0.70650593 0.59734609\n",
      "  0.36431933 0.63975028 0.86701019 0.47299931 0.82136882 0.76498397\n",
      "  0.37349717 0.22846785 0.36813502 0.29411647 0.1514092  0.86202747\n",
      "  0.76803745 0.46618662 0.81857276 0.83100432 0.54542849 0.59556936\n",
      "  0.05612844 0.66364744 0.50272524 0.1776424  0.27869381 0.77426643\n",
      "  0.49223145 0.36060841 0.36352746 0.83411747 1.04077465 0.29017302\n",
      "  0.44222565 0.21766899 0.75725993 0.45516691 0.90941203 0.20172224\n",
      "  0.37520315 0.19471994 0.41583482 0.49284054 0.42705388 0.74342389\n",
      "  0.69767615 0.46075463 0.59863017 0.45742929 0.125867   0.34366381\n",
      "  0.50990577 0.53246731 0.51769727 0.40286341 0.13680811 0.63558572\n",
      "  0.59218038 0.52452361 0.58426841 0.54743229]\n",
      " [0.60835661 0.3455234  0.57596467 0.20296552 0.         0.4259378\n",
      "  0.64597993 0.52754551 0.15674433 0.55041848 0.42351498 0.46045079\n",
      "  0.5000418  0.50038654 0.71621627 0.38761144 0.50251666 0.78115651\n",
      "  0.63169452 0.49411784 0.38765529 0.40958492 0.53853363 0.3933032\n",
      "  0.44546396 0.21145337 0.2444061  0.06697994 0.13948699 0.12646047\n",
      "  0.22898611 0.61530196 0.75828771 0.28737276 0.30099267 0.48053929\n",
      "  0.06816777 0.4470654  0.33558484 0.73364029 0.50387452 0.3950737\n",
      "  0.18434245 0.4564324  0.67630424 0.27321465 0.70628369 0.56255961\n",
      "  0.26754206 0.05198918 0.16898458 0.34609148 0.18856054 0.68915968\n",
      "  0.57674859 0.34085367 0.62602885 0.65215255 0.35090406 0.42099054\n",
      "  0.25291687 0.48722214 0.37056012 0.02775421 0.18939632 0.57388791\n",
      "  0.29107191 0.41019903 0.36383185 0.6941298  0.84065232 0.42398593\n",
      "  0.25334506 0.17451253 0.59447208 0.38120016 0.74029854 0.03503065\n",
      "  0.20662648 0.11828924 0.28970941 0.29742682 0.23362001 0.55366445\n",
      "  0.53349905 0.44461862 0.42005602 0.3818529  0.3198384  0.18806843\n",
      "  0.30850778 0.37340448 0.46149034 0.25131543 0.06625012 0.51491101\n",
      "  0.43676806 0.34764292 0.4288134  0.39273907]\n",
      " [0.70864812 0.76832336 0.67771223 0.53576959 0.4259378  0.\n",
      "  0.68219244 0.36597467 0.30524217 0.15377555 0.37374403 0.73557363\n",
      "  0.4019402  0.90619599 0.91930323 0.81060693 0.8953265  1.07413627\n",
      "  0.88822824 0.21267884 0.81339663 0.743003   0.57921651 0.75282014\n",
      "  0.79954136 0.29981846 0.2335829  0.3931299  0.5527967  0.53948466\n",
      "  0.36812401 0.95746928 0.66294644 0.14130043 0.68284966 0.43100666\n",
      "  0.42776214 0.66912002 0.75713489 0.85100124 0.49867505 0.42547968\n",
      "  0.27795596 0.6690134  0.48361161 0.47090448 1.03341492 0.53114839\n",
      "  0.16464653 0.37396339 0.34729147 0.76904602 0.60419412 0.8929729\n",
      "  0.41164778 0.08875392 0.45739223 0.84025884 0.54671972 0.22642612\n",
      "  0.58967661 0.26621211 0.71797187 0.44579166 0.60542381 0.64464707\n",
      "  0.46361751 0.83474744 0.78883488 0.980644   0.70892697 0.81952767\n",
      "  0.52089579 0.60038625 0.84287839 0.10921521 0.94938147 0.39562191\n",
      "  0.5474125  0.34881353 0.13683494 0.51275234 0.49349547 0.38474492\n",
      "  0.78891916 0.22859284 0.24553512 0.10538784 0.65552788 0.55591663\n",
      "  0.3755587  0.15374364 0.14054294 0.60231252 0.45227146 0.85446032\n",
      "  0.73198097 0.61504154 0.14875379 0.69931976]\n",
      " [0.10083276 0.75160194 0.1079076  0.84749415 0.64597993 0.68219244\n",
      "  0.         0.34698521 0.71098319 0.82404039 0.30971326 0.38578597\n",
      "  0.28853024 0.74534052 0.34016841 0.87719262 0.69446223 0.58232243\n",
      "  0.40369632 0.88714513 0.81695679 0.49182664 0.11243151 0.5469127\n",
      "  0.5509106  0.76506482 0.52207143 0.69310548 0.6265397  0.62392539\n",
      "  0.43093798 0.60156063 0.21819106 0.6623187  0.57708162 0.25157396\n",
      "  0.57920349 0.29962767 0.73635026 0.19396206 0.18395386 0.2782853\n",
      "  0.53910371 0.28479411 0.35052408 0.37497197 0.61771065 0.15763709\n",
      "  0.67112368 0.63424621 0.49694215 0.84854307 0.7738655  0.32482807\n",
      "  0.32865687 0.6314318  0.31950244 0.27349326 0.31397156 0.4579752\n",
      "  0.8932203  0.44029515 0.51348337 0.67007483 0.64637799 0.07795859\n",
      "  0.35526487 0.87878907 0.78648491 0.50756766 0.30713432 0.9913447\n",
      "  0.41908363 0.70377916 0.36920522 0.75111031 0.36832473 0.65583068\n",
      "  0.503794   0.71079608 0.63031425 0.3612725  0.42662947 0.34327735\n",
      "  0.36256805 0.88117605 0.43816245 0.74816226 0.95484321 0.54205286\n",
      "  0.36244027 0.5298473  0.81725774 0.51110375 0.71196636 0.54236997\n",
      "  0.42007955 0.38066291 0.53932739 0.43633624]\n",
      " [0.40494542 0.78251088 0.38159893 0.71710048 0.52754551 0.36597467\n",
      "  0.34698521 0.         0.51235626 0.49177956 0.12620018 0.55932248\n",
      "  0.06967003 0.85459283 0.64978655 0.876632   0.82090221 0.85870897\n",
      "  0.66430722 0.57861972 0.84404355 0.62131577 0.26916912 0.65781861\n",
      "  0.68801288 0.54883032 0.3028248  0.54341772 0.58637989 0.57697919\n",
      "  0.31419431 0.8059516  0.29755293 0.3978365  0.63289207 0.12215519\n",
      "  0.48031836 0.46678692 0.76763821 0.5361462  0.18668199 0.19922227\n",
      "  0.35290459 0.4588316  0.14994764 0.35460657 0.85597974 0.18967987\n",
      "  0.41579423 0.49031424 0.36102594 0.83840247 0.70705548 0.62744861\n",
      "  0.05257626 0.3434174  0.1042263  0.57135737 0.37601001 0.14809907\n",
      "  0.77194885 0.10114312 0.61779374 0.55528232 0.6291915  0.33627188\n",
      "  0.33177083 0.89024795 0.81355253 0.7697779  0.352103   0.94567444\n",
      "  0.42752537 0.66188387 0.61980869 0.45709345 0.68043995 0.51803305\n",
      "  0.50318152 0.53354456 0.36480151 0.38004189 0.41229276 0.02632472\n",
      "  0.58244943 0.58803603 0.13425073 0.45351675 0.84139531 0.53362451\n",
      "  0.24430443 0.23276149 0.5064964  0.54341849 0.58731085 0.71589495\n",
      "  0.57521933 0.47244422 0.21738968 0.56267224]\n",
      " [0.69345089 0.49439574 0.65996397 0.23284003 0.15674433 0.30524217\n",
      "  0.71098319 0.51235626 0.         0.4088254  0.43738328 0.59499505\n",
      "  0.50552655 0.65587165 0.83712369 0.51475734 0.65921861 0.92588665\n",
      "  0.76556103 0.33906593 0.52941896 0.55792935 0.59880212 0.54662984\n",
      "  0.59848382 0.06102806 0.21086838 0.0996078  0.29604055 0.28312751\n",
      "  0.28211111 0.76790467 0.78219276 0.16572571 0.45662814 0.50214468\n",
      "  0.19917205 0.56471941 0.48588063 0.8289926  0.54453175 0.43663743\n",
      "  0.17405936 0.57145793 0.66084928 0.36586541 0.85703941 0.59848131\n",
      "  0.14125271 0.11704392 0.21806455 0.47368748 0.30644408 0.80965359\n",
      "  0.56479444 0.23335044 0.6164093  0.76703578 0.45252058 0.37761267\n",
      "  0.28815095 0.4453235  0.52119991 0.1647869  0.34483321 0.64707438\n",
      "  0.37566839 0.54115149 0.50872262 0.83645521 0.85450634 0.514313\n",
      "  0.37273366 0.31963159 0.7253064  0.2373095  0.86341458 0.12179631\n",
      "  0.34935159 0.04598234 0.18329044 0.40089768 0.34732786 0.53830703\n",
      "  0.66468204 0.28801987 0.38419514 0.23873977 0.35633936 0.33823845\n",
      "  0.34916629 0.30642568 0.31241426 0.39951986 0.15590025 0.66613975\n",
      "  0.57618024 0.47475908 0.35551075 0.53388285]\n",
      " [0.85684095 0.8959389  0.8266198  0.62247564 0.55041848 0.15377555\n",
      "  0.82404039 0.49177956 0.4088254  0.         0.51958453 0.88860523\n",
      "  0.53790174 1.04373904 1.07198859 0.92357213 1.03679385 1.2275763\n",
      "  1.04199463 0.144554   0.93575781 0.89242778 0.72489354 0.89933447\n",
      "  0.94722561 0.38262522 0.38459828 0.50615441 0.68472493 0.67128544\n",
      "  0.52051686 1.10754736 0.78139241 0.26650272 0.82485169 0.57268905\n",
      "  0.56355697 0.8228907  0.88591201 0.99844969 0.64233765 0.5760571\n",
      "  0.42360672 0.8227773  0.58693617 0.62390515 1.18509972 0.66940367\n",
      "  0.28362092 0.4996779  0.49508975 0.88251146 0.71526109 1.04580562\n",
      "  0.53107199 0.23635955 0.57095313 0.99272396 0.70044086 0.36633225\n",
      "  0.6718445  0.39093038 0.86563524 0.5662819  0.7369162  0.79149617\n",
      "  0.61714645 0.949916   0.9133807  1.13409919 0.81540502 0.9124827\n",
      "  0.67172788 0.72334974 0.99665289 0.17152053 1.10217942 0.51724972\n",
      "  0.69261866 0.45479441 0.27548638 0.6658342  0.64406532 0.50625612\n",
      "  0.94259739 0.19924399 0.3862866  0.17019041 0.73174583 0.69777763\n",
      "  0.52917624 0.30361396 0.10785531 0.74768368 0.56424306 1.00420539\n",
      "  0.88410612 0.7674546  0.2848055  0.85047009]\n",
      " [0.33772535 0.65835898 0.30838202 0.62119791 0.42351498 0.37374403\n",
      "  0.30971326 0.12620018 0.43738328 0.51958453 0.         0.44250413\n",
      "  0.07749808 0.72852017 0.56538132 0.75622921 0.69544799 0.75604159\n",
      "  0.56183647 0.57744097 0.72059999 0.49769676 0.20561459 0.53257136\n",
      "  0.56414007 0.48336256 0.22984006 0.44966308 0.46741965 0.45885175\n",
      "  0.19877136 0.68817884 0.34494357 0.35838463 0.50680182 0.06587249\n",
      "  0.36955024 0.35364915 0.64335775 0.47888969 0.12577374 0.07735896\n",
      "  0.26550721 0.34760196 0.26077596 0.22853504 0.74359251 0.16776204\n",
      "  0.37024066 0.39282318 0.25454479 0.7188513  0.59503716 0.54081768\n",
      "  0.16389116 0.32230997 0.20796632 0.4855004  0.25342841 0.15535562\n",
      "  0.67428415 0.16411293 0.49255382 0.45109725 0.50795308 0.27191222\n",
      "  0.20557997 0.76859773 0.68990484 0.66478312 0.42066607 0.83267518\n",
      "  0.30143557 0.54461372 0.51631165 0.4420974  0.5961413  0.41950857\n",
      "  0.37838613 0.44986316 0.32543348 0.25412558 0.28684467 0.14790085\n",
      "  0.47325465 0.57292788 0.13542194 0.43906371 0.74254591 0.40991634\n",
      "  0.12261847 0.22052578 0.50759915 0.41748944 0.48682592 0.59525052\n",
      "  0.45526393 0.3487634  0.2361577  0.43983484]\n",
      " [0.29240886 0.40051709 0.27790444 0.6226474  0.46045079 0.73557363\n",
      "  0.38578597 0.55932248 0.59499505 0.88860523 0.44250413 0.\n",
      "  0.49174997 0.36090908 0.26744768 0.53471003 0.30877836 0.34020377\n",
      "  0.17136537 0.8896761  0.46207264 0.1136681  0.34426088 0.17163234\n",
      "  0.16586224 0.65587873 0.50514006 0.52631015 0.36414507 0.36952254\n",
      "  0.36842715 0.24664805 0.59347962 0.64285702 0.23656298 0.44006264\n",
      "  0.39980157 0.09628641 0.3867444  0.34996505 0.39332737 0.36515264\n",
      "  0.47687975 0.10829002 0.65092491 0.2647056  0.30380336 0.43326499\n",
      "  0.63704042 0.48139626 0.40484961 0.51541413 0.49968196 0.24250786\n",
      "  0.5780372  0.6533071  0.60153162 0.22241031 0.19523336 0.57383593\n",
      "  0.65133866 0.60359639 0.14846284 0.47220811 0.3546413  0.31596861\n",
      "  0.27310363 0.52850909 0.43431496 0.24727059 0.68640837 0.67109356\n",
      "  0.22610219 0.4209807  0.13504493 0.75180707 0.28709824 0.48816443\n",
      "  0.25444732 0.56990311 0.62228503 0.2228213  0.2536699  0.57394525\n",
      "  0.0750431  0.85694771 0.55723437 0.75048737 0.69664106 0.28046945\n",
      "  0.36992683 0.59904848 0.83471243 0.21978401 0.51195498 0.16307408\n",
      "  0.03910649 0.12360351 0.64042721 0.07785126]\n",
      " [0.33895332 0.73249386 0.31428895 0.69633977 0.5000418  0.4019402\n",
      "  0.28853024 0.06967003 0.50552655 0.53790174 0.07749808 0.49174997\n",
      "  0.         0.79532446 0.58152252 0.83257961 0.75954772 0.78903937\n",
      "  0.5946395  0.61241386 0.79532218 0.55757031 0.20244182 0.5962821\n",
      "  0.6244091  0.54811314 0.29510704 0.52392413 0.54438753 0.53599153\n",
      "  0.27625719 0.73837292 0.27940545 0.41068405 0.57719157 0.05259748\n",
      "  0.44690456 0.39841245 0.71737281 0.47334127 0.11845334 0.13822432\n",
      "  0.33680818 0.3900911  0.18439448 0.30013943 0.78700604 0.13178846\n",
      "  0.42553456 0.46787831 0.33109181 0.79549772 0.67252631 0.55884327\n",
      "  0.09097649 0.36501106 0.13118066 0.50276486 0.31228644 0.1755869\n",
      "  0.74988735 0.15193193 0.55633039 0.52769339 0.5841721  0.2702858\n",
      "  0.27627244 0.84441475 0.76448347 0.70014755 0.34904971 0.91016518\n",
      "  0.37248613 0.62183674 0.55016303 0.48326523 0.61223595 0.49488829\n",
      "  0.45225472 0.52110327 0.37722999 0.32138223 0.36000496 0.08226304\n",
      "  0.51321661 0.61514831 0.15697228 0.47992237 0.8184591  0.48483768\n",
      "  0.19972978 0.2558193  0.54086897 0.48887793 0.56277825 0.64971775\n",
      "  0.50892444 0.40922426 0.25485164 0.49832873]\n",
      " [0.65331376 0.18357504 0.63780592 0.54693515 0.50038654 0.90619599\n",
      "  0.74534052 0.85459283 0.65587165 1.04373904 0.72852017 0.36090908\n",
      "  0.79532446 0.         0.56478255 0.27958934 0.05951632 0.45287122\n",
      "  0.43421081 0.99443477 0.19919266 0.25443607 0.6905386  0.20347302\n",
      "  0.19505607 0.70543332 0.68279715 0.55795329 0.3614201  0.37474245\n",
      "  0.57255936 0.2501634  0.94679216 0.77724171 0.22915641 0.7493121\n",
      "  0.48023806 0.44687796 0.18449345 0.69640615 0.72095935 0.65722767\n",
      "  0.63001601 0.46136702 0.97283566 0.50181404 0.3365072  0.77062673\n",
      "  0.76082148 0.54784317 0.56647795 0.28897026 0.3959848  0.54913844\n",
      "  0.88624443 0.81748825 0.92021475 0.55481809 0.48653564 0.81803046\n",
      "  0.5433028  0.86774612 0.24199323 0.49141462 0.31112144 0.67280704\n",
      "  0.52352861 0.25567707 0.19312556 0.40978939 1.04035171 0.43041791\n",
      "  0.42957028 0.34511274 0.43388517 0.87841876 0.5691595  0.53529961\n",
      "  0.36880009 0.61346895 0.77114456 0.47461176 0.44923251 0.87489171\n",
      "  0.40401937 0.94356479 0.80695901 0.87868838 0.55315287 0.35234044\n",
      "  0.61919491 0.80906726 0.96039381 0.31839226 0.51001614 0.22639042\n",
      "  0.32532542 0.39097196 0.86179979 0.31288477]\n",
      " [0.2509503  0.65233852 0.26916794 0.88815917 0.71621627 0.91930323\n",
      "  0.34016841 0.64978655 0.83712369 1.07198859 0.56538132 0.26744768\n",
      "  0.58152252 0.56478255 0.         0.78691098 0.50545998 0.25116435\n",
      "  0.13063228 1.09951879 0.7088892  0.36593515 0.38148743 0.41934478\n",
      "  0.39031981 0.89792718 0.70691068 0.77983962 0.63038423 0.63501501\n",
      "  0.57598604 0.34295663 0.54997788 0.85349048 0.50018249 0.53149243\n",
      "  0.65146825 0.27241356 0.64000823 0.17610621 0.46321101 0.49854433\n",
      "  0.69473787 0.26604025 0.68615448 0.47621687 0.31789712 0.47101453\n",
      "  0.85305709 0.72969202 0.62830095 0.77245424 0.76711096 0.02750285\n",
      "  0.64664593 0.84744178 0.64905168 0.07991195 0.38919039 0.71893978\n",
      "  0.91834633 0.72538034 0.40782648 0.73102609 0.62206162 0.31707161\n",
      "  0.47291727 0.77624439 0.68409031 0.19758562 0.62968353 0.92982424\n",
      "  0.46617468 0.68840674 0.13953151 0.95858141 0.03080276 0.74062415\n",
      "  0.51500574 0.81822111 0.82741773 0.43776979 0.4902793  0.65421048\n",
      "  0.19319367 1.07622364 0.6994536  0.95656437 0.96407736 0.54459803\n",
      "  0.54552109 0.76888761 1.03715883 0.48597702 0.77221266 0.33911459\n",
      "  0.30211753 0.36860641 0.79714042 0.34499502]\n",
      " [0.8026033  0.13481266 0.77815005 0.33000255 0.38761144 0.81060693\n",
      "  0.87719262 0.876632   0.51475734 0.92357213 0.75622921 0.53471003\n",
      "  0.83257961 0.27958934 0.78691098 0.         0.32688148 0.72234655\n",
      "  0.66244011 0.84124155 0.08292639 0.42408666 0.79358587 0.36821604\n",
      "  0.39844695 0.54678    0.62575831 0.41892596 0.29062337 0.30080562\n",
      "  0.56290598 0.51783361 1.04704713 0.66985725 0.30402278 0.79809616\n",
      "  0.40817348 0.59023777 0.14803392 0.88362605 0.79444609 0.70187163\n",
      "  0.56536715 0.6050011  1.01686342 0.53960951 0.61021348 0.85220031\n",
      "  0.64787632 0.43909915 0.52569638 0.04158798 0.20831327 0.76590281\n",
      "  0.91976365 0.72748379 0.96375755 0.75551368 0.56969475 0.79476679\n",
      "  0.30526679 0.85707935 0.38624766 0.36547937 0.24843576 0.79933883\n",
      "  0.56419345 0.03148206 0.10310616 0.6657075  1.13833543 0.15202562\n",
      "  0.47371886 0.21948994 0.64761434 0.75206429 0.7985951  0.41555386\n",
      "  0.38692632 0.468806   0.67583962 0.53294258 0.47826811 0.90116427\n",
      "  0.60039264 0.78201318 0.79008333 0.75348981 0.29345289 0.35083299\n",
      "  0.633818   0.75744055 0.82512774 0.36733201 0.36002065 0.46120021\n",
      "  0.4958109  0.49708616 0.81314934 0.46129648]\n",
      " [0.60072042 0.2155425  0.58662845 0.57042899 0.50251666 0.8953265\n",
      "  0.69446223 0.82090221 0.65921861 1.03679385 0.69544799 0.30877836\n",
      "  0.75954772 0.05951632 0.50545998 0.32688148 0.         0.39801411\n",
      "  0.37485533 0.99551002 0.24439059 0.20778398 0.64460866 0.16326565\n",
      "  0.14400962 0.71168505 0.66747137 0.56355126 0.36322741 0.37609122\n",
      "  0.55027609 0.19385529 0.89917327 0.77076366 0.21247691 0.71203652\n",
      "  0.47461387 0.39807499 0.21245811 0.63912657 0.67966368 0.62217132\n",
      "  0.61754294 0.41220077 0.93411134 0.47205303 0.2836972  0.72736429\n",
      "  0.75583532 0.54725989 0.55084967 0.33099837 0.41912335 0.490078\n",
      "  0.85013097 0.80663064 0.88200933 0.49687869 0.44808333 0.79346446\n",
      "  0.57217004 0.84007281 0.2032348  0.49673732 0.31642717 0.62334765\n",
      "  0.49246432 0.30555014 0.2325566  0.35138474 0.99256939 0.47883846\n",
      "  0.40143677 0.3599011  0.37540893 0.8746275  0.50966009 0.53752848\n",
      "  0.35013954 0.61865757 0.76216591 0.44158417 0.42342335 0.84020438\n",
      "  0.3476292  0.94712764 0.78129155 0.87463572 0.5881316  0.33950436\n",
      "  0.5907596  0.79033276 0.95765942 0.29672629 0.5197075  0.16764247\n",
      "  0.27490472 0.35128936 0.8417177  0.26771599]\n",
      " [0.48558319 0.59910264 0.49532115 0.91321511 0.78115651 1.07413627\n",
      "  0.58232243 0.85870897 0.92588665 1.2275763  0.75604159 0.34020377\n",
      "  0.78903937 0.45287122 0.25116435 0.72234655 0.39801411 0.\n",
      "  0.19457976 1.22939729 0.63942091 0.37244406 0.60146091 0.40096931\n",
      "  0.3515528  0.98600157 0.8450241  0.84813518 0.66235804 0.67139281\n",
      "  0.70823033 0.20463017 0.79715992 0.98291338 0.49942573 0.73667094\n",
      "  0.72712746 0.40839082 0.59138665 0.42700018 0.67500632 0.68117668\n",
      "  0.81680399 0.41137237 0.91715797 0.60408059 0.1190775  0.69545525\n",
      "  0.97663403 0.80967765 0.74452359 0.72119121 0.77056706 0.25990665\n",
      "  0.86484861 0.99295095 0.87523329 0.30883667 0.52832999 0.89998961\n",
      "  0.92939113 0.92015348 0.41392875 0.78769913 0.63467176 0.54476546\n",
      "  0.61053013 0.70277932 0.62308614 0.09350044 0.8792925  0.87417378\n",
      "  0.56481872 0.69642282 0.23978717 1.09192829 0.23050581 0.81220849\n",
      "  0.57696387 0.89635868 0.96248569 0.56207993 0.59268413 0.86774015\n",
      "  0.28671047 1.19522607 0.88198563 1.09063593 0.9595513  0.59326828\n",
      "  0.70303021 0.93374945 1.17490766 0.52985757 0.82328767 0.27822767\n",
      "  0.3514589  0.46347879 0.97158933 0.39228066]\n",
      " [0.30354874 0.52863597 0.30812912 0.78903833 0.63169452 0.88822824\n",
      "  0.40369632 0.66430722 0.76556103 1.04199463 0.56183647 0.17136537\n",
      "  0.5946395  0.43421081 0.13063228 0.66244011 0.37485533 0.19457976\n",
      "  0.         1.05275108 0.58299874 0.24920841 0.41000958 0.2981974\n",
      "  0.26407747 0.82652468 0.66310636 0.69765131 0.53058222 0.53701073\n",
      "  0.5269242  0.21813537 0.62173492 0.805167   0.38626717 0.54221737\n",
      "  0.57111854 0.21912037 0.51703312 0.28318111 0.48132779 0.48748136\n",
      "  0.64054602 0.22009265 0.72716716 0.42268705 0.21455712 0.50442972\n",
      "  0.80112501 0.65255657 0.56977599 0.65035571 0.65927154 0.11735675\n",
      "  0.67147791 0.809563   0.68370043 0.14121386 0.34174625 0.70732394\n",
      "  0.81451781 0.72591739 0.29289899 0.64296913 0.5151166  0.35702494\n",
      "  0.42599798 0.65025448 0.55934674 0.10691541 0.70862488 0.8079811\n",
      "  0.3942956  0.58101418 0.04585083 0.91333201 0.13685183 0.65952973\n",
      "  0.42538892 0.74114405 0.78250974 0.38107711 0.42116552 0.67371071\n",
      "  0.10186092 1.02283414 0.6890373  0.91176328 0.85555322 0.44979144\n",
      "  0.51406911 0.74450259 0.99507511 0.38758903 0.68223626 0.20897269\n",
      "  0.19724677 0.2913425  0.78035213 0.24212378]\n",
      " [0.90494314 0.83271075 0.87281028 0.52263301 0.49411784 0.21267884\n",
      "  0.88714513 0.57861972 0.33906593 0.144554   0.57744097 0.8896761\n",
      "  0.61241386 0.99443477 1.09951879 0.84124155 0.99551002 1.22939729\n",
      "  1.05275108 0.         0.8645646  0.87501298 0.78065551 0.87256743\n",
      "  0.92312303 0.29578464 0.39267584 0.43826653 0.63347022 0.62029777\n",
      "  0.52652315 1.08974446 0.87560637 0.24761451 0.78838589 0.63797487\n",
      "  0.52381311 0.83667592 0.82458691 1.04773311 0.70321447 0.61992112\n",
      "  0.41284335 0.83915875 0.69336744 0.6302634  1.17389879 0.73966538\n",
      "  0.25278544 0.44825707 0.48489008 0.80148708 0.63559176 1.07245313\n",
      "  0.62418657 0.25728598 0.66934519 1.02235393 0.71406911 0.43702347\n",
      "  0.56670338 0.47883433 0.84284382 0.50384443 0.68332178 0.84381509\n",
      "  0.62910744 0.86964718 0.84550441 1.13687527 0.92013113 0.8109106\n",
      "  0.66467752 0.65782596 1.00881331 0.14099078 1.12867145 0.45915756\n",
      "  0.66711769 0.38303407 0.27212691 0.67170082 0.63676311 0.59737466\n",
      "  0.95117977 0.06411531 0.45544405 0.14314593 0.62061069 0.66431873\n",
      "  0.5559988  0.3582774  0.07213671 0.72105698 0.49165551 0.98632299\n",
      "  0.87891587 0.76610894 0.36127964 0.84080005]\n",
      " [0.73795785 0.06558321 0.71516681 0.37324484 0.38765529 0.81339663\n",
      "  0.81695679 0.84404355 0.52941896 0.93575781 0.72059999 0.46207264\n",
      "  0.79532218 0.19919266 0.7088892  0.08292639 0.24439059 0.63942091\n",
      "  0.58299874 0.8645646  0.         0.34959032 0.73916495 0.29246897\n",
      "  0.31900551 0.56884584 0.61316753 0.43032952 0.26885378 0.28107809\n",
      "  0.53421327 0.43490988 0.99544156 0.67492637 0.23987615 0.75733478\n",
      "  0.39422197 0.52414609 0.08102627 0.81200139 0.74725375 0.66083496\n",
      "  0.55396468 0.5391074  0.97950817 0.49690086 0.52743956 0.80362492\n",
      "  0.65456755 0.43954364 0.50554019 0.09079508 0.23171276 0.68859753\n",
      "  0.88443618 0.72740588 0.92610443 0.68073553 0.51631983 0.77434017\n",
      "  0.35887724 0.83364475 0.31435535 0.36971257 0.21907713 0.73958556\n",
      "  0.52138665 0.06735551 0.03119202 0.58336707 1.08782492 0.23487882\n",
      "  0.4271896  0.21316496 0.57006441 0.76486395 0.71955852 0.41933539\n",
      "  0.34339414 0.48380751 0.67682569 0.4847038  0.43593665 0.86765071\n",
      "  0.52502836 0.80796849 0.76768626 0.76589425 0.35921621 0.31068384\n",
      "  0.59974381 0.74525948 0.8418203  0.31435557 0.3738451  0.37973654\n",
      "  0.42297361 0.43654682 0.80073453 0.39135231]\n",
      " [0.40228349 0.28935198 0.38479456 0.54631368 0.40958492 0.743003\n",
      "  0.49182664 0.62131577 0.55792935 0.89242778 0.49769676 0.1136681\n",
      "  0.55757031 0.25443607 0.36593515 0.42408666 0.20778398 0.37244406\n",
      "  0.24920841 0.87501298 0.34959032 0.         0.43702729 0.05796622\n",
      "  0.06685774 0.61711975 0.50947288 0.47652192 0.29106746 0.29952705\n",
      "  0.3786544  0.215514   0.69251969 0.6339739  0.13715757 0.50854786\n",
      "  0.35884031 0.19260356 0.27614869 0.4631466  0.47284946 0.42215095\n",
      "  0.46963587 0.20722662 0.72864246 0.28547154 0.29977724 0.51971311\n",
      "  0.62395569 0.44095896 0.39747823 0.40724009 0.41138498 0.34349812\n",
      "  0.64737297 0.65641431 0.67706824 0.33150741 0.24541549 0.61018134\n",
      "  0.56819998 0.65010936 0.04404411 0.4153362  0.26875578 0.4185405\n",
      "  0.30216173 0.41642223 0.32254396 0.2886922  0.78604691 0.56425785\n",
      "  0.22341981 0.33376185 0.22661147 0.74257787 0.38078692 0.441441\n",
      "  0.20936568 0.52603209 0.61847575 0.24893415 0.2500696  0.63919656\n",
      "  0.17636685 0.83541527 0.59591558 0.74182244 0.60696429 0.22152476\n",
      "  0.40320827 0.62023745 0.82668752 0.15868133 0.4509124  0.11191335\n",
      "  0.07490133 0.14895955 0.66751416 0.06020473]\n",
      " [0.13661412 0.67360324 0.11253926 0.74101567 0.53853363 0.57921651\n",
      "  0.11243151 0.26916912 0.59880212 0.72489354 0.20561459 0.34426088\n",
      "  0.20244182 0.6905386  0.38148743 0.79358587 0.64460866 0.60146091\n",
      "  0.41000958 0.78065551 0.73916495 0.43702729 0.         0.4874806\n",
      "  0.50118774 0.65266791 0.41025434 0.58336847 0.52996399 0.52606825\n",
      "  0.31965057 0.58182262 0.25800647 0.55183852 0.50131233 0.15601652\n",
      "  0.47274063 0.24886856 0.65814148 0.27438093 0.08492173 0.16632048\n",
      "  0.42669248 0.23602853 0.3174981  0.27170907 0.61522643 0.09447827\n",
      "  0.55992394 0.52434483 0.3857616  0.76234323 0.67545389 0.36004604\n",
      "  0.26581355 0.52384726 0.27384164 0.30409503 0.22389126 0.35915754\n",
      "  0.78821412 0.35182697 0.45050297 0.56337338 0.55478486 0.06816156\n",
      "  0.25017563 0.79805851 0.70815802 0.51692226 0.35144239 0.8994581\n",
      "  0.32416972 0.60857999 0.36829666 0.64311381 0.41199404 0.54667336\n",
      "  0.41113659 0.59942158 0.52021806 0.26462373 0.32752207 0.27272909\n",
      "  0.34338583 0.77223    0.33911517 0.64028188 0.85135717 0.44919822\n",
      "  0.25004192 0.42570442 0.71168313 0.42650966 0.60474212 0.50719981\n",
      "  0.37222777 0.30611757 0.44062783 0.37773301]\n",
      " [0.45891192 0.23341624 0.44046172 0.51224808 0.3933032  0.75282014\n",
      "  0.5469127  0.65781861 0.54662984 0.89933447 0.53257136 0.17163234\n",
      "  0.5962821  0.20347302 0.41934478 0.36821604 0.16326565 0.40096931\n",
      "  0.2981974  0.87256743 0.29246897 0.05796622 0.4874806  0.\n",
      "  0.05223279 0.60408935 0.52073048 0.45938456 0.26450289 0.27473444\n",
      "  0.39596885 0.2220608  0.74438586 0.63666458 0.09856618 0.54886756\n",
      "  0.34993883 0.24728678 0.22075587 0.52098566 0.51797551 0.45896273\n",
      "  0.47587649 0.26215347 0.77133103 0.31137957 0.31452251 0.56718506\n",
      "  0.62459711 0.4299661  0.40553101 0.35317499 0.37125457 0.39783564\n",
      "  0.68687552 0.66493324 0.71906893 0.38826678 0.28500646 0.63526153\n",
      "  0.52972639 0.67945318 0.04002581 0.39530342 0.23375161 0.47260897\n",
      "  0.3308379  0.35952056 0.26601758 0.32388204 0.83798378 0.51067359\n",
      "  0.24288757 0.29579771 0.27983547 0.74395143 0.4325215  0.42681998\n",
      "  0.20706842 0.51141886 0.62395851 0.27917109 0.26696449 0.67698223\n",
      "  0.23260197 0.82964418 0.62223379 0.7434934  0.56415593 0.20901436\n",
      "  0.43036783 0.63805624 0.82800324 0.15217413 0.42757953 0.12422066\n",
      "  0.1327966  0.18846679 0.68763746 0.1108396 ]\n",
      " [0.45827108 0.26515078 0.44318821 0.56217931 0.44546396 0.79954136\n",
      "  0.5509106  0.68801288 0.59848382 0.94722561 0.56414007 0.16586224\n",
      "  0.6244091  0.19505607 0.39031981 0.39844695 0.14400962 0.3515528\n",
      "  0.26407747 0.92312303 0.31900551 0.06685774 0.50118774 0.05223279\n",
      "  0.         0.65612608 0.56663166 0.511596   0.31647047 0.32683384\n",
      "  0.43884515 0.16985169 0.75521532 0.68575274 0.14968736 0.57540228\n",
      "  0.40128452 0.25408321 0.25416532 0.50632343 0.53916438 0.48881326\n",
      "  0.52362311 0.26819115 0.79529025 0.34914026 0.26247509 0.58526991\n",
      "  0.67425461 0.48170607 0.45248043 0.38770588 0.41911863 0.37085909\n",
      "  0.71423068 0.71208572 0.74380559 0.36810498 0.31220834 0.67409784\n",
      "  0.57790893 0.71542828 0.08160828 0.44753148 0.28428974 0.47938536\n",
      "  0.36684303 0.38631191 0.29534094 0.27791423 0.84858713 0.54514588\n",
      "  0.28401243 0.34498592 0.25239622 0.79349501 0.40055381 0.47890105\n",
      "  0.25645022 0.56353497 0.67215312 0.31392853 0.3095519  0.70600014\n",
      "  0.21340458 0.88084211 0.66025778 0.7929539  0.60988507 0.26051886\n",
      "  0.46761039 0.6810566  0.87760855 0.20208365 0.47965413 0.07342367\n",
      "  0.13097586 0.21557288 0.72945524 0.12673403]\n",
      " [0.75087949 0.53856796 0.7173551  0.24082161 0.21145337 0.29981846\n",
      "  0.76506482 0.54883032 0.06102806 0.38262522 0.48336256 0.65587873\n",
      "  0.54811314 0.70543332 0.89792718 0.54678    0.71168505 0.98600157\n",
      "  0.82652468 0.29578464 0.56884584 0.61711975 0.65266791 0.60408935\n",
      "  0.65612608 0.         0.253725   0.14813379 0.34889797 0.33640025\n",
      "  0.33901275 0.82581762 0.82674428 0.17140314 0.51244581 0.54888505\n",
      "  0.25890358 0.62554573 0.53112972 0.8874706  0.59502229 0.48867881\n",
      "  0.22599415 0.63215696 0.69508515 0.42571188 0.91571937 0.64739952\n",
      "  0.14710658 0.17638302 0.2763359  0.50658374 0.34006964 0.87044931\n",
      "  0.60140029 0.24156149 0.65301968 0.82753559 0.51262306 0.40806915\n",
      "  0.29245345 0.47427662 0.57971608 0.21495284 0.39563821 0.70287869\n",
      "  0.4347381  0.57467819 0.55020078 0.896863   0.8958943  0.53017922\n",
      "  0.43375508 0.36402277 0.78632505 0.2143454  0.92430302 0.17733601\n",
      "  0.40914927 0.09334505 0.19741561 0.46131225 0.40829485 0.57427539\n",
      "  0.72568825 0.23982982 0.41708067 0.21662184 0.35654186 0.39655911\n",
      "  0.40262714 0.33068024 0.2798568  0.45850095 0.19710141 0.72456872\n",
      "  0.63673676 0.53577806 0.37468433 0.59422974]\n",
      " [0.52262967 0.56078929 0.48952167 0.41821622 0.2444061  0.2335829\n",
      "  0.52207143 0.3028248  0.21086838 0.38459828 0.22984006 0.50514006\n",
      "  0.29510704 0.68279715 0.70691068 0.62575831 0.66747137 0.8450241\n",
      "  0.66310636 0.39267584 0.61316753 0.50947288 0.41025434 0.52073048\n",
      "  0.56663166 0.253725   0.         0.24541477 0.34457958 0.33213338\n",
      "  0.13679855 0.72389521 0.5731276  0.14745175 0.45566875 0.29555073\n",
      "  0.21916156 0.44531846 0.54801386 0.66424704 0.34533042 0.24393387\n",
      "  0.06054611 0.44713457 0.45228854 0.24111316 0.80051424 0.39537467\n",
      "  0.15116601 0.19853351 0.11664297 0.58478018 0.43276483 0.67981075\n",
      "  0.35498526 0.14840648 0.40646052 0.63005704 0.32230954 0.17850991\n",
      "  0.47390617 0.2461468  0.48517041 0.27075833 0.39591912 0.46697303\n",
      "  0.23742131 0.64555495 0.5857034  0.75171519 0.6438531  0.66793396\n",
      "  0.28740866 0.40667323 0.61849918 0.25186619 0.73600631 0.22625094\n",
      "  0.31750335 0.23083163 0.12055276 0.28309419 0.25993505 0.32899551\n",
      "  0.56225972 0.37154698 0.18045273 0.24997842 0.54375365 0.3304583\n",
      "  0.16700032 0.13216988 0.33222168 0.37180729 0.29548291 0.62088134\n",
      "  0.49957474 0.38316229 0.18780106 0.46601561]\n",
      " [0.66188781 0.39480482 0.6289963  0.17369714 0.06697994 0.3931299\n",
      "  0.69310548 0.54341772 0.0996078  0.50615441 0.44966308 0.52631015\n",
      "  0.52392413 0.55795329 0.77983962 0.41892596 0.56355126 0.84813518\n",
      "  0.69765131 0.43826653 0.43032952 0.47652192 0.58336847 0.45938456\n",
      "  0.511596   0.14813379 0.24541477 0.         0.20092987 0.18860116\n",
      "  0.26562003 0.68144425 0.79123029 0.25186758 0.36586573 0.51050385\n",
      "  0.12839159 0.50927549 0.38638784 0.79070314 0.54132068 0.43150004\n",
      "  0.19063045 0.51800402 0.69333907 0.32620461 0.77283578 0.59877181\n",
      "  0.22927231 0.05909772 0.2003623  0.37753752 0.21132558 0.75265213\n",
      "  0.59443309 0.31329824 0.64507252 0.71427049 0.4079166  0.42358548\n",
      "  0.22888343 0.49145768 0.43730505 0.06682696 0.24760552 0.62338083\n",
      "  0.34155126 0.44437084 0.40925165 0.76102445 0.87014193 0.43223371\n",
      "  0.31471327 0.22002379 0.6598963  0.33485158 0.80442283 0.03952406\n",
      "  0.27312313 0.05553    0.26132541 0.35443012 0.29298964 0.5697419\n",
      "  0.59890082 0.38572271 0.42582012 0.33601405 0.29862708 0.25502351\n",
      "  0.34282335 0.36485758 0.41161805 0.31829513 0.05916815 0.58145727\n",
      "  0.50328319 0.41172033 0.4185153  0.45940009]\n",
      " [0.56913284 0.21697099 0.53965082 0.25865535 0.13948699 0.5527967\n",
      "  0.6265397  0.58637989 0.29604055 0.68472493 0.46741965 0.36414507\n",
      "  0.54438753 0.3614201  0.63038423 0.29062337 0.36322741 0.66235804\n",
      "  0.53058222 0.63347022 0.26885378 0.29106746 0.52996399 0.26450289\n",
      "  0.31647047 0.34889797 0.34457958 0.20092987 0.         0.01343991\n",
      "  0.27236865 0.48543725 0.77379277 0.41887527 0.16757967 0.51280164\n",
      "  0.12655496 0.37694718 0.20494233 0.67794126 0.51706045 0.41779871\n",
      "  0.28590237 0.38931412 0.72817339 0.26146121 0.57894556 0.57614214\n",
      "  0.40113261 0.18650261 0.23733198 0.25202445 0.14806688 0.60453236\n",
      "  0.63032783 0.46504212 0.67536064 0.57573182 0.31296145 0.50674016\n",
      "  0.28853583 0.56763269 0.24854435 0.13442972 0.05262777 0.54956984\n",
      "  0.28528868 0.30623623 0.24112455 0.579755   0.862533   0.37178484\n",
      "  0.20745624 0.07933506 0.49862655 0.51763878 0.65111749 0.17451584\n",
      "  0.12543953 0.25566018 0.41612177 0.26592143 0.20265018 0.6111222\n",
      "  0.43918804 0.58403209 0.50100455 0.51803689 0.33947512 0.08901922\n",
      "  0.34480132 0.47655467 0.59915508 0.14446143 0.16334525 0.38852051\n",
      "  0.33357051 0.27214417 0.53196133 0.28879304]\n",
      " [0.56838632 0.22994319 0.53852609 0.2532257  0.12646047 0.53948466\n",
      "  0.62392539 0.57697919 0.28312751 0.67128544 0.45885175 0.36952254\n",
      "  0.53599153 0.37474245 0.63501501 0.30080562 0.37609122 0.67139281\n",
      "  0.53701073 0.62029777 0.28107809 0.29952705 0.52606825 0.27473444\n",
      "  0.32683384 0.33640025 0.33213338 0.18860116 0.01343991 0.\n",
      "  0.26280059 0.49612732 0.76818824 0.40544801 0.17856523 0.50528059\n",
      "  0.1136694  0.37900984 0.21806047 0.67916971 0.5111535  0.41072534\n",
      "  0.27323133 0.39107279 0.7195035  0.25629868 0.58925687 0.57035693\n",
      "  0.3876927  0.17313337 0.22591073 0.26171948 0.14994015 0.60897691\n",
      "  0.62139121 0.45178466 0.66681714 0.57913805 0.310959   0.49539264\n",
      "  0.28530252 0.55671282 0.25746418 0.1223797  0.06596044 0.54725436\n",
      "  0.27982201 0.31716083 0.25364162 0.58808092 0.85647591 0.37783746\n",
      "  0.20511175 0.08604403 0.50430114 0.50422145 0.6561883  0.1614886\n",
      "  0.12588403 0.24310091 0.40278606 0.26279342 0.19854851 0.60186464\n",
      "  0.44452613 0.57107164 0.48994369 0.50461409 0.33822758 0.09122757\n",
      "  0.33628013 0.46419035 0.58577674 0.14979591 0.15285283 0.39851331\n",
      "  0.33980688 0.27423451 0.51965647 0.29494817]\n",
      " [0.41187346 0.47500322 0.37834651 0.43079702 0.22898611 0.36812401\n",
      "  0.43093798 0.31419431 0.28211111 0.52051686 0.19877136 0.36842715\n",
      "  0.27625719 0.57255936 0.57598604 0.56290598 0.55027609 0.70823033\n",
      "  0.5269242  0.52652315 0.53421327 0.3786544  0.31965057 0.39596885\n",
      "  0.43884515 0.33901275 0.13679855 0.26562003 0.27236865 0.26280059\n",
      "  0.         0.59110853 0.52934146 0.27902863 0.3434874  0.25229147\n",
      "  0.17123394 0.31015692 0.46069178 0.54930817 0.2761802  0.16663413\n",
      "  0.11960174 0.31292162 0.45803845 0.10440615 0.6653751  0.33429892\n",
      "  0.27720744 0.20658622 0.06612365 0.52436075 0.39626928 0.5486449\n",
      "  0.35928028 0.28488498 0.40589805 0.5008719  0.187812   0.24613653\n",
      "  0.48183559 0.30075738 0.35841387 0.25599268 0.31669436 0.36516359\n",
      "  0.10314076 0.57744907 0.50436701 0.61491664 0.61191925 0.6340736\n",
      "  0.15525404 0.34776455 0.4825982  0.3865467  0.60443353 0.23079852\n",
      "  0.20442359 0.27986342 0.25558654 0.14634292 0.12931339 0.33918354\n",
      "  0.42579881 0.50038663 0.23656603 0.38491557 0.5487326  0.22801779\n",
      "  0.07960308 0.24225677 0.46817099 0.25446542 0.29431046 0.48891028\n",
      "  0.36385783 0.24697133 0.29186173 0.33196601]\n",
      " [0.50117059 0.3964059  0.497104   0.72544351 0.61530196 0.95746928\n",
      "  0.60156063 0.8059516  0.76790467 1.10754736 0.68817884 0.24664805\n",
      "  0.73837292 0.2501634  0.34295663 0.51783361 0.19385529 0.20463017\n",
      "  0.21813537 1.08974446 0.43490988 0.215514   0.58182262 0.2220608\n",
      "  0.16985169 0.82581762 0.72389521 0.68144425 0.48543725 0.49612732\n",
      "  0.59110853 0.         0.81817877 0.84945878 0.31792408 0.68659401\n",
      "  0.57000413 0.34093881 0.38956412 0.50088445 0.63785061 0.61085176\n",
      "  0.68509663 0.3508762  0.89460743 0.49328783 0.09640438 0.67402244\n",
      "  0.83922554 0.65098644 0.6128337  0.51762229 0.57833859 0.33421582\n",
      "  0.8242426  0.87135438 0.84622345 0.35738929 0.43698451 0.81394028\n",
      "  0.73664085 0.84767063 0.24739083 0.61724673 0.45040025 0.54222014\n",
      "  0.50682796 0.49815427 0.41920672 0.16344548 0.90861786 0.66974084\n",
      "  0.43668083 0.50784704 0.23789406 0.95798874 0.339786   0.64866442\n",
      "  0.42278654 0.73333082 0.83392561 0.4536972  0.46397702 0.82054458\n",
      "  0.24049975 1.04889614 0.79829559 0.9572611  0.76212989 0.42968905\n",
      "  0.60723715 0.83082535 1.04211306 0.36962007 0.64877564 0.10362742\n",
      "  0.23413849 0.34897405 0.87599661 0.25950033]\n",
      " [0.31892075 0.92998143 0.32116951 0.95988157 0.75828771 0.66294644\n",
      "  0.21819106 0.29755293 0.78219276 0.78139241 0.34494357 0.59347962\n",
      "  0.27940545 0.94679216 0.54997788 1.04704713 0.89917327 0.79715992\n",
      "  0.62173492 0.87560637 0.99544156 0.69251969 0.25800647 0.74438586\n",
      "  0.75521532 0.82674428 0.5731276  0.79123029 0.77379277 0.76818824\n",
      "  0.52934146 0.81817877 0.         0.68879443 0.75872565 0.28129102\n",
      "  0.69784839 0.5011495  0.91449539 0.38434689 0.25737339 0.36356664\n",
      "  0.61030964 0.48720533 0.20725229 0.51241015 0.83588144 0.19799528\n",
      "  0.70443855 0.73314072 0.59197035 1.01426456 0.9145899  0.53765529\n",
      "  0.25176655 0.63896725 0.21077506 0.48898247 0.47912176 0.44402719\n",
      "  1.0111742  0.39678861 0.70796361 0.78512903 0.80382583 0.27806358\n",
      "  0.48850546 1.05301089 0.96433273 0.72495947 0.0935993  1.14555632\n",
      "  0.57379859 0.85312209 0.58732662 0.75428665 0.57608478 0.75878276\n",
      "  0.66109423 0.79442517 0.65535486 0.5142693  0.57241004 0.27826164\n",
      "  0.57809732 0.88548233 0.42807679 0.7507464  1.07781372 0.69839004\n",
      "  0.45000054 0.52820996 0.80347202 0.68153404 0.82361339 0.75406877\n",
      "  0.62471808 0.56410006 0.51472367 0.63400552]\n",
      " [0.66858179 0.63207485 0.63568185 0.39819395 0.28737276 0.14130043\n",
      "  0.6623187  0.3978365  0.16572571 0.26650272 0.35838463 0.64285702\n",
      "  0.41068405 0.77724171 0.85349048 0.66985725 0.77076366 0.98291338\n",
      "  0.805167   0.24761451 0.67492637 0.6339739  0.55183852 0.63666458\n",
      "  0.68575274 0.17140314 0.14745175 0.25186758 0.41887527 0.40544801\n",
      "  0.27902863 0.84945878 0.68879443 0.         0.55924834 0.42342712\n",
      "  0.29705845 0.589172   0.62150053 0.81067378 0.4812014  0.38641005\n",
      "  0.16623339 0.59186561 0.53802887 0.3826499  0.93096608 0.52606448\n",
      "  0.02486574 0.23570962 0.23885061 0.62832933 0.46304228 0.82629581\n",
      "  0.44957626 0.07019627 0.50036642 0.77705895 0.46674214 0.25084928\n",
      "  0.4530616  0.31307898 0.60447081 0.30589993 0.47127446 0.61111929\n",
      "  0.38184017 0.69438018 0.65117709 0.89012754 0.74976628 0.67918858\n",
      "  0.41891942 0.46176573 0.76119896 0.10916523 0.88236244 0.25586222\n",
      "  0.42960676 0.2081242  0.03345933 0.42409992 0.39093869 0.42181205\n",
      "  0.70364178 0.22412606 0.26358894 0.10811259 0.52039277 0.4324136\n",
      "  0.3139953  0.16779998 0.19294837 0.48451636 0.31102441 0.74583165\n",
      "  0.63340598 0.51943515 0.2057358  0.59652271]\n",
      " [0.49916993 0.1745994  0.47564716 0.4138813  0.30099267 0.68284966\n",
      "  0.57708162 0.63289207 0.45662814 0.82485169 0.50680182 0.23656298\n",
      "  0.57719157 0.22915641 0.50018249 0.30402278 0.21247691 0.49942573\n",
      "  0.38626717 0.78838589 0.23987615 0.13715757 0.50131233 0.09856618\n",
      "  0.14968736 0.51244581 0.45566875 0.36586573 0.16757967 0.17856523\n",
      "  0.3434874  0.31792408 0.75872565 0.55924834 0.         0.53438942\n",
      "  0.26486244 0.28624689 0.15944865 0.58150333 0.51587701 0.43934658\n",
      "  0.40509118 0.30104627 0.75878937 0.278286   0.41189534 0.57029539\n",
      "  0.54504869 0.34139264 0.3390397  0.28090967 0.27493965 0.47663949\n",
      "  0.66799447 0.59415663 0.70551349 0.45893926 0.28091111 0.58923233\n",
      "  0.43269678 0.64023127 0.09337711 0.30051077 0.13524695 0.49974773\n",
      "  0.30139025 0.30259524 0.20949726 0.42094459 0.85168404 0.43508789\n",
      "  0.20536998 0.19822713 0.36179021 0.66423201 0.51649789 0.33535101\n",
      "  0.13971004 0.41921837 0.54991108 0.2568577  0.2222969  0.65447922\n",
      "  0.30771966 0.74266002 0.5785423  0.66409266 0.46992467 0.12713309\n",
      "  0.39306948 0.58041311 0.74773085 0.09024703 0.33091875 0.22262903\n",
      "  0.19910522 0.19684559 0.63282955 0.15995334]\n",
      " [0.29234186 0.69367133 0.2660411  0.68051958 0.48053929 0.43100666\n",
      "  0.25157396 0.12215519 0.50214468 0.57268905 0.06587249 0.44006264\n",
      "  0.05259748 0.7493121  0.53149243 0.79809616 0.71203652 0.73667094\n",
      "  0.54221737 0.63797487 0.75733478 0.50854786 0.15601652 0.54886756\n",
      "  0.57540228 0.54888505 0.29555073 0.51050385 0.51280164 0.50528059\n",
      "  0.25229147 0.68659401 0.28129102 0.42342712 0.53438942 0.\n",
      "  0.42325943 0.34627019 0.67840058 0.42984487 0.07115765 0.09652073\n",
      "  0.32934865 0.33774454 0.22444051 0.26044629 0.7345135  0.10287054\n",
      "  0.43575738 0.45281707 0.3124556  0.76200972 0.64609446 0.50837858\n",
      "  0.13898318 0.38484728 0.17129237 0.45236027 0.26399316 0.20644349\n",
      "  0.73276051 0.19598575 0.50905133 0.50783063 0.54989531 0.22416003\n",
      "  0.2360131  0.80852872 0.72630789 0.64762456 0.36029559 0.88204103\n",
      "  0.33139592 0.59132175 0.49766505 0.50449989 0.56226029 0.47891962\n",
      "  0.41400212 0.51321321 0.3903203  0.2775693  0.32146057 0.13408514\n",
      "  0.46065077 0.63586734 0.18659745 0.50136149 0.80033519 0.44812334\n",
      "  0.17288668 0.279747   0.56736151 0.4473903  0.54500356 0.5988654\n",
      "  0.45809476 0.36094218 0.28789126 0.44894969]\n",
      " [0.54025693 0.34352595 0.50792147 0.26838855 0.06816777 0.42776214\n",
      "  0.57920349 0.48031836 0.19917205 0.56355697 0.36955024 0.39980157\n",
      "  0.44690456 0.48023806 0.65146825 0.40817348 0.47461387 0.72712746\n",
      "  0.57111854 0.52381311 0.39422197 0.35884031 0.47274063 0.34993883\n",
      "  0.40128452 0.25890358 0.21916156 0.12839159 0.12655496 0.1136694\n",
      "  0.17123394 0.57000413 0.69784839 0.29705845 0.26486244 0.42325943\n",
      "  0.         0.38098351 0.33141297 0.66561004 0.44178332 0.33433244\n",
      "  0.15974537 0.3898986  0.6269696  0.20545399 0.65821882 0.50089662\n",
      "  0.28131846 0.08255106 0.12002444 0.36767614 0.22674458 0.62426957\n",
      "  0.52762179 0.33953916 0.57548978 0.58603731 0.28278608 0.38696008\n",
      "  0.31588985 0.45045019 0.3227771  0.09087592 0.17886342 0.50650643\n",
      "  0.22396569 0.42695688 0.36717719 0.63829537 0.78205731 0.46535763\n",
      "  0.18655962 0.18868564 0.53256833 0.400017   0.67615133 0.08918518\n",
      "  0.15025418 0.17025323 0.29160543 0.22928828 0.16585093 0.50600867\n",
      "  0.47159383 0.47972348 0.38314653 0.40002367 0.38072449 0.14095562\n",
      "  0.25037353 0.35133122 0.48318843 0.20071152 0.13305378 0.46766278\n",
      "  0.37868275 0.28355859 0.40693931 0.33567581]\n",
      " [0.21405581 0.45973538 0.19348597 0.62856261 0.4470654  0.66912002\n",
      "  0.29962767 0.46678692 0.56471941 0.8228907  0.35364915 0.09628641\n",
      "  0.39841245 0.44687796 0.27241356 0.59023777 0.39807499 0.40839082\n",
      "  0.21912037 0.83667592 0.52414609 0.19260356 0.24886856 0.24728678\n",
      "  0.25408321 0.62554573 0.44531846 0.50927549 0.37694718 0.37900984\n",
      "  0.31015692 0.34093881 0.5011495  0.589172   0.28624689 0.34627019\n",
      "  0.38098351 0.         0.44491067 0.30226703 0.29737858 0.27684983\n",
      "  0.42657281 0.01504211 0.55482917 0.20707866 0.39012382 0.33704906\n",
      "  0.58659131 0.45788065 0.35797821 0.56578392 0.52217015 0.24495659\n",
      "  0.48338876 0.59094085 0.50571611 0.20510088 0.12307527 0.49238691\n",
      "  0.66412067 0.51680019 0.21454553 0.46376071 0.38086965 0.22594842\n",
      "  0.20789985 0.58833637 0.49451568 0.31536723 0.59450427 0.71665409\n",
      "  0.19462961 0.44516929 0.17379605 0.69653747 0.2988939  0.46986106\n",
      "  0.25380736 0.54620034 0.56534051 0.16686542 0.21801155 0.48035296\n",
      "  0.12177356 0.80943543 0.47477834 0.69483111 0.7163717  0.28804855\n",
      "  0.29523607 0.52590415 0.77753904 0.23853981 0.50581188 0.25922702\n",
      "  0.1237347  0.10481369 0.56320458 0.13686195]\n",
      " [0.65835824 0.0154904  0.63507937 0.3624451  0.33558484 0.75713489\n",
      "  0.73635026 0.76763821 0.48588063 0.88591201 0.64335775 0.3867444\n",
      "  0.71737281 0.18449345 0.64000823 0.14803392 0.21245811 0.59138665\n",
      "  0.51703312 0.82458691 0.08102627 0.27614869 0.65814148 0.22075587\n",
      "  0.25416532 0.53112972 0.54801386 0.38638784 0.20494233 0.21806047\n",
      "  0.46069178 0.38956412 0.91449539 0.62150053 0.15944865 0.67840058\n",
      "  0.33141297 0.44491067 0.         0.73597017 0.66689882 0.5819936\n",
      "  0.49017826 0.45980988 0.9012735  0.41801995 0.485091   0.72302649\n",
      "  0.60261273 0.38629592 0.43687104 0.13354183 0.21156298 0.61858877\n",
      "  0.80697608 0.66969575 0.84784067 0.60750378 0.43538174 0.70366484\n",
      "  0.36042546 0.76123295 0.23829895 0.32174505 0.1525681  0.65888289\n",
      "  0.44239411 0.14342823 0.05016536 0.52769546 1.00694119 0.29106206\n",
      "  0.3475146  0.16710724 0.50054127 0.71669614 0.65253008 0.36931123\n",
      "  0.26512947 0.44155428 0.62032596 0.4044884  0.35744006 0.79085635\n",
      "  0.45250229 0.77083399 0.69602374 0.71739614 0.37612798 0.23419512\n",
      "  0.5234771  0.67940495 0.79626079 0.23373987 0.33405202 0.32087434\n",
      "  0.34781124 0.35578853 0.73444154 0.31392474]\n",
      " [0.14280409 0.75000207 0.17512186 0.92464306 0.73364029 0.85100124\n",
      "  0.19396206 0.5361462  0.8289926  0.99844969 0.47888969 0.34996505\n",
      "  0.47334127 0.69640615 0.17610621 0.88362605 0.63912657 0.42700018\n",
      "  0.28318111 1.04773311 0.81200139 0.4631466  0.27438093 0.52098566\n",
      "  0.50632343 0.8874706  0.66424704 0.79070314 0.67794126 0.67916971\n",
      "  0.54930817 0.50088445 0.38434689 0.81067378 0.58150333 0.42984487\n",
      "  0.66561004 0.30226703 0.73597017 0.         0.35874313 0.42786173\n",
      "  0.66732726 0.28910878 0.5429846  0.46563362 0.48961618 0.34698764\n",
      "  0.81533988 0.73469932 0.61116937 0.86237652 0.82411402 0.17276595\n",
      "  0.52155619 0.79051285 0.51342671 0.14433213 0.382967   0.63334326\n",
      "  0.96305581 0.6246805  0.49788865 0.75358793 0.68311668 0.20701892\n",
      "  0.45357019 0.87829253 0.78402938 0.370217   0.45861612 1.01590628\n",
      "  0.4827224  0.74738308 0.26705527 0.90814321 0.19755596 0.75139727\n",
      "  0.55330279 0.81940491 0.78082211 0.43651622 0.50018066 0.53469966\n",
      "  0.29307832 1.03423236 0.61329814 0.90556582 1.01730753 0.58892649\n",
      "  0.49730255 0.69726167 0.98036128 0.54079204 0.7962872  0.47262338\n",
      "  0.38907154 0.40636839 0.71470406 0.42240837]\n",
      " [0.22143168 0.6823562  0.19593103 0.70650593 0.50387452 0.49867505\n",
      "  0.18395386 0.18668199 0.54453175 0.64233765 0.12577374 0.39332737\n",
      "  0.11845334 0.72095935 0.46321101 0.79444609 0.67966368 0.67500632\n",
      "  0.48132779 0.70321447 0.74725375 0.47284946 0.08492173 0.51797551\n",
      "  0.53916438 0.59502229 0.34533042 0.54132068 0.51706045 0.5111535\n",
      "  0.2761802  0.63785061 0.25737339 0.4812014  0.51587701 0.07115765\n",
      "  0.44178332 0.29737858 0.66689882 0.35874313 0.         0.10983659\n",
      "  0.37049032 0.28697807 0.25770499 0.25622438 0.6796948  0.05939782\n",
      "  0.49145138 0.48245637 0.34096015 0.7603963  0.65721835 0.44076814\n",
      "  0.1902843  0.44782993 0.20838585 0.38467695 0.23606288 0.27605674\n",
      "  0.75662032 0.26691018 0.47898347 0.53025168 0.54884008 0.15308324\n",
      "  0.2319908  0.80220738 0.71606256 0.58769636 0.34551117 0.88881871\n",
      "  0.32098871 0.59638663 0.43774124 0.56758793 0.49389859 0.50697403\n",
      "  0.40752169 0.55055128 0.44870039 0.26258989 0.31699492 0.19307493\n",
      "  0.40537862 0.69808803 0.25606793 0.56459353 0.82240421 0.4440388\n",
      "  0.19871107 0.34597784 0.63330946 0.43322772 0.56976163 0.55528503\n",
      "  0.41571317 0.33002103 0.35762275 0.41264684]\n",
      " [0.28505783 0.59724565 0.25319175 0.59734609 0.3950737  0.42547968\n",
      "  0.2782853  0.19922227 0.43663743 0.5760571  0.07735896 0.36515264\n",
      "  0.13822432 0.65722767 0.49854433 0.70187163 0.62217132 0.68117668\n",
      "  0.48748136 0.61992112 0.66083496 0.42215095 0.16632048 0.45896273\n",
      "  0.48881326 0.48867881 0.24393387 0.43150004 0.41779871 0.41072534\n",
      "  0.16663413 0.61085176 0.36356664 0.38641005 0.43934658 0.09652073\n",
      "  0.33433244 0.27684983 0.5819936  0.42786173 0.10983659 0.\n",
      "  0.26299986 0.27129536 0.31985235 0.16398287 0.66653276 0.16766642\n",
      "  0.39383591 0.37266594 0.23113779 0.66604074 0.55373487 0.47313596\n",
      "  0.22920072 0.36266441 0.26645794 0.41873998 0.17704671 0.22147155\n",
      "  0.64798065 0.239992   0.41895485 0.42173581 0.45384585 0.22493393\n",
      "  0.13961595 0.71208098 0.6298186  0.58939348 0.44825813 0.78823988\n",
      "  0.23536246 0.49667551 0.4417674  0.48069688 0.52911153 0.39733094\n",
      "  0.31748526 0.44121131 0.35529462 0.18317205 0.22494123 0.21803779\n",
      "  0.39710984 0.60825577 0.20251135 0.47804228 0.71431864 0.35166724\n",
      "  0.08893223 0.27252175 0.55257092 0.35160764 0.46072703 0.51832424\n",
      "  0.37813157 0.27324039 0.29861842 0.36373275]\n",
      " [0.52832123 0.50265582 0.49481568 0.36431933 0.18434245 0.27795596\n",
      "  0.53910371 0.35290459 0.17405936 0.42360672 0.26550721 0.47687975\n",
      "  0.33680818 0.63001601 0.69473787 0.56536715 0.61754294 0.81680399\n",
      "  0.64054602 0.41284335 0.55396468 0.46963587 0.42669248 0.47587649\n",
      "  0.52362311 0.22599415 0.06054611 0.19063045 0.28590237 0.27323133\n",
      "  0.11960174 0.68509663 0.61030964 0.16623339 0.40509118 0.32934865\n",
      "  0.15974537 0.42657281 0.49017826 0.66732726 0.37049032 0.26299986\n",
      "  0.         0.43034526 0.50285042 0.21951386 0.76532989 0.42454522\n",
      "  0.16058315 0.14008529 0.07271429 0.524341   0.37245983 0.66733449\n",
      "  0.4041623  0.18946535 0.45505126 0.6201626  0.3057024  0.23698873\n",
      "  0.41943928 0.30385217 0.44203975 0.21101203 0.33772629 0.47790861\n",
      "  0.2219898  0.58538746 0.52685822 0.72412511 0.68534032 0.60822072\n",
      "  0.25270702 0.34644388 0.59706779 0.2753853  0.72289698 0.16800188\n",
      "  0.26966317 0.18447463 0.14884203 0.26012703 0.22472462 0.37922839\n",
      "  0.53880095 0.38289887 0.23713561 0.2742494  0.48908893 0.27841846\n",
      "  0.17666936 0.19216769 0.35894    0.32466316 0.23761552 0.58154305\n",
      "  0.46718793 0.35336203 0.24787699 0.43061598]\n",
      " [0.19903272 0.47465397 0.17849829 0.63975028 0.4564324  0.6690134\n",
      "  0.28479411 0.4588316  0.57145793 0.8227773  0.34760196 0.10829002\n",
      "  0.3900911  0.46136702 0.26604025 0.6050011  0.41220077 0.41137237\n",
      "  0.22009265 0.83915875 0.5391074  0.20722662 0.23602853 0.26215347\n",
      "  0.26819115 0.63215696 0.44713457 0.51800402 0.38931412 0.39107279\n",
      "  0.31292162 0.3508762  0.48720533 0.59186561 0.30104627 0.33774454\n",
      "  0.3898986  0.01504211 0.45980988 0.28910878 0.28697807 0.27129536\n",
      "  0.43034526 0.         0.54403238 0.21096748 0.39725982 0.3251937\n",
      "  0.58990416 0.46587739 0.362683   0.58035767 0.5350381  0.23853767\n",
      "  0.47412162 0.59186083 0.4953589  0.19642392 0.1251247  0.48865486\n",
      "  0.67594928 0.51124577 0.22956446 0.4736786  0.39428479 0.21144905\n",
      "  0.21005426 0.60323101 0.50944513 0.31881042 0.58048553 0.7309237\n",
      "  0.20333978 0.45829869 0.17437018 0.69874596 0.29325741 0.47852863\n",
      "  0.26554269 0.55393658 0.56743897 0.17179824 0.22575908 0.47178867\n",
      "  0.1258338  0.81296018 0.47076523 0.696966   0.72878905 0.30032582\n",
      "  0.29414459 0.52442672 0.77927013 0.25198598 0.51589348 0.27134777\n",
      "  0.13751275 0.11731123 0.560578   0.15182889]\n",
      " [0.43559644 0.91644691 0.42212352 0.86701019 0.67630424 0.48361161\n",
      "  0.35052408 0.14994764 0.66084928 0.58693617 0.26077596 0.65092491\n",
      "  0.18439448 0.97283566 0.68615448 1.01686342 0.93411134 0.91715797\n",
      "  0.72716716 0.69336744 0.97950817 0.72864246 0.3174981  0.77133103\n",
      "  0.79529025 0.69508515 0.45228854 0.69333907 0.72817339 0.7195035\n",
      "  0.45803845 0.89460743 0.20725229 0.53802887 0.75878937 0.22444051\n",
      "  0.6269696  0.55482917 0.9012735  0.5429846  0.25770499 0.31985235\n",
      "  0.50285042 0.54403238 0.         0.48345765 0.93230821 0.22305473\n",
      "  0.55773058 0.63996922 0.50867009 0.9796098  0.85352911 0.66787511\n",
      "  0.09956381 0.47802757 0.05343674 0.61330806 0.48646108 0.28796092\n",
      "  0.92179222 0.22559333 0.73174366 0.70405814 0.76849063 0.37267819\n",
      "  0.45928697 1.0288083  0.94862129 0.83406591 0.22848082 1.0918368\n",
      "  0.55521093 0.80514593 0.685781   0.58427061 0.71546739 0.66762466\n",
      "  0.63625333 0.68311424 0.50583841 0.50200196 0.54383534 0.12362631\n",
      "  0.65917391 0.71166258 0.27800455 0.58051256 0.99118217 0.66915097\n",
      "  0.38338506 0.37029059 0.6219576  0.67144635 0.7367597  0.81298887\n",
      "  0.67327675 0.58289524 0.34190428 0.66856061]\n",
      " [0.33582828 0.43326496 0.30312475 0.47299931 0.27321465 0.47090448\n",
      "  0.37497197 0.35460657 0.36586541 0.62390515 0.22853504 0.2647056\n",
      "  0.30013943 0.50181404 0.47621687 0.53960951 0.47205303 0.60408059\n",
      "  0.42268705 0.6302634  0.49690086 0.28547154 0.27170907 0.31137957\n",
      "  0.34914026 0.42571188 0.24111316 0.32620461 0.26146121 0.25629868\n",
      "  0.10440615 0.49328783 0.51241015 0.3826499  0.278286   0.26044629\n",
      "  0.20545399 0.20707866 0.41801995 0.46563362 0.25622438 0.16398287\n",
      "  0.21951386 0.21096748 0.48345765 0.         0.56413001 0.31501624\n",
      "  0.3795589  0.26932122 0.15215479 0.50475647 0.4046075  0.44874641\n",
      "  0.39053203 0.38887045 0.43002285 0.40318577 0.0873536  0.32496177\n",
      "  0.51824836 0.36818252 0.27194546 0.29614351 0.29281934 0.30127314\n",
      "  0.02460108 0.54886456 0.46586419 0.51070606 0.60166784 0.6331626\n",
      "  0.07292013 0.34076396 0.37855861 0.49064714 0.50397114 0.28730152\n",
      "  0.15368928 0.35388082 0.35988318 0.04200273 0.06137144 0.3763104\n",
      "  0.32143645 0.60235689 0.31124208 0.48907713 0.58025773 0.18878396\n",
      "  0.11898835 0.33772685 0.57251476 0.18904129 0.33849942 0.39277197\n",
      "  0.26244601 0.14524348 0.38294751 0.23400586]\n",
      " [0.5171774  0.49146892 0.519338   0.82136882 0.70628369 1.03341492\n",
      "  0.61771065 0.85597974 0.85703941 1.18509972 0.74359251 0.30380336\n",
      "  0.78700604 0.3365072  0.31789712 0.61021348 0.2836972  0.1190775\n",
      "  0.21455712 1.17389879 0.52743956 0.29977724 0.61522643 0.31452251\n",
      "  0.26247509 0.91571937 0.80051424 0.77283578 0.57894556 0.58925687\n",
      "  0.6653751  0.09640438 0.83588144 0.93096608 0.41189534 0.7345135\n",
      "  0.65821882 0.39012382 0.485091   0.48961618 0.6796948  0.66653276\n",
      "  0.76532989 0.39725982 0.93230821 0.56413001 0.         0.70940309\n",
      "  0.92204086 0.73999595 0.69265568 0.61178617 0.67463637 0.31691968\n",
      "  0.86925513 0.94878129 0.88640843 0.35342015 0.49902242 0.8776316\n",
      "  0.83300456 0.90610937 0.33601336 0.70948224 0.54545057 0.56730967\n",
      "  0.57499848 0.58924621 0.51314992 0.12031836 0.92315124 0.76223805\n",
      "  0.51362876 0.60371226 0.24954832 1.03997401 0.30631598 0.73909117\n",
      "  0.50913066 0.82383401 0.91368484 0.5230492  0.54146182 0.86832976\n",
      "  0.27437416 1.13509068 0.86095693 1.03905404 0.8584003  0.51917469\n",
      "  0.67330734 0.90117135 1.12391361 0.45755152 0.74209931 0.19137962\n",
      "  0.30174038 0.41896813 0.94374132 0.3349054 ]\n",
      " [0.22099986 0.7385059  0.20260775 0.76498397 0.56255961 0.53114839\n",
      "  0.15763709 0.18967987 0.59848131 0.66940367 0.16776204 0.43326499\n",
      "  0.13178846 0.77062673 0.47101453 0.85220031 0.72736429 0.69545525\n",
      "  0.50442972 0.73966538 0.80362492 0.51971311 0.09447827 0.56718506\n",
      "  0.58526991 0.64739952 0.39537467 0.59877181 0.57614214 0.57035693\n",
      "  0.33429892 0.67402244 0.19799528 0.52606448 0.57029539 0.10287054\n",
      "  0.50089662 0.33704906 0.72302649 0.34698764 0.05939782 0.16766642\n",
      "  0.42454522 0.3251937  0.22305473 0.31501624 0.70940309 0.\n",
      "  0.53797454 0.5400732  0.39849024 0.8185405  0.71659624 0.45079921\n",
      "  0.17661151 0.48751712 0.17984475 0.39524985 0.28945361 0.30502857\n",
      "  0.81540884 0.28298901 0.52883676 0.58907142 0.60729535 0.15396761\n",
      "  0.29091727 0.8594088  0.77243761 0.6113451  0.28670217 0.94792472\n",
      "  0.37849109 0.65547637 0.46277112 0.60707436 0.50114825 0.56493363\n",
      "  0.46540348 0.60629733 0.49302848 0.3195367  0.37550382 0.18784674\n",
      "  0.4368346  0.73856395 0.2856563  0.60390367 0.88141005 0.50222579\n",
      "  0.2559589  0.3814348  0.66869837 0.48929893 0.62831992 0.59627589\n",
      "  0.45874319 0.38075011 0.38554439 0.4596558 ]\n",
      " [0.67379505 0.61289013 0.64067665 0.37349717 0.26754206 0.16464653\n",
      "  0.67112368 0.41579423 0.14125271 0.28362092 0.37024066 0.63704042\n",
      "  0.42553456 0.76082148 0.85305709 0.64787632 0.75583532 0.97663403\n",
      "  0.80112501 0.25278544 0.65456755 0.62395569 0.55992394 0.62459711\n",
      "  0.67425461 0.14710658 0.15116601 0.22927231 0.40113261 0.3876927\n",
      "  0.27720744 0.83922554 0.70443855 0.02486574 0.54504869 0.43575738\n",
      "  0.28131846 0.58659131 0.60261273 0.81533988 0.49145138 0.39383591\n",
      "  0.16058315 0.58990416 0.55773058 0.3795589  0.92204086 0.53797454\n",
      "  0.         0.21633052 0.23219211 0.60639624 0.44059433 0.82575278\n",
      "  0.46786196 0.09482917 0.51894746 0.77737337 0.46489417 0.26992126\n",
      "  0.42829105 0.33351135 0.5932743  0.28501671 0.4532957  0.61778919\n",
      "  0.3803475  0.67274675 0.63127625 0.88417745 0.76720276 0.65513941\n",
      "  0.41189209 0.44151559 0.7575878  0.11940653 0.88160964 0.23523241\n",
      "  0.41781215 0.18420531 0.05217421 0.4205138  0.3839797  0.44019077\n",
      "  0.69938409 0.2231864  0.28167694 0.11910466 0.49555547 0.41869776\n",
      "  0.31803813 0.18822911 0.2034062  0.47245696 0.28842962 0.73563408\n",
      "  0.62616226 0.5134461  0.22859525 0.58831755]\n",
      " [0.60446165 0.39657652 0.5714333  0.22846785 0.05198918 0.37396339\n",
      "  0.63424621 0.49031424 0.11704392 0.4996779  0.39282318 0.48139626\n",
      "  0.46787831 0.54784317 0.72969202 0.43909915 0.54725989 0.80967765\n",
      "  0.65255657 0.44825707 0.43954364 0.44095896 0.52434483 0.4299661\n",
      "  0.48170607 0.17638302 0.19853351 0.05909772 0.18650261 0.17313337\n",
      "  0.20658622 0.65098644 0.73314072 0.23570962 0.34139264 0.45281707\n",
      "  0.08255106 0.45788065 0.38629592 0.73469932 0.48245637 0.37266594\n",
      "  0.14008529 0.46587739 0.63996922 0.26932122 0.73999595 0.5400732\n",
      "  0.21633052 0.         0.14158308 0.39754191 0.23769011 0.70235394\n",
      "  0.54068068 0.28892378 0.59086325 0.66229485 0.35260739 0.37672619\n",
      "  0.28226496 0.44386176 0.40416988 0.07441226 0.23794678 0.56491251\n",
      "  0.28375358 0.46198876 0.41549403 0.72079376 0.81283921 0.46994915\n",
      "  0.26351814 0.2264422  0.61338105 0.33138833 0.75502499 0.02793354\n",
      "  0.2327711  0.08878917 0.23772672 0.29937377 0.24012248 0.51659863\n",
      "  0.55248526 0.40127915 0.37722008 0.33188414 0.35134338 0.22129782\n",
      "  0.28412094 0.32489411 0.4126548  0.28248756 0.09758857 0.5491125\n",
      "  0.46100214 0.36338978 0.37995474 0.41815452]\n",
      " [0.47544323 0.45025349 0.44197486 0.36813502 0.16898458 0.34729147\n",
      "  0.49694215 0.36102594 0.21806455 0.49508975 0.25454479 0.40484961\n",
      "  0.33109181 0.56647795 0.62830095 0.52569638 0.55084967 0.74452359\n",
      "  0.56977599 0.48489008 0.50554019 0.39747823 0.3857616  0.40553101\n",
      "  0.45248043 0.2763359  0.11664297 0.2003623  0.23733198 0.22591073\n",
      "  0.06612365 0.6128337  0.59197035 0.23885061 0.3390397  0.3124556\n",
      "  0.12002444 0.35797821 0.43687104 0.61116937 0.34096015 0.23113779\n",
      "  0.07271429 0.362683   0.50867009 0.15215479 0.69265568 0.39849024\n",
      "  0.23219211 0.14158308 0.         0.48574489 0.34633174 0.60081957\n",
      "  0.40914351 0.2596059  0.45781748 0.55525642 0.23945657 0.26948279\n",
      "  0.42035369 0.33145633 0.37087548 0.19660786 0.286565   0.43047837\n",
      "  0.15877128 0.54297304 0.47697709 0.65199583 0.67275051 0.58497731\n",
      "  0.18008057 0.30678826 0.52675849 0.34801578 0.6558992  0.16681561\n",
      "  0.2010164  0.21387863 0.22120463 0.19111917 0.15210439 0.38688964\n",
      "  0.46793113 0.45305872 0.26438882 0.34691643 0.48822216 0.21425758\n",
      "  0.14253962 0.24399095 0.43163909 0.25555342 0.23263163 0.50934555\n",
      "  0.39456526 0.281254   0.29829249 0.35790784]\n",
      " [0.77658199 0.12323158 0.75120281 0.29411647 0.34609148 0.76904602\n",
      "  0.84854307 0.83840247 0.47368748 0.88251146 0.7188513  0.51541413\n",
      "  0.79549772 0.28897026 0.77245424 0.04158798 0.33099837 0.72119121\n",
      "  0.65035571 0.80148708 0.09079508 0.40724009 0.76234323 0.35317499\n",
      "  0.38770588 0.50658374 0.58478018 0.37753752 0.25202445 0.26171948\n",
      "  0.52436075 0.51762229 1.01426456 0.62832933 0.28090967 0.76200972\n",
      "  0.36767614 0.56578392 0.13354183 0.86237652 0.7603963  0.66604074\n",
      "  0.524341   0.58035767 0.9796098  0.50475647 0.61178617 0.8185405\n",
      "  0.60639624 0.39754191 0.48574489 0.         0.16732123 0.75057671\n",
      "  0.88210815 0.68589645 0.92662745 0.73741185 0.53866003 0.75451169\n",
      "  0.2734889  0.81719965 0.36743382 0.32389352 0.21221723 0.77059357\n",
      "  0.5292794  0.06816518 0.09869104 0.66019767 1.10504206 0.15762596\n",
      "  0.44046976 0.17907566 0.63292332 0.71099236 0.7855468  0.37396593\n",
      "  0.35323317 0.42771723 0.63425185 0.5000192  0.44357073 0.86311229\n",
      "  0.5833835  0.742665   0.75010518 0.71238629 0.26910234 0.31635892\n",
      "  0.59629286 0.71634142 0.78446766 0.3375056  0.31870327 0.45381604\n",
      "  0.47691287 0.46984987 0.77204237 0.44026982]\n",
      " [0.71715479 0.21426557 0.68771762 0.1514092  0.18856054 0.60419412\n",
      "  0.7738655  0.70705548 0.30644408 0.71526109 0.59503716 0.49968196\n",
      "  0.67252631 0.3959848  0.76711096 0.20831327 0.41912335 0.77056706\n",
      "  0.65927154 0.63559176 0.23171276 0.41138498 0.67545389 0.37125457\n",
      "  0.41911863 0.34006964 0.43276483 0.21132558 0.14806688 0.14994015\n",
      "  0.39626928 0.57833859 0.9145899  0.46304228 0.27493965 0.64609446\n",
      "  0.22674458 0.52217015 0.21156298 0.82411402 0.65721835 0.55373487\n",
      "  0.37245983 0.5350381  0.85352911 0.4046075  0.67463637 0.71659624\n",
      "  0.44059433 0.23769011 0.34633174 0.16732123 0.         0.74211194\n",
      "  0.75426503 0.52275315 0.80182441 0.7170255  0.46073965 0.60821811\n",
      "  0.15883466 0.67361687 0.36734207 0.16333207 0.14505196 0.69716254\n",
      "  0.42755668 0.23508379 0.21733027 0.69511494 1.00156938 0.23865306\n",
      "  0.35497836 0.07870479 0.63149632 0.54375138 0.78586382 0.2120724\n",
      "  0.27331757 0.26049522 0.47083379 0.41270198 0.34811378 0.73275299\n",
      "  0.57410583 0.57774228 0.60625174 0.54517802 0.1969718  0.23612515\n",
      "  0.47401    0.56189377 0.61722875 0.28479776 0.1521932  0.49234674\n",
      "  0.46572264 0.41774723 0.61722143 0.42216964]\n",
      " [0.2322925  0.63117126 0.24830662 0.86202747 0.68915968 0.8929729\n",
      "  0.32482807 0.62744861 0.80965359 1.04580562 0.54081768 0.24250786\n",
      "  0.55884327 0.54913844 0.02750285 0.76590281 0.490078   0.25990665\n",
      "  0.11735675 1.07245313 0.68859753 0.34349812 0.36004604 0.39783564\n",
      "  0.37085909 0.87044931 0.67981075 0.75265213 0.60453236 0.60897691\n",
      "  0.5486449  0.33421582 0.53765529 0.82629581 0.47663949 0.50837858\n",
      "  0.62426957 0.24495659 0.61858877 0.17276595 0.44076814 0.47313596\n",
      "  0.66733449 0.23853767 0.66787511 0.44874641 0.31691968 0.45079921\n",
      "  0.82575278 0.70235394 0.60081957 0.75057671 0.74211194 0.\n",
      "  0.62570492 0.82068502 0.62961962 0.05609124 0.36174938 0.69390067\n",
      "  0.89270554 0.70154071 0.38479244 0.70414694 0.59709826 0.29690927\n",
      "  0.44555593 0.75593634 0.66330313 0.19747459 0.61939751 0.90773854\n",
      "  0.43883684 0.66342269 0.11856678 0.93153635 0.05642926 0.71341039\n",
      "  0.4884365  0.79085662 0.80033636 0.41026843 0.46286187 0.6325388\n",
      "  0.16900102 1.04892845 0.67449452 0.92953693 0.93904076 0.51838859\n",
      "  0.51882837 0.74289047 1.01027802 0.46021717 0.74542526 0.32283508\n",
      "  0.27796606 0.34161712 0.77175085 0.32027033]\n",
      " [0.39745497 0.82202406 0.37753418 0.76803745 0.57674859 0.41164778\n",
      "  0.32865687 0.05257626 0.56479444 0.53107199 0.16389116 0.5780372\n",
      "  0.09097649 0.88624443 0.64664593 0.91976365 0.85013097 0.86484861\n",
      "  0.67147791 0.62418657 0.88443618 0.64737297 0.26581355 0.68687552\n",
      "  0.71423068 0.60140029 0.35498526 0.59443309 0.63032783 0.62139121\n",
      "  0.35928028 0.8242426  0.25176655 0.44957626 0.66799447 0.13898318\n",
      "  0.52762179 0.48338876 0.80697608 0.52155619 0.1902843  0.22920072\n",
      "  0.4041623  0.47412162 0.09956381 0.39053203 0.86925513 0.17661151\n",
      "  0.46786196 0.54068068 0.40914351 0.88210815 0.75426503 0.62570492\n",
      "  0.         0.3938138  0.05165881 0.56983137 0.40242691 0.19907934\n",
      "  0.8226692  0.14550685 0.64695925 0.6045027  0.67163282 0.32979324\n",
      "  0.36684507 0.93240705 0.85370749 0.77793908 0.30119319 0.99268011\n",
      "  0.46308186 0.70682057 0.62801371 0.50583302 0.67696393 0.5682881\n",
      "  0.54188176 0.58555275 0.4166668  0.41235305 0.44992738 0.0278317\n",
      "  0.59488748 0.63608659 0.18618534 0.50219932 0.8919756  0.57376134\n",
      "  0.28595289 0.28355337 0.55207663 0.57945989 0.63734099 0.73760292\n",
      "  0.59687996 0.49941783 0.2641452  0.58786418]\n",
      " [0.64771265 0.68111829 0.61567101 0.46618662 0.34085367 0.08875392\n",
      "  0.6314318  0.3434174  0.23335044 0.23635955 0.32230997 0.6533071\n",
      "  0.36501106 0.81748825 0.84744178 0.72748379 0.80663064 0.99295095\n",
      "  0.809563   0.25728598 0.72740588 0.65641431 0.52384726 0.66493324\n",
      "  0.71208572 0.24156149 0.14840648 0.31329824 0.46504212 0.45178466\n",
      "  0.28488498 0.87135438 0.63896725 0.07019627 0.59415663 0.38484728\n",
      "  0.33953916 0.59094085 0.66969575 0.79051285 0.44782993 0.36266441\n",
      "  0.18946535 0.59186083 0.47802757 0.38887045 0.94878129 0.48751712\n",
      "  0.09482917 0.28892378 0.2596059  0.68589645 0.52275315 0.82068502\n",
      "  0.3938138  0.         0.44349235 0.7692862  0.46792583 0.19538601\n",
      "  0.52144818 0.25247769 0.63048131 0.36201084 0.5176595  0.58659131\n",
      "  0.38360819 0.75082892 0.70232251 0.89956623 0.69500555 0.74405195\n",
      "  0.43536875 0.51480671 0.76461011 0.11978823 0.87708685 0.31193757\n",
      "  0.45909324 0.27373448 0.05198664 0.4308711  0.40771751 0.36599931\n",
      "  0.70923939 0.25104853 0.2108966  0.11676475 0.58927985 0.4671906\n",
      "  0.30196369 0.11081537 0.19058773 0.51405844 0.37195999 0.76810038\n",
      "  0.64797234 0.53154906 0.13929917 0.61411217]\n",
      " [0.39813644 0.86301669 0.38196425 0.81857276 0.62602885 0.45739223\n",
      "  0.31950244 0.1042263  0.6164093  0.57095313 0.20796632 0.60153162\n",
      "  0.13118066 0.92021475 0.64905168 0.96375755 0.88200933 0.87523329\n",
      "  0.68370043 0.66934519 0.92610443 0.67706824 0.27384164 0.71906893\n",
      "  0.74380559 0.65301968 0.40646052 0.64507252 0.67536064 0.66681714\n",
      "  0.40589805 0.84622345 0.21077506 0.50036642 0.70551349 0.17129237\n",
      "  0.57548978 0.50571611 0.84784067 0.51342671 0.20838585 0.26645794\n",
      "  0.45505126 0.4953589  0.05343674 0.43002285 0.88640843 0.17984475\n",
      "  0.51894746 0.59086325 0.45781748 0.92662745 0.80182441 0.62961962\n",
      "  0.05165881 0.44349235 0.         0.57437607 0.4340843  0.24957653\n",
      "  0.87302478 0.19269265 0.67939687 0.65377601 0.71535263 0.33285396\n",
      "  0.40585977 0.97555137 0.89520946 0.79058653 0.2522919  1.03992991\n",
      "  0.50180663 0.75255691 0.64147592 0.55395471 0.67885411 0.61837267\n",
      "  0.58283044 0.63690087 0.46758332 0.44877888 0.49040392 0.07887406\n",
      "  0.61252714 0.68344619 0.23733643 0.55027671 0.94220662 0.61579204\n",
      "  0.33056926 0.33371664 0.59737623 0.61806331 0.68722004 0.7630242\n",
      "  0.62290933 0.5307227  0.31141164 0.61708076]\n",
      " [0.17818051 0.62083884 0.19265113 0.83100432 0.65215255 0.84025884\n",
      "  0.27349326 0.57135737 0.76703578 0.99272396 0.4855004  0.22241031\n",
      "  0.50276486 0.55481809 0.07991195 0.75551368 0.49687869 0.30883667\n",
      "  0.14121386 1.02235393 0.68073553 0.33150741 0.30409503 0.38826678\n",
      "  0.36810498 0.82753559 0.63005704 0.71427049 0.57573182 0.57913805\n",
      "  0.5008719  0.35738929 0.48898247 0.77705895 0.45893926 0.45236027\n",
      "  0.58603731 0.20510088 0.60750378 0.14433213 0.38467695 0.41873998\n",
      "  0.6201626  0.19642392 0.61330806 0.40318577 0.35342015 0.39524985\n",
      "  0.77737337 0.66229485 0.55525642 0.73741185 0.7170255  0.05609124\n",
      "  0.56983137 0.7692862  0.57437607 0.         0.31583314 0.63903341\n",
      "  0.8642266  0.64577637 0.36998918 0.66858235 0.57269924 0.24152849\n",
      "  0.39819581 0.74775677 0.65402195 0.23755147 0.5730609  0.89342417\n",
      "  0.3995582  0.63865945 0.1228538  0.8813662  0.11064367 0.6748233\n",
      "  0.45587324 0.7502861  0.75041155 0.36623907 0.42217266 0.5764998\n",
      "  0.15583216 1.0003725  0.61954257 0.87927634 0.91333951 0.48795679\n",
      "  0.46733503 0.68944915 0.95931996 0.43267509 0.7104645  0.32964489\n",
      "  0.26054371 0.30686982 0.71730592 0.29941861]\n",
      " [0.25986205 0.45086929 0.22875311 0.54542849 0.35090406 0.54671972\n",
      "  0.31397156 0.37601001 0.45252058 0.70044086 0.25342841 0.19523336\n",
      "  0.31228644 0.48653564 0.38919039 0.56969475 0.44808333 0.52832999\n",
      "  0.34174625 0.71406911 0.51631983 0.24541549 0.22389126 0.28500646\n",
      "  0.31220834 0.51262306 0.32230954 0.4079166  0.31296145 0.310959\n",
      "  0.187812   0.43698451 0.47912176 0.46674214 0.28091111 0.26399316\n",
      "  0.28278608 0.12307527 0.43538174 0.382967   0.23606288 0.17704671\n",
      "  0.3057024  0.1251247  0.48646108 0.0873536  0.49902242 0.28945361\n",
      "  0.46489417 0.35260739 0.23945657 0.53866003 0.46073965 0.36174938\n",
      "  0.40242691 0.46792583 0.4340843  0.31583314 0.         0.37869003\n",
      "  0.58725571 0.4107368  0.24531356 0.37159126 0.33292538 0.23668363\n",
      "  0.08497557 0.57439442 0.48521304 0.43487833 0.57160458 0.67808398\n",
      "  0.1059146  0.38982613 0.2966882  0.57373415 0.41720479 0.36853874\n",
      "  0.18986977 0.43879565 0.44246541 0.05354935 0.11840567 0.39379196\n",
      "  0.24226804 0.68801315 0.36229417 0.5719849  0.64590349 0.22814202\n",
      "  0.17533331 0.40567901 0.65452691 0.20273888 0.41432407 0.34207792\n",
      "  0.20296675 0.09699136 0.44559405 0.1866972 ]\n",
      " [0.49281742 0.71752256 0.46371679 0.59556936 0.42099054 0.22642612\n",
      "  0.4579752  0.14809907 0.37761267 0.36633225 0.15535562 0.57383593\n",
      "  0.1755869  0.81803046 0.71893978 0.79476679 0.79346446 0.89998961\n",
      "  0.70732394 0.43702347 0.77434017 0.61018134 0.35915754 0.63526153\n",
      "  0.67409784 0.40806915 0.17850991 0.42358548 0.50674016 0.49539264\n",
      "  0.24613653 0.81394028 0.44402719 0.25084928 0.58923233 0.20644349\n",
      "  0.38696008 0.49238691 0.70366484 0.63334326 0.27605674 0.22147155\n",
      "  0.23698873 0.48865486 0.28796092 0.32496177 0.8776316  0.30502857\n",
      "  0.26992126 0.37672619 0.26948279 0.75451169 0.60821811 0.69390067\n",
      "  0.19907934 0.19538601 0.24957653 0.63903341 0.37869003 0.\n",
      "  0.65147831 0.0681522  0.59626721 0.44790182 0.55527204 0.42636024\n",
      "  0.30830504 0.81242407 0.74534769 0.80743355 0.50004916 0.84497417\n",
      "  0.392569   0.57543743 0.66149219 0.31051879 0.74962009 0.40454486\n",
      "  0.45052992 0.40461911 0.21823615 0.36171285 0.37005468 0.17125622\n",
      "  0.61403226 0.44211059 0.02004537 0.30703132 0.72134518 0.47335199\n",
      "  0.20721268 0.08466307 0.36535657 0.49963972 0.47392023 0.71566449\n",
      "  0.58004945 0.46554958 0.08156612 0.55680121]\n",
      " [0.84708551 0.35980555 0.81592224 0.05612844 0.25291687 0.58967661\n",
      "  0.8932203  0.77194885 0.28815095 0.6718445  0.67428415 0.65133866\n",
      "  0.74988735 0.5433028  0.91834633 0.30526679 0.57217004 0.92939113\n",
      "  0.81451781 0.56670338 0.35887724 0.56819998 0.78821412 0.52972639\n",
      "  0.57790893 0.29245345 0.47390617 0.22888343 0.28853583 0.28530252\n",
      "  0.48183559 0.73664085 1.0111742  0.4530616  0.43269678 0.73276051\n",
      "  0.31588985 0.66412067 0.36042546 0.96305581 0.75662032 0.64798065\n",
      "  0.41943928 0.67594928 0.92179222 0.51824836 0.83300456 0.81540884\n",
      "  0.42829105 0.28226496 0.42035369 0.2734889  0.15883466 0.89270554\n",
      "  0.8226692  0.52144818 0.87302478 0.8642266  0.58725571 0.65147831\n",
      "  0.         0.71952961 0.52420477 0.22637102 0.29963262 0.81898315\n",
      "  0.538429   0.33663714 0.35374264 0.85344742 1.09304275 0.24436646\n",
      "  0.48256189 0.23455684 0.78488017 0.50638624 0.93840641 0.25502094\n",
      "  0.41040682 0.25074333 0.47135582 0.53548342 0.46940309 0.79826484\n",
      "  0.72627974 0.50381331 0.65435351 0.50879421 0.0698683  0.37651879\n",
      "  0.56127095 0.58859423 0.56598502 0.43251414 0.18776016 0.65116609\n",
      "  0.61904148 0.55942662 0.64034613 0.57473911]\n",
      " [0.48829932 0.77541326 0.46187043 0.66364744 0.48722214 0.26621211\n",
      "  0.44029515 0.10114312 0.4453235  0.39093038 0.16411293 0.60359639\n",
      "  0.15193193 0.86774612 0.72538034 0.85707935 0.84007281 0.92015348\n",
      "  0.72591739 0.47883433 0.83364475 0.65010936 0.35182697 0.67945318\n",
      "  0.71542828 0.47427662 0.2461468  0.49145768 0.56763269 0.55671282\n",
      "  0.30075738 0.84767063 0.39678861 0.31307898 0.64023127 0.19598575\n",
      "  0.45045019 0.51680019 0.76123295 0.6246805  0.26691018 0.239992\n",
      "  0.30385217 0.51124577 0.22559333 0.36818252 0.90610937 0.28298901\n",
      "  0.33351135 0.44386176 0.33145633 0.81719965 0.67361687 0.70154071\n",
      "  0.14550685 0.25247769 0.19269265 0.64577637 0.4107368  0.0681522\n",
      "  0.71952961 0.         0.63985116 0.51434564 0.61493116 0.4199868\n",
      "  0.34885786 0.873833   0.80418347 0.82885565 0.44498449 0.91102546\n",
      "  0.43886475 0.63823133 0.68041513 0.36126725 0.75618297 0.47173922\n",
      "  0.50335683 0.47274769 0.28139012 0.40150813 0.41852556 0.11854033\n",
      "  0.63702391 0.49091518 0.0673905  0.3575862  0.78939786 0.52870243\n",
      "  0.24931674 0.14534419 0.4067052  0.55005729 0.54124165 0.75212793\n",
      "  0.61370278 0.50260129 0.11881721 0.59437058]\n",
      " [0.42800027 0.25216058 0.40800148 0.50272524 0.37056012 0.71797187\n",
      "  0.51348337 0.61779374 0.52119991 0.86563524 0.49255382 0.14846284\n",
      "  0.55633039 0.24199323 0.40782648 0.38624766 0.2032348  0.41392875\n",
      "  0.29289899 0.84284382 0.31435535 0.04404411 0.45050297 0.04002581\n",
      "  0.08160828 0.57971608 0.48517041 0.43730505 0.24854435 0.25746418\n",
      "  0.35841387 0.24739083 0.70796361 0.60447081 0.09337711 0.50905133\n",
      "  0.3227771  0.21454553 0.23829895 0.49788865 0.47898347 0.41895485\n",
      "  0.44203975 0.22956446 0.73174366 0.27194546 0.33601336 0.52883676\n",
      "  0.5932743  0.40416988 0.37087548 0.36743382 0.36734207 0.38479244\n",
      "  0.64695925 0.63048131 0.67939687 0.36998918 0.24531356 0.59626721\n",
      "  0.52420477 0.63985116 0.         0.37498592 0.22484983 0.4382283\n",
      "  0.29110685 0.38042001 0.2861438  0.3316837  0.80155081 0.52378285\n",
      "  0.20436741 0.28973782 0.26894164 0.7124145  0.42350495 0.40313051\n",
      "  0.17573704 0.48786693 0.59061526 0.23925742 0.22914095 0.63698052\n",
      "  0.21641168 0.80151882 0.58302701 0.71182734 0.56298878 0.18316208\n",
      "  0.39091351 0.60066233 0.79654792 0.12223143 0.40958795 0.14494353\n",
      "  0.10962828 0.14908893 0.64969865 0.07811625]\n",
      " [0.63019165 0.3308104  0.59805667 0.1776424  0.02775421 0.44579166\n",
      "  0.67007483 0.55528232 0.1647869  0.5662819  0.45109725 0.47220811\n",
      "  0.52769339 0.49141462 0.73102609 0.36547937 0.49673732 0.78769913\n",
      "  0.64296913 0.50384443 0.36971257 0.4153362  0.56337338 0.39530342\n",
      "  0.44753148 0.21495284 0.27075833 0.06682696 0.13442972 0.1223797\n",
      "  0.25599268 0.61724673 0.78512903 0.30589993 0.30051077 0.50783063\n",
      "  0.09087592 0.46376071 0.32174505 0.75358793 0.53025168 0.42173581\n",
      "  0.21101203 0.4736786  0.70405814 0.29614351 0.70948224 0.58907142\n",
      "  0.28501671 0.07441226 0.19660786 0.32389352 0.16333207 0.70414694\n",
      "  0.6045027  0.36201084 0.65377601 0.66858235 0.37159126 0.44790182\n",
      "  0.22637102 0.51434564 0.37498592 0.         0.18081491 0.59731701\n",
      "  0.31484155 0.38902546 0.34712002 0.70196774 0.86783768 0.39722625\n",
      "  0.27158881 0.15708517 0.60686342 0.3958799  0.75447784 0.05017511\n",
      "  0.2177746  0.12217013 0.31042416 0.31834826 0.25350847 0.58140657\n",
      "  0.54602079 0.45215061 0.44725193 0.39676115 0.29274544 0.19502728\n",
      "  0.33557512 0.39877968 0.47462597 0.25856461 0.04273461 0.51823406\n",
      "  0.44681361 0.36261819 0.45400598 0.40233147]\n",
      " [0.58233072 0.16493722 0.55441241 0.27869381 0.18939632 0.60542381\n",
      "  0.64637799 0.6291915  0.34483321 0.7369162  0.50795308 0.3546413\n",
      "  0.5841721  0.31112144 0.62206162 0.24843576 0.31642717 0.63467176\n",
      "  0.5151166  0.68332178 0.21907713 0.26875578 0.55478486 0.23375161\n",
      "  0.28428974 0.39563821 0.39591912 0.24760552 0.05262777 0.06596044\n",
      "  0.31669436 0.45040025 0.80382583 0.47127446 0.13524695 0.54989531\n",
      "  0.17886342 0.38086965 0.1525681  0.68311668 0.54884008 0.45384585\n",
      "  0.33772629 0.39428479 0.76849063 0.29281934 0.54545057 0.60729535\n",
      "  0.4532957  0.23794678 0.286565   0.21221723 0.14505196 0.59709826\n",
      "  0.67163282 0.5176595  0.71535263 0.57269924 0.33292538 0.55527204\n",
      "  0.29963262 0.61493116 0.22484983 0.18081491 0.         0.56865299\n",
      "  0.31728323 0.26106173 0.19043488 0.55560874 0.8939765  0.34515911\n",
      "  0.23081023 0.06634746 0.48660847 0.5693246  0.64087225 0.22423458\n",
      "  0.14364849 0.30297998 0.46874109 0.29053944 0.23184549 0.65345419\n",
      "  0.42905924 0.63271445 0.54876804 0.56979145 0.34202342 0.10567943\n",
      "  0.38570358 0.52764013 0.65043729 0.14232992 0.2038298  0.357545\n",
      "  0.32076347 0.27769112 0.58288691 0.27712076]\n",
      " [0.06870899 0.67416753 0.04946053 0.77426643 0.57388791 0.64464707\n",
      "  0.07795859 0.33627188 0.64707438 0.79149617 0.27191222 0.31596861\n",
      "  0.2702858  0.67280704 0.31707161 0.79933883 0.62334765 0.54476546\n",
      "  0.35702494 0.84381509 0.73958556 0.4185405  0.06816156 0.47260897\n",
      "  0.47938536 0.70287869 0.46697303 0.62338083 0.54956984 0.54725436\n",
      "  0.36516359 0.54222014 0.27806358 0.61111929 0.49974773 0.22416003\n",
      "  0.50650643 0.22594842 0.65888289 0.20701892 0.15308324 0.22493393\n",
      "  0.47790861 0.21144905 0.37267819 0.30127314 0.56730967 0.15396761\n",
      "  0.61778919 0.56491251 0.43047837 0.77059357 0.69716254 0.29690927\n",
      "  0.32979324 0.58659131 0.33285396 0.24152849 0.23668363 0.42636024\n",
      "  0.81898315 0.4199868  0.4382283  0.59731701 0.56865299 0.\n",
      "  0.28285866 0.80114154 0.70903524 0.46349461 0.37059378 0.91352946\n",
      "  0.34219516 0.62647137 0.31795999 0.70523894 0.34726672 0.58545537\n",
      "  0.42632589 0.64400751 0.58019206 0.2850679  0.35082961 0.33854607\n",
      "  0.30172102 0.83318218 0.40631646 0.70251845 0.87975407 0.46455907\n",
      "  0.30233348 0.4909286  0.77555035 0.43314605 0.63953619 0.47600803\n",
      "  0.34844303 0.30310255 0.50769165 0.36178598]\n",
      " [0.3208029  0.45765915 0.28770238 0.49223145 0.29107191 0.46361751\n",
      "  0.35526487 0.33177083 0.37566839 0.61714645 0.20557997 0.27310363\n",
      "  0.27627244 0.52352861 0.47291727 0.56419345 0.49246432 0.61053013\n",
      "  0.42599798 0.62910744 0.52138665 0.30216173 0.25017563 0.3308379\n",
      "  0.36684303 0.4347381  0.23742131 0.34155126 0.28528868 0.27982201\n",
      "  0.10314076 0.50682796 0.48850546 0.38184017 0.30139025 0.2360131\n",
      "  0.22396569 0.20789985 0.44239411 0.45357019 0.2319908  0.13961595\n",
      "  0.2219898  0.21005426 0.45928697 0.02460108 0.57499848 0.29091727\n",
      "  0.3803475  0.28375358 0.15877128 0.5292794  0.42755668 0.44555593\n",
      "  0.36684507 0.38360819 0.40585977 0.39819581 0.08497557 0.30830504\n",
      "  0.538429   0.34885786 0.29110685 0.31484155 0.31728323 0.28285866\n",
      "  0.         0.57346218 0.4903349  0.51703379 0.57749031 0.65706452\n",
      "  0.09623687 0.36462053 0.3811943  0.48875948 0.50130467 0.3031425\n",
      "  0.17825383 0.36636768 0.35749877 0.0534125  0.08597185 0.35310335\n",
      "  0.32569527 0.60352738 0.29377126 0.48701457 0.60119807 0.21337459\n",
      "  0.10111691 0.32623146 0.56963992 0.21262199 0.35686337 0.40754688\n",
      "  0.27411295 0.15785523 0.36942161 0.24860187]\n",
      " [0.80170751 0.12874233 0.77818775 0.36060841 0.41019903 0.83474744\n",
      "  0.87878907 0.89024795 0.54115149 0.949916   0.76859773 0.52850909\n",
      "  0.84441475 0.25567707 0.77624439 0.03148206 0.30555014 0.70277932\n",
      "  0.65025448 0.86964718 0.06735551 0.41642223 0.79805851 0.35952056\n",
      "  0.38631191 0.57467819 0.64555495 0.44437084 0.30623623 0.31716083\n",
      "  0.57744907 0.49815427 1.05301089 0.69438018 0.30259524 0.80852872\n",
      "  0.42695688 0.58833637 0.14342823 0.87829253 0.80220738 0.71208098\n",
      "  0.58538746 0.60323101 1.0288083  0.54886456 0.58924621 0.8594088\n",
      "  0.67274675 0.46198876 0.54297304 0.06816518 0.23508379 0.75593634\n",
      "  0.93240705 0.75082892 0.97555137 0.74775677 0.57439442 0.81242407\n",
      "  0.33663714 0.873833   0.38042001 0.38902546 0.26106173 0.80114154\n",
      "  0.57346218 0.         0.09429999 0.64897395 1.14484546 0.17488925\n",
      "  0.48123199 0.23896218 0.63740924 0.77840125 0.78685524 0.43919732\n",
      "  0.39535962 0.49516931 0.69938276 0.53987405 0.48751619 0.91446444\n",
      "  0.59212005 0.81081725 0.80710388 0.7797453  0.3246483  0.36041374\n",
      "  0.64658537 0.77755257 0.85231222 0.37166031 0.38578142 0.44635473\n",
      "  0.48943831 0.49813415 0.8332573  0.45686696]\n",
      " [0.70814222 0.03489806 0.68505376 0.36352746 0.36383185 0.78883488\n",
      "  0.78648491 0.81355253 0.50872262 0.9133807  0.68990484 0.43431496\n",
      "  0.76448347 0.19312556 0.68409031 0.10310616 0.2325566  0.62308614\n",
      "  0.55934674 0.84550441 0.03119202 0.32254396 0.70815802 0.26601758\n",
      "  0.29534094 0.55020078 0.5857034  0.40925165 0.24112455 0.25364162\n",
      "  0.50436701 0.41920672 0.96433273 0.65117709 0.20949726 0.72630789\n",
      "  0.36717719 0.49451568 0.05016536 0.78402938 0.71606256 0.6298186\n",
      "  0.52685822 0.50944513 0.94862129 0.46586419 0.51314992 0.77243761\n",
      "  0.63127625 0.41549403 0.47697709 0.09869104 0.21733027 0.66330313\n",
      "  0.85370749 0.70232251 0.89520946 0.65402195 0.48521304 0.74534769\n",
      "  0.35374264 0.80418347 0.2861438  0.34712002 0.19043488 0.70903524\n",
      "  0.4903349  0.09429999 0.         0.56390894 1.05668588 0.25218304\n",
      "  0.39604001 0.19003593 0.5449074  0.74293117 0.69555511 0.39625357\n",
      "  0.31242785 0.46343834 0.65208823 0.4535154  0.40495444 0.83707082\n",
      "  0.49854935 0.78984714 0.73841591 0.7438519  0.36014824 0.28002482\n",
      "  0.56924939 0.71766245 0.82082862 0.28317686 0.35392893 0.35860133\n",
      "  0.39526314 0.40594593 0.7730295  0.36258855]\n",
      " [0.4082804  0.53700081 0.41440896 0.83411747 0.6941298  0.980644\n",
      "  0.50756766 0.7697779  0.83645521 1.13409919 0.66478312 0.24727059\n",
      "  0.70014755 0.40978939 0.19758562 0.6657075  0.35138474 0.09350044\n",
      "  0.10691541 1.13687527 0.58336707 0.2886922  0.51692226 0.32388204\n",
      "  0.27791423 0.896863   0.75171519 0.76102445 0.579755   0.58808092\n",
      "  0.61491664 0.16344548 0.72495947 0.89012754 0.42094459 0.64762456\n",
      "  0.63829537 0.31536723 0.52769546 0.370217   0.58769636 0.58939348\n",
      "  0.72412511 0.31881042 0.83406591 0.51070606 0.12031836 0.6113451\n",
      "  0.88417745 0.72079376 0.65199583 0.66019767 0.69511494 0.19747459\n",
      "  0.77793908 0.89956623 0.79058653 0.23755147 0.43487833 0.80743355\n",
      "  0.85344742 0.82885565 0.3316837  0.70196774 0.55560874 0.46349461\n",
      "  0.51703379 0.64897395 0.56390894 0.         0.81028269 0.81608003\n",
      "  0.47262478 0.61914256 0.15005326 0.99907029 0.1866799  0.72443524\n",
      "  0.48857521 0.80812997 0.86940851 0.46870335 0.50040471 0.77971603\n",
      "  0.19359786 1.10343579 0.7895756  0.99774041 0.88751589 0.50698267\n",
      "  0.60968539 0.84037866 1.08191324 0.44342851 0.73870915 0.20711699\n",
      "  0.26054223 0.37077242 0.87853488 0.30264679]\n",
      " [0.40783942 1.02243102 0.41239977 1.04077465 0.84065232 0.70892697\n",
      "  0.30713432 0.352103   0.85450634 0.81540502 0.42066607 0.68640837\n",
      "  0.34904971 1.04035171 0.62968353 1.13833543 0.99256939 0.8792925\n",
      "  0.70862488 0.92013113 1.08782492 0.78604691 0.35144239 0.83798378\n",
      "  0.84858713 0.8958943  0.6438531  0.87014193 0.862533   0.85647591\n",
      "  0.61191925 0.90861786 0.0935993  0.74976628 0.85168404 0.36029559\n",
      "  0.78205731 0.59450427 1.00694119 0.45861612 0.34551117 0.44825813\n",
      "  0.68534032 0.58048553 0.22848082 0.60166784 0.92315124 0.28670217\n",
      "  0.76720276 0.81283921 0.67275051 1.10504206 1.00156938 0.61939751\n",
      "  0.30119319 0.69500555 0.2522919  0.5730609  0.57160458 0.50004916\n",
      "  1.09304275 0.44498449 0.80155081 0.86783768 0.8939765  0.37059378\n",
      "  0.57749031 1.14484546 1.05668588 0.81028269 0.         1.23424663\n",
      "  0.66469662 0.94184748 0.67579225 0.80624452 0.65433471 0.83911737\n",
      "  0.75181926 0.86979785 0.71661335 0.60539399 0.66220454 0.32900648\n",
      "  0.66910025 0.9356204  0.48623865 0.80256794 1.16048968 0.78881476\n",
      "  0.53231648 0.58464521 0.84838153 0.77366461 0.90528287 0.84644927\n",
      "  0.71798628 0.65744878 0.56367355 0.72758779]\n",
      " [0.92441993 0.28013846 0.8976142  0.29017302 0.42398593 0.81952767\n",
      "  0.9913447  0.94567444 0.514313   0.9124827  0.83267518 0.67109356\n",
      "  0.91016518 0.43041791 0.92982424 0.15202562 0.47883846 0.87417378\n",
      "  0.8079811  0.8109106  0.23487882 0.56425785 0.8994581  0.51067359\n",
      "  0.54514588 0.53017922 0.66793396 0.43223371 0.37178484 0.37783746\n",
      "  0.6340736  0.66974084 1.14555632 0.67918858 0.43508789 0.88204103\n",
      "  0.46535763 0.71665409 0.29106206 1.01590628 0.88881871 0.78823988\n",
      "  0.60822072 0.7309237  1.0918368  0.6331626  0.76223805 0.94792472\n",
      "  0.65513941 0.46994915 0.58497731 0.15762596 0.23865306 0.90773854\n",
      "  0.99268011 0.74405195 1.03992991 0.89342417 0.67808398 0.84497417\n",
      "  0.24436646 0.91102546 0.52378285 0.39722625 0.34515911 0.91352946\n",
      "  0.65706452 0.17488925 0.25218304 0.81608003 1.23424663 0.\n",
      "  0.57529157 0.29244979 0.79029796 0.74423007 0.94312581 0.44274125\n",
      "  0.48858593 0.47107336 0.69231777 0.63486493 0.57365324 0.97133805\n",
      "  0.74009124 0.74814737 0.84375357 0.74634995 0.20026679 0.45039026\n",
      "  0.71096604 0.79444919 0.80786872 0.48230457 0.37554831 0.61039565\n",
      "  0.63291066 0.61743778 0.84908573 0.59502962]\n",
      " [0.36485502 0.36287469 0.33426708 0.44222565 0.25334506 0.52089579\n",
      "  0.41908363 0.42752537 0.37273366 0.67172788 0.30143557 0.22610219\n",
      "  0.37248613 0.42957028 0.46617468 0.47371886 0.40143677 0.56481872\n",
      "  0.3942956  0.66467752 0.4271896  0.22341981 0.32416972 0.24288757\n",
      "  0.28401243 0.43375508 0.28740866 0.31471327 0.20745624 0.20511175\n",
      "  0.15525404 0.43668083 0.57379859 0.41891942 0.20536998 0.33139592\n",
      "  0.18655962 0.19462961 0.3475146  0.4827224  0.32098871 0.23536246\n",
      "  0.25270702 0.20333978 0.55521093 0.07292013 0.51362876 0.37849109\n",
      "  0.41189209 0.26351814 0.18008057 0.44046976 0.35497836 0.43883684\n",
      "  0.46308186 0.43536875 0.50180663 0.3995582  0.1059146  0.392569\n",
      "  0.48256189 0.43886475 0.20436741 0.27158881 0.23081023 0.34219516\n",
      "  0.09623687 0.48123199 0.39604001 0.47262478 0.66469662 0.57529157\n",
      "  0.         0.28509529 0.35302061 0.52808204 0.49163929 0.27526721\n",
      "  0.08736723 0.35207832 0.40032813 0.05973736 0.02798253 0.44916191\n",
      "  0.29276375 0.63092146 0.37996431 0.52695637 0.54035433 0.12513464\n",
      "  0.18975486 0.39718217 0.61162005 0.1163921  0.31413812 0.33402242\n",
      "  0.21448684 0.10303617 0.4454976  0.17877708]\n",
      " [0.64339488 0.1748875  0.61467031 0.21766899 0.17451253 0.60038625\n",
      "  0.70377916 0.66188387 0.31963159 0.72334974 0.54461372 0.4209807\n",
      "  0.62183674 0.34511274 0.68840674 0.21948994 0.3599011  0.69642282\n",
      "  0.58101418 0.65782596 0.21316496 0.33376185 0.60857999 0.29579771\n",
      "  0.34498592 0.36402277 0.40667323 0.22002379 0.07933506 0.08604403\n",
      "  0.34776455 0.50784704 0.85312209 0.46176573 0.19822713 0.59132175\n",
      "  0.18868564 0.44516929 0.16710724 0.74738308 0.59638663 0.49667551\n",
      "  0.34644388 0.45829869 0.80514593 0.34076396 0.60371226 0.65547637\n",
      "  0.44151559 0.2264422  0.30678826 0.17907566 0.07870479 0.66342269\n",
      "  0.70682057 0.51480671 0.75255691 0.63865945 0.38982613 0.57543743\n",
      "  0.23455684 0.63823133 0.28973782 0.15708517 0.06634746 0.62647137\n",
      "  0.36462053 0.23896218 0.19003593 0.61914256 0.94184748 0.29244979\n",
      "  0.28509529 0.         0.55287688 0.55293127 0.70719302 0.20633312\n",
      "  0.20029647 0.27486465 0.46396411 0.34414183 0.28164785 0.68694613\n",
      "  0.49540495 0.60374666 0.57108927 0.55383361 0.27567597 0.16223795\n",
      "  0.42210702 0.53861155 0.63120173 0.20702433 0.16695024 0.4184068\n",
      "  0.38706485 0.34119857 0.59432044 0.34346729]\n",
      " [0.26840852 0.51295916 0.26980384 0.75725993 0.59447208 0.84287839\n",
      "  0.36920522 0.61980869 0.7253064  0.99665289 0.51631165 0.13504493\n",
      "  0.55016303 0.43388517 0.13953151 0.64761434 0.37540893 0.23978717\n",
      "  0.04585083 1.00881331 0.57006441 0.22661147 0.36829666 0.27983547\n",
      "  0.25239622 0.78632505 0.61849918 0.6598963  0.49862655 0.50430114\n",
      "  0.4825982  0.23789406 0.58732662 0.76119896 0.36179021 0.49766505\n",
      "  0.53256833 0.17379605 0.50054127 0.26705527 0.43774124 0.4417674\n",
      "  0.59706779 0.17437018 0.685781   0.37855861 0.24954832 0.46277112\n",
      "  0.7575878  0.61338105 0.52675849 0.63292332 0.63149632 0.11856678\n",
      "  0.62801371 0.76461011 0.64147592 0.1228538  0.2966882  0.66149219\n",
      "  0.78488017 0.68041513 0.26894164 0.60686342 0.48660847 0.31795999\n",
      "  0.3811943  0.63740924 0.5449074  0.15005326 0.67579225 0.79029796\n",
      "  0.35302061 0.55287688 0.         0.86912934 0.15476305 0.62139635\n",
      "  0.38910893 0.70212488 0.7381518  0.33716658 0.37946167 0.62966296\n",
      "  0.06099578 0.97969952 0.6432251  0.86751282 0.82835471 0.41550794\n",
      "  0.46845081 0.69879639 0.95061536 0.35450554 0.64684283 0.20779736\n",
      "  0.16590291 0.25054732 0.73451205 0.21017213]\n",
      " [0.7654336  0.72632342 0.73307969 0.45516691 0.38120016 0.10921521\n",
      "  0.75111031 0.45709345 0.2373095  0.17152053 0.4420974  0.75180707\n",
      "  0.48326523 0.87841876 0.95858141 0.75206429 0.8746275  1.09192829\n",
      "  0.91333201 0.14099078 0.76486395 0.74257787 0.64311381 0.74395143\n",
      "  0.79349501 0.2143454  0.25186619 0.33485158 0.51763878 0.50422145\n",
      "  0.3865467  0.95798874 0.75428665 0.10916523 0.66423201 0.50449989\n",
      "  0.400017   0.69653747 0.71669614 0.90814321 0.56758793 0.48069688\n",
      "  0.2753853  0.69874596 0.58427061 0.49064714 1.03997401 0.60707436\n",
      "  0.11940653 0.33138833 0.34801578 0.71099236 0.54375138 0.93153635\n",
      "  0.50583302 0.11978823 0.55395471 0.8813662  0.57373415 0.31051879\n",
      "  0.50638624 0.36126725 0.7124145  0.3958799  0.5693246  0.70523894\n",
      "  0.48875948 0.77840125 0.74293117 0.99907029 0.80624452 0.74423007\n",
      "  0.52808204 0.55293127 0.86912934 0.         0.98777724 0.3474239\n",
      "  0.53708591 0.28327515 0.13134337 0.53230139 0.5001008  0.47824608\n",
      "  0.81196742 0.13188326 0.32743338 0.00386103 0.56900204 0.53803706\n",
      "  0.41511728 0.22751862 0.08414183 0.59179397 0.39277144 0.85436817\n",
      "  0.74256789 0.6284573  0.24277679 0.70563724]\n",
      " [0.28072349 0.66444304 0.29958963 0.90941203 0.74029854 0.94938147\n",
      "  0.36832473 0.68043995 0.86341458 1.10217942 0.5961413  0.28709824\n",
      "  0.61223595 0.5691595  0.03080276 0.7985951  0.50966009 0.23050581\n",
      "  0.13685183 1.12867145 0.71955852 0.38078692 0.41199404 0.4325215\n",
      "  0.40055381 0.92430302 0.73600631 0.80442283 0.65111749 0.6561883\n",
      "  0.60443353 0.339786   0.57608478 0.88236244 0.51649789 0.56226029\n",
      "  0.67615133 0.2988939  0.65253008 0.19755596 0.49389859 0.52911153\n",
      "  0.72289698 0.29325741 0.71546739 0.50397114 0.30631598 0.50114825\n",
      "  0.88160964 0.75502499 0.6558992  0.7855468  0.78586382 0.05642926\n",
      "  0.67696393 0.87708685 0.67885411 0.11064367 0.41720479 0.74962009\n",
      "  0.93840641 0.75618297 0.42350495 0.75447784 0.64087225 0.34726672\n",
      "  0.50130467 0.78685524 0.69555511 0.1866799  0.65433471 0.94312581\n",
      "  0.49163929 0.70719302 0.15476305 0.98777724 0.         0.7653365\n",
      "  0.53767183 0.84368298 0.85654618 0.46504286 0.51622091 0.68472279\n",
      "  0.21212684 1.10479579 0.7301512  0.98579339 0.98279334 0.56628141\n",
      "  0.57524754 0.79919537 1.06663054 0.50666835 0.79534896 0.34527177\n",
      "  0.32014869 0.39274467 0.82772375 0.36389104]\n",
      " [0.62310161 0.37891176 0.59029419 0.20172224 0.03503065 0.39562191\n",
      "  0.65583068 0.51803305 0.12179631 0.51724972 0.41950857 0.48816443\n",
      "  0.49488829 0.53529961 0.74062415 0.41555386 0.53752848 0.81220849\n",
      "  0.65952973 0.45915756 0.41933539 0.441441   0.54667336 0.42681998\n",
      "  0.47890105 0.17733601 0.22625094 0.03952406 0.17451584 0.1614886\n",
      "  0.23079852 0.64866442 0.75878276 0.25586222 0.33535101 0.47891962\n",
      "  0.08918518 0.46986106 0.36931123 0.75139727 0.50697403 0.39733094\n",
      "  0.16800188 0.47852863 0.66762466 0.28730152 0.73909117 0.56493363\n",
      "  0.23523241 0.02793354 0.16681561 0.37396593 0.2120724  0.71341039\n",
      "  0.5682881  0.31193757 0.61837267 0.6748233  0.36853874 0.40454486\n",
      "  0.25502094 0.47173922 0.40313051 0.05017511 0.22423458 0.58545537\n",
      "  0.3031425  0.43919732 0.39625357 0.72443524 0.83911737 0.44274125\n",
      "  0.27526721 0.20633312 0.62139635 0.3474239  0.7653365  0.\n",
      "  0.23595611 0.08474319 0.2602968  0.31503092 0.25346559 0.54430698\n",
      "  0.56040466 0.40960069 0.40513191 0.34817531 0.32388993 0.22009567\n",
      "  0.30916185 0.35178375 0.42718445 0.28282043 0.06965596 0.54778761\n",
      "  0.46588178 0.37272191 0.40664718 0.42228465]\n",
      " [0.44387039 0.2802392  0.41467978 0.37520315 0.20662648 0.5474125\n",
      "  0.503794   0.50318152 0.34935159 0.69261866 0.37838613 0.25444732\n",
      "  0.45225472 0.36880009 0.51500574 0.38692632 0.35013954 0.57696387\n",
      "  0.42538892 0.66711769 0.34339414 0.20936568 0.41113659 0.20706842\n",
      "  0.25645022 0.40914927 0.31750335 0.27312313 0.12543953 0.12588403\n",
      "  0.20442359 0.42278654 0.66109423 0.42960676 0.13971004 0.41400212\n",
      "  0.15025418 0.25380736 0.26512947 0.55330279 0.40752169 0.31748526\n",
      "  0.26966317 0.26554269 0.63625333 0.15368928 0.50913066 0.46540348\n",
      "  0.41781215 0.2327711  0.2010164  0.35323317 0.27331757 0.4884365\n",
      "  0.54188176 0.45909324 0.58283044 0.45587324 0.18986977 0.45052992\n",
      "  0.41040682 0.50335683 0.17573704 0.2177746  0.14364849 0.42632589\n",
      "  0.17825383 0.39535962 0.31242785 0.48857521 0.75181926 0.48858593\n",
      "  0.08736723 0.20029647 0.38910893 0.53708591 0.53767183 0.23595611\n",
      "  0.         0.31957738 0.41714795 0.14708215 0.09254961 0.52607421\n",
      "  0.32830741 0.62632592 0.44048165 0.53657612 0.46410347 0.03827457\n",
      "  0.25969249 0.44084367 0.62118493 0.05506505 0.25789214 0.31961439\n",
      "  0.23016846 0.14937246 0.49312517 0.18634517]\n",
      " [0.68680422 0.44974535 0.65351324 0.19471994 0.11828924 0.34881353\n",
      "  0.71079608 0.53354456 0.04598234 0.45479441 0.44986316 0.56990311\n",
      "  0.52110327 0.61346895 0.81822111 0.468806   0.61865757 0.89635868\n",
      "  0.74114405 0.38303407 0.48380751 0.52603209 0.59942158 0.51141886\n",
      "  0.56353497 0.09334505 0.23083163 0.05553    0.25566018 0.24310091\n",
      "  0.27986342 0.73333082 0.79442517 0.2081242  0.41921837 0.51321321\n",
      "  0.17025323 0.54620034 0.44155428 0.81940491 0.55055128 0.44121131\n",
      "  0.18447463 0.55393658 0.68311424 0.35388082 0.82383401 0.60629733\n",
      "  0.18420531 0.08878917 0.21387863 0.42771723 0.26049522 0.79085662\n",
      "  0.58555275 0.27373448 0.63690087 0.7502861  0.43879565 0.40461911\n",
      "  0.25074333 0.47274769 0.48786693 0.12217013 0.30297998 0.64400751\n",
      "  0.36636768 0.49516931 0.46343834 0.80812997 0.86979785 0.47107336\n",
      "  0.35207832 0.27486465 0.70212488 0.28327515 0.84368298 0.08474319\n",
      "  0.31957738 0.         0.22250806 0.3859704  0.32823922 0.55975628\n",
      "  0.64121266 0.33019449 0.40935236 0.28468393 0.32003585 0.30479739\n",
      "  0.35246513 0.33833124 0.35815427 0.3673661  0.11006457 0.63252969\n",
      "  0.54886727 0.45217891 0.38963928 0.50565101]\n",
      " [0.63846694 0.6314895  0.60572604 0.41583482 0.28970941 0.13683494\n",
      "  0.63031425 0.36480151 0.18329044 0.27548638 0.32543348 0.62228503\n",
      "  0.37722999 0.77114456 0.82741773 0.67583962 0.76216591 0.96248569\n",
      "  0.78250974 0.27212691 0.67682569 0.61847575 0.52021806 0.62395851\n",
      "  0.67215312 0.19741561 0.12055276 0.26132541 0.41612177 0.40278606\n",
      "  0.25558654 0.83392561 0.65535486 0.03345933 0.54991108 0.3903203\n",
      "  0.29160543 0.56534051 0.62032596 0.78082211 0.44870039 0.35529462\n",
      "  0.14884203 0.56743897 0.50583841 0.35988318 0.91368484 0.49302848\n",
      "  0.05217421 0.23772672 0.22120463 0.63425185 0.47083379 0.80033636\n",
      "  0.4166668  0.05198664 0.46758332 0.75041155 0.44246541 0.21823615\n",
      "  0.47135582 0.28139012 0.59061526 0.31042416 0.46874109 0.58019206\n",
      "  0.35749877 0.69938276 0.65208823 0.86940851 0.71661335 0.69231777\n",
      "  0.40032813 0.46396411 0.7381518  0.13134337 0.85654618 0.2602968\n",
      "  0.41714795 0.22250806 0.         0.40167884 0.37239446 0.38893389\n",
      "  0.68131728 0.25341428 0.23055817 0.12952703 0.53962549 0.42277843\n",
      "  0.28523699 0.13607649 0.21265765 0.47221198 0.31997342 0.73038089\n",
      "  0.61447343 0.49931171 0.17729237 0.57881129]\n",
      " [0.31226522 0.41992526 0.28062125 0.49284054 0.29742682 0.51275234\n",
      "  0.3612725  0.38004189 0.40089768 0.6658342  0.25412558 0.2228213\n",
      "  0.32138223 0.47461176 0.43776979 0.53294258 0.44158417 0.56207993\n",
      "  0.38107711 0.67170082 0.4847038  0.24893415 0.26462373 0.27917109\n",
      "  0.31392853 0.46131225 0.28309419 0.35443012 0.26592143 0.26279342\n",
      "  0.14634292 0.4536972  0.5142693  0.42409992 0.2568577  0.2775693\n",
      "  0.22928828 0.16686542 0.4044884  0.43651622 0.26258989 0.18317205\n",
      "  0.26012703 0.17179824 0.50200196 0.04200273 0.5230492  0.3195367\n",
      "  0.4205138  0.29937377 0.19111917 0.5000192  0.41270198 0.41026843\n",
      "  0.41235305 0.4308711  0.44877888 0.36623907 0.05354935 0.36171285\n",
      "  0.53548342 0.40150813 0.23925742 0.31834826 0.29053944 0.2850679\n",
      "  0.0534125  0.53987405 0.4535154  0.46870335 0.60539399 0.63486493\n",
      "  0.05973736 0.34414183 0.33716658 0.53230139 0.46504286 0.31503092\n",
      "  0.14708215 0.3859704  0.40167884 0.         0.06609343 0.40031929\n",
      "  0.27967358 0.64300469 0.34710177 0.5307678  0.59509719 0.18486052\n",
      "  0.15451103 0.37824522 0.61433111 0.17115285 0.36106984 0.35416555\n",
      "  0.22161464 0.10479709 0.42233828 0.19521033]\n",
      " [0.37808249 0.37261366 0.34660801 0.42705388 0.23362001 0.49349547\n",
      "  0.42662947 0.41229276 0.34732786 0.64406532 0.28684467 0.2536699\n",
      "  0.36000496 0.44923251 0.4902793  0.47826811 0.42342335 0.59268413\n",
      "  0.42116552 0.63676311 0.43593665 0.2500696  0.32752207 0.26696449\n",
      "  0.3095519  0.40829485 0.25993505 0.29298964 0.20265018 0.19854851\n",
      "  0.12931339 0.46397702 0.57241004 0.39093869 0.2222969  0.32146057\n",
      "  0.16585093 0.21801155 0.35744006 0.50018066 0.31699492 0.22494123\n",
      "  0.22472462 0.22575908 0.54383534 0.06137144 0.54146182 0.37550382\n",
      "  0.3839797  0.24012248 0.15210439 0.44357073 0.34811378 0.46286187\n",
      "  0.44992738 0.40771751 0.49040392 0.42217266 0.11840567 0.37005468\n",
      "  0.46940309 0.41852556 0.22914095 0.25350847 0.23184549 0.35082961\n",
      "  0.08597185 0.48751619 0.40495444 0.50040471 0.66220454 0.57365324\n",
      "  0.02798253 0.28164785 0.37946167 0.5001008  0.51622091 0.25346559\n",
      "  0.09254961 0.32823922 0.37239446 0.06609343 0.         0.43472211\n",
      "  0.31947305 0.60327867 0.35817327 0.49897392 0.52908212 0.12743511\n",
      "  0.17078261 0.37156653 0.58363855 0.13208551 0.29623662 0.36109637\n",
      "  0.2424673  0.13028736 0.42068408 0.20656779]\n",
      " [0.40689059 0.80579515 0.385192   0.74342389 0.55366445 0.38474492\n",
      "  0.34327735 0.02632472 0.53830703 0.50625612 0.14790085 0.57394525\n",
      "  0.08226304 0.87489171 0.65421048 0.90116427 0.84020438 0.86774015\n",
      "  0.67371071 0.59737466 0.86765071 0.63919656 0.27272909 0.67698223\n",
      "  0.70600014 0.57427539 0.32899551 0.5697419  0.6111222  0.60186464\n",
      "  0.33918354 0.82054458 0.27826164 0.42181205 0.65447922 0.13408514\n",
      "  0.50600867 0.48035296 0.79085635 0.53469966 0.19307493 0.21803779\n",
      "  0.37922839 0.47178867 0.12362631 0.3763104  0.86832976 0.18784674\n",
      "  0.44019077 0.51659863 0.38688964 0.86311229 0.73275299 0.6325388\n",
      "  0.0278317  0.36599931 0.07887406 0.5764998  0.39379196 0.17125622\n",
      "  0.79826484 0.11854033 0.63698052 0.58140657 0.65345419 0.33854607\n",
      "  0.35310335 0.91446444 0.83707082 0.77971603 0.32900648 0.97133805\n",
      "  0.44916191 0.68694613 0.62966296 0.47824608 0.68472279 0.54430698\n",
      "  0.52607421 0.55975628 0.38893389 0.40031929 0.43472211 0.\n",
      "  0.59424081 0.6086523  0.15852622 0.4746224  0.86770377 0.5570562\n",
      "  0.26803494 0.25572168 0.52524531 0.56532599 0.61356124 0.7319526\n",
      "  0.59116283 0.49059376 0.23688373 0.58014123]\n",
      " [0.26315931 0.46561106 0.25692884 0.69767615 0.53349905 0.78891916\n",
      "  0.36256805 0.58244943 0.66468204 0.94259739 0.47325465 0.0750431\n",
      "  0.51321661 0.40401937 0.19319367 0.60039264 0.3476292  0.28671047\n",
      "  0.10186092 0.95117977 0.52502836 0.17636685 0.34338583 0.23260197\n",
      "  0.21340458 0.72568825 0.56225972 0.59890082 0.43918804 0.44452613\n",
      "  0.42579881 0.24049975 0.57809732 0.70364178 0.30771966 0.46065077\n",
      "  0.47159383 0.12177356 0.45250229 0.29307832 0.40537862 0.39710984\n",
      "  0.53880095 0.1258338  0.65917391 0.32143645 0.27437416 0.4368346\n",
      "  0.69938409 0.55248526 0.46793113 0.5833835  0.57410583 0.16900102\n",
      "  0.59488748 0.70923939 0.61252714 0.15583216 0.24226804 0.61403226\n",
      "  0.72627974 0.63702391 0.21641168 0.54602079 0.42905924 0.30172102\n",
      "  0.32569527 0.59212005 0.49854935 0.19359786 0.66910025 0.74009124\n",
      "  0.29276375 0.49540495 0.06099578 0.81196742 0.21212684 0.56040466\n",
      "  0.32830741 0.64121266 0.68131728 0.27967358 0.31947305 0.59424081\n",
      "  0.         0.92098963 0.59630724 0.81044084 0.7710761  0.35523353\n",
      "  0.41642743 0.64716682 0.89395077 0.29481472 0.5861276  0.18431847\n",
      "  0.1089916  0.19000024 0.68494529 0.15193992]\n",
      " [0.89187295 0.77838248 0.85913991 0.46075463 0.44461862 0.22859284\n",
      "  0.88117605 0.58803603 0.28801987 0.19924399 0.57292788 0.85694771\n",
      "  0.61514831 0.94356479 1.07622364 0.78201318 0.94712764 1.19522607\n",
      "  1.02283414 0.06411531 0.80796849 0.83541527 0.77223    0.82964418\n",
      "  0.88084211 0.23982982 0.37154698 0.38572271 0.58403209 0.57107164\n",
      "  0.50038663 1.04889614 0.88548233 0.22412606 0.74266002 0.63586734\n",
      "  0.47972348 0.80943543 0.77083399 1.03423236 0.69808803 0.60825577\n",
      "  0.38289887 0.81296018 0.71166258 0.60235689 1.13509068 0.73856395\n",
      "  0.2231864  0.40127915 0.45305872 0.742665   0.57774228 1.04892845\n",
      "  0.63608659 0.25104853 0.68344619 1.0003725  0.68801315 0.44211059\n",
      "  0.50381331 0.49091518 0.80151882 0.45215061 0.63271445 0.83318218\n",
      "  0.60352738 0.81081725 0.78984714 1.10343579 0.9356204  0.74814737\n",
      "  0.63092146 0.60374666 0.97969952 0.13188326 1.10479579 0.40960069\n",
      "  0.62632592 0.33019449 0.25341428 0.64300469 0.60327867 0.6086523\n",
      "  0.92098963 0.         0.45921879 0.13524717 0.55692358 0.62067866\n",
      "  0.53805837 0.35939048 0.10167328 0.6793141  0.43689271 0.94591648\n",
      "  0.84385049 0.73346347 0.37209885 0.804314  ]\n",
      " [0.47279854 0.71005852 0.44374746 0.59863017 0.42005602 0.24553512\n",
      "  0.43816245 0.13425073 0.38419514 0.3862866  0.13542194 0.55723437\n",
      "  0.15697228 0.80695901 0.6994536  0.79008333 0.78129155 0.88198563\n",
      "  0.6890373  0.45544405 0.76768626 0.59591558 0.33911517 0.62223379\n",
      "  0.66025778 0.41708067 0.18045273 0.42582012 0.50100455 0.48994369\n",
      "  0.23656603 0.79829559 0.42807679 0.26358894 0.5785423  0.18659745\n",
      "  0.38314653 0.47477834 0.69602374 0.61329814 0.25606793 0.20251135\n",
      "  0.23713561 0.47076523 0.27800455 0.31124208 0.86095693 0.2856563\n",
      "  0.28167694 0.37722008 0.26438882 0.75010518 0.60625174 0.67449452\n",
      "  0.18618534 0.2108966  0.23733643 0.61954257 0.36229417 0.02004537\n",
      "  0.65435351 0.0673905  0.58302701 0.44725193 0.54876804 0.40631646\n",
      "  0.29377126 0.80710388 0.73841591 0.7895756  0.48623865 0.84375357\n",
      "  0.37996431 0.57108927 0.6432251  0.32743338 0.7301512  0.40513191\n",
      "  0.44048165 0.40935236 0.23055817 0.34710177 0.35817327 0.15852622\n",
      "  0.59630724 0.45921879 0.         0.32400385 0.72420417 0.46447427\n",
      "  0.19271398 0.10022979 0.3839448  0.48865331 0.47472025 0.70059437\n",
      "  0.56424686 0.4504088  0.1015715  0.54188597]\n",
      " [0.76283917 0.72708702 0.73051939 0.45742929 0.3818529  0.10538784\n",
      "  0.74816226 0.45351675 0.23873977 0.17019041 0.43906371 0.75048737\n",
      "  0.47992237 0.87868838 0.95656437 0.75348981 0.87463572 1.09063593\n",
      "  0.91176328 0.14314593 0.76589425 0.74182244 0.64028188 0.7434934\n",
      "  0.7929539  0.21662184 0.24997842 0.33601405 0.51803689 0.50461409\n",
      "  0.38491557 0.9572611  0.7507464  0.10811259 0.66409266 0.50136149\n",
      "  0.40002367 0.69483111 0.71739614 0.90556582 0.56459353 0.47804228\n",
      "  0.2742494  0.696966   0.58051256 0.48907713 1.03905404 0.60390367\n",
      "  0.11910466 0.33188414 0.34691643 0.71238629 0.54517802 0.92953693\n",
      "  0.50219932 0.11676475 0.55027671 0.87927634 0.5719849  0.30703132\n",
      "  0.50879421 0.3575862  0.71182734 0.39676115 0.56979145 0.70251845\n",
      "  0.48701457 0.7797453  0.7438519  0.99774041 0.80256794 0.74634995\n",
      "  0.52695637 0.55383361 0.86751282 0.00386103 0.98579339 0.34817531\n",
      "  0.53657612 0.28468393 0.12952703 0.5307678  0.49897392 0.4746224\n",
      "  0.81044084 0.13524717 0.32400385 0.         0.57157892 0.53780087\n",
      "  0.41286555 0.22414481 0.08488149 0.59132546 0.39405285 0.85363645\n",
      "  0.74143464 0.62718125 0.23906333 0.70463525]\n",
      " [0.90516391 0.37264829 0.87458441 0.125867   0.3198384  0.65552788\n",
      "  0.95484321 0.84139531 0.35633936 0.73174583 0.74254591 0.69664106\n",
      "  0.8184591  0.55315287 0.96407736 0.29345289 0.5881316  0.9595513\n",
      "  0.85555322 0.62061069 0.35921621 0.60696429 0.85135717 0.56415593\n",
      "  0.60988507 0.35654186 0.54375365 0.29862708 0.33947512 0.33822758\n",
      "  0.5487326  0.76212989 1.07781372 0.52039277 0.46992467 0.80033519\n",
      "  0.38072449 0.7163717  0.37612798 1.01730753 0.82240421 0.71431864\n",
      "  0.48908893 0.72878905 0.99118217 0.58025773 0.8584003  0.88141005\n",
      "  0.49555547 0.35134338 0.48822216 0.26910234 0.1969718  0.93904076\n",
      "  0.8919756  0.58927985 0.94220662 0.91333951 0.64590349 0.72134518\n",
      "  0.0698683  0.78939786 0.56298878 0.29274544 0.34202342 0.87975407\n",
      "  0.60119807 0.3246483  0.36014824 0.88751589 1.16048968 0.20026679\n",
      "  0.54035433 0.27567597 0.82835471 0.56900204 0.98279334 0.32388993\n",
      "  0.46410347 0.32003585 0.53962549 0.59509719 0.52908212 0.86770377\n",
      "  0.7710761  0.55692358 0.72420417 0.57157892 0.         0.42847774\n",
      "  0.62830255 0.65816086 0.62488225 0.48069606 0.25572432 0.68229341\n",
      "  0.66264474 0.61159164 0.70966681 0.61914106]\n",
      " [0.48143211 0.2489515  0.45248997 0.34366381 0.18806843 0.55591663\n",
      "  0.54205286 0.53362451 0.33823845 0.69777763 0.40991634 0.28046945\n",
      "  0.48483768 0.35234044 0.54459803 0.35083299 0.33950436 0.59326828\n",
      "  0.44979144 0.66431873 0.31068384 0.22152476 0.44919822 0.20901436\n",
      "  0.26051886 0.39655911 0.3304583  0.25502351 0.08901922 0.09122757\n",
      "  0.22801779 0.42968905 0.69839004 0.4324136  0.12713309 0.44812334\n",
      "  0.14095562 0.28804855 0.23419512 0.58892649 0.4440388  0.35166724\n",
      "  0.27841846 0.30032582 0.66915097 0.18878396 0.51917469 0.50222579\n",
      "  0.41869776 0.22129782 0.21425758 0.31635892 0.23612515 0.51838859\n",
      "  0.57376134 0.4671906  0.61579204 0.48795679 0.22814202 0.47335199\n",
      "  0.37651879 0.52870243 0.18316208 0.19502728 0.10567943 0.46455907\n",
      "  0.21337459 0.36041374 0.28002482 0.50698267 0.78881476 0.45039026\n",
      "  0.12513464 0.16223795 0.41550794 0.53803706 0.56628141 0.22009567\n",
      "  0.03827457 0.30479739 0.42277843 0.18486052 0.12743511 0.5570562\n",
      "  0.35523353 0.62067866 0.46447427 0.53780087 0.42847774 0.\n",
      "  0.28936352 0.45765707 0.62177419 0.06355432 0.23283655 0.32802086\n",
      "  0.2527959  0.18323517 0.51118434 0.20804111]\n",
      " [0.35598105 0.53829793 0.32275586 0.50990577 0.30850778 0.3755587\n",
      "  0.36244027 0.24430443 0.34916629 0.52917624 0.12261847 0.36992683\n",
      "  0.19972978 0.61919491 0.54552109 0.633818   0.5907596  0.70303021\n",
      "  0.51406911 0.5559988  0.59974381 0.40320827 0.25004192 0.43036783\n",
      "  0.46761039 0.40262714 0.16700032 0.34282335 0.34480132 0.33628013\n",
      "  0.07960308 0.60723715 0.45000054 0.3139953  0.39306948 0.17288668\n",
      "  0.25037353 0.29523607 0.5234771  0.49730255 0.19871107 0.08893223\n",
      "  0.17666936 0.29414459 0.38338506 0.11898835 0.67330734 0.2559589\n",
      "  0.31803813 0.28412094 0.14253962 0.59629286 0.47401    0.51882837\n",
      "  0.28595289 0.30196369 0.33056926 0.46733503 0.17533331 0.20721268\n",
      "  0.56127095 0.24931674 0.39091351 0.33557512 0.38570358 0.30233348\n",
      "  0.10111691 0.64658537 0.56924939 0.60968539 0.53231648 0.71096604\n",
      "  0.18975486 0.42210702 0.46845081 0.41511728 0.57524754 0.30916185\n",
      "  0.25969249 0.35246513 0.28523699 0.15451103 0.17078261 0.26803494\n",
      "  0.41642743 0.53805837 0.19271398 0.41286555 0.62830255 0.28936352\n",
      "  0.         0.23073943 0.49205406 0.30286811 0.37363078 0.50849645\n",
      "  0.37377203 0.25848119 0.27050268 0.34960097]\n",
      " [0.55494857 0.69236784 0.52412658 0.53246731 0.37340448 0.15374364\n",
      "  0.5298473  0.23276149 0.30642568 0.30361396 0.22052578 0.59904848\n",
      "  0.2558193  0.80906726 0.76888761 0.75744055 0.79033276 0.93374945\n",
      "  0.74450259 0.3582774  0.74525948 0.62023745 0.42570442 0.63805624\n",
      "  0.6810566  0.33068024 0.13216988 0.36485758 0.47655467 0.46419035\n",
      "  0.24225677 0.83082535 0.52820996 0.16779998 0.58041311 0.279747\n",
      "  0.35133122 0.52590415 0.67940495 0.69726167 0.34597784 0.27252175\n",
      "  0.19216769 0.52442672 0.37029059 0.33772685 0.90117135 0.3814348\n",
      "  0.18822911 0.32489411 0.24399095 0.71634142 0.56189377 0.74289047\n",
      "  0.28355337 0.11081537 0.33371664 0.68944915 0.40567901 0.08466307\n",
      "  0.58859423 0.14534419 0.60066233 0.39877968 0.52764013 0.4909286\n",
      "  0.32623146 0.77755257 0.71766245 0.84037866 0.58464521 0.79444919\n",
      "  0.39718217 0.53861155 0.69879639 0.22751862 0.79919537 0.35178375\n",
      "  0.44084367 0.33833124 0.13607649 0.37824522 0.37156653 0.25572168\n",
      "  0.64716682 0.35939048 0.10022979 0.22414481 0.65816086 0.45765707\n",
      "  0.23073943 0.         0.28764442 0.49361023 0.4192818  0.72957782\n",
      "  0.59985699 0.48283472 0.05571339 0.57134617]\n",
      " [0.83756998 0.80543431 0.80574596 0.51769727 0.46149034 0.14054294\n",
      "  0.81725774 0.5064964  0.31241426 0.10785531 0.50759915 0.83471243\n",
      "  0.54086897 0.96039381 1.03715883 0.82512774 0.95765942 1.17490766\n",
      "  0.99507511 0.07213671 0.8418203  0.82668752 0.71168313 0.82800324\n",
      "  0.87760855 0.2798568  0.33222168 0.41161805 0.59915508 0.58577674\n",
      "  0.46817099 1.04211306 0.80347202 0.19294837 0.74773085 0.56736151\n",
      "  0.48318843 0.77753904 0.79626079 0.98036128 0.63330946 0.55257092\n",
      "  0.35894    0.77927013 0.6219576  0.57251476 1.12391361 0.66869837\n",
      "  0.2034062  0.4126548  0.43163909 0.78446766 0.61722875 1.01027802\n",
      "  0.55207663 0.19058773 0.59737623 0.95931996 0.65452691 0.36535657\n",
      "  0.56598502 0.4067052  0.79654792 0.47462597 0.65043729 0.77555035\n",
      "  0.56963992 0.85231222 0.82082862 1.08191324 0.84838153 0.80786872\n",
      "  0.61162005 0.63120173 0.95061536 0.08414183 1.06663054 0.42718445\n",
      "  0.62118493 0.35815427 0.21265765 0.61433111 0.58363855 0.52524531\n",
      "  0.89395077 0.10167328 0.3839448  0.08488149 0.62488225 0.62177419\n",
      "  0.49205406 0.28764442 0.         0.67585985 0.46821881 0.93849045\n",
      "  0.82607085 0.71153568 0.28917872 0.78944096]\n",
      " [0.44219336 0.24921456 0.41535846 0.40286341 0.25131543 0.60231252\n",
      "  0.51110375 0.54341849 0.39951986 0.74768368 0.41748944 0.21978401\n",
      "  0.48887793 0.31839226 0.48597702 0.36733201 0.29672629 0.52985757\n",
      "  0.38758903 0.72105698 0.31435557 0.15868133 0.42650966 0.15217413\n",
      "  0.20208365 0.45850095 0.37180729 0.31829513 0.14446143 0.14979591\n",
      "  0.25446542 0.36962007 0.68153404 0.48451636 0.09024703 0.4473903\n",
      "  0.20071152 0.23853981 0.23373987 0.54079204 0.43322772 0.35160764\n",
      "  0.32466316 0.25198598 0.67144635 0.18904129 0.45755152 0.48929893\n",
      "  0.47245696 0.28248756 0.25555342 0.3375056  0.28479776 0.46021717\n",
      "  0.57945989 0.51405844 0.61806331 0.43267509 0.20273888 0.49963972\n",
      "  0.43251414 0.55005729 0.12223143 0.25856461 0.14232992 0.43314605\n",
      "  0.21262199 0.37166031 0.28317686 0.44342851 0.77366461 0.48230457\n",
      "  0.1163921  0.20702433 0.35450554 0.59179397 0.50666835 0.28282043\n",
      "  0.05506505 0.3673661  0.47221198 0.17115285 0.13208551 0.56532599\n",
      "  0.29481472 0.6793141  0.48865331 0.59132546 0.48069606 0.06355432\n",
      "  0.30286811 0.49361023 0.67585985 0.         0.29603086 0.26698806\n",
      "  0.19035101 0.13581601 0.54520281 0.145479  ]\n",
      " [0.67284802 0.34149325 0.64066955 0.13680811 0.06625012 0.45227146\n",
      "  0.71196636 0.58731085 0.15590025 0.56424306 0.48682592 0.51195498\n",
      "  0.56277825 0.51001614 0.77221266 0.36002065 0.5197075  0.82328767\n",
      "  0.68223626 0.49165551 0.3738451  0.4509124  0.60474212 0.42757953\n",
      "  0.47965413 0.19710141 0.29548291 0.05916815 0.16334525 0.15285283\n",
      "  0.29431046 0.64877564 0.82361339 0.31102441 0.33091875 0.54500356\n",
      "  0.13305378 0.50581188 0.33405202 0.7962872  0.56976163 0.46072703\n",
      "  0.23761552 0.51589348 0.7367597  0.33849942 0.74209931 0.62831992\n",
      "  0.28842962 0.09758857 0.23263163 0.31870327 0.1521932  0.74542526\n",
      "  0.63734099 0.37195999 0.68722004 0.7104645  0.41432407 0.47392023\n",
      "  0.18776016 0.54124165 0.40958795 0.04273461 0.2038298  0.63953619\n",
      "  0.35686337 0.38578142 0.35392893 0.73870915 0.90528287 0.37554831\n",
      "  0.31413812 0.16695024 0.64684283 0.39277144 0.79534896 0.06965596\n",
      "  0.25789214 0.11006457 0.31997342 0.36106984 0.29623662 0.61356124\n",
      "  0.5861276  0.43689271 0.47472025 0.39405285 0.25572432 0.23283655\n",
      "  0.37363078 0.4192818  0.46821881 0.29603086 0.         0.55134601\n",
      "  0.4855258  0.40412263 0.47366466 0.44083606]\n",
      " [0.44491688 0.33059369 0.43490336 0.63558572 0.51491101 0.85446032\n",
      "  0.54236997 0.71589495 0.66613975 1.00420539 0.59525052 0.16307408\n",
      "  0.64971775 0.22639042 0.33911459 0.46120021 0.16764247 0.27822767\n",
      "  0.20897269 0.98632299 0.37973654 0.11191335 0.50719981 0.12422066\n",
      "  0.07342367 0.72456872 0.62088134 0.58145727 0.38852051 0.39851331\n",
      "  0.48891028 0.10362742 0.75406877 0.74583165 0.22262903 0.5988654\n",
      "  0.46766278 0.25922702 0.32087434 0.47262338 0.55528503 0.51832424\n",
      "  0.58154305 0.27134777 0.81298887 0.39277197 0.19137962 0.59627589\n",
      "  0.73563408 0.5491125  0.50934555 0.45381604 0.49234674 0.32283508\n",
      "  0.73760292 0.76810038 0.7630242  0.32964489 0.34207792 0.71566449\n",
      "  0.65116609 0.75212793 0.14494353 0.51823406 0.357545   0.47600803\n",
      "  0.40754688 0.44635473 0.35860133 0.20711699 0.84644927 0.61039565\n",
      "  0.33402242 0.4184068  0.20779736 0.85436817 0.34527177 0.54778761\n",
      "  0.31961439 0.63252969 0.73038089 0.35416555 0.36109637 0.7319526\n",
      "  0.18431847 0.94591648 0.70059437 0.85363645 0.68229341 0.32802086\n",
      "  0.50849645 0.72957782 0.93849045 0.26698806 0.55134601 0.\n",
      "  0.14079562 0.25018563 0.77570939 0.15896072]\n",
      " [0.3286184  0.36152067 0.31248175 0.59218038 0.43676806 0.73198097\n",
      "  0.42007955 0.57521933 0.57618024 0.88410612 0.45526393 0.03910649\n",
      "  0.50892444 0.32532542 0.30211753 0.4958109  0.27490472 0.3514589\n",
      "  0.19724677 0.87891587 0.42297361 0.07490133 0.37222777 0.1327966\n",
      "  0.13097586 0.63673676 0.49957474 0.50328319 0.33357051 0.33980688\n",
      "  0.36385783 0.23413849 0.62471808 0.63340598 0.19910522 0.45809476\n",
      "  0.37868275 0.1237347  0.34781124 0.38907154 0.41571317 0.37813157\n",
      "  0.46718793 0.13751275 0.67327675 0.26244601 0.30174038 0.45874319\n",
      "  0.62616226 0.46100214 0.39456526 0.47691287 0.46572264 0.27796606\n",
      "  0.59687996 0.64797234 0.62290933 0.26054371 0.20296675 0.58004945\n",
      "  0.61904148 0.61370278 0.10962828 0.44681361 0.32076347 0.34844303\n",
      "  0.27411295 0.48943831 0.39526314 0.26054223 0.71798628 0.63291066\n",
      "  0.21448684 0.38706485 0.16590291 0.74256789 0.32014869 0.46588178\n",
      "  0.23016846 0.54886727 0.61447343 0.22161464 0.2424673  0.59116283\n",
      "  0.1089916  0.84385049 0.56424686 0.74143464 0.66264474 0.2527959\n",
      "  0.37377203 0.59985699 0.82607085 0.19035101 0.4855258  0.14079562\n",
      "  0.         0.11723317 0.64350145 0.04487701]\n",
      " [0.30712707 0.37108817 0.28135828 0.52452361 0.34764292 0.61504154\n",
      "  0.38066291 0.47244422 0.47475908 0.7674546  0.3487634  0.12360351\n",
      "  0.40922426 0.39097196 0.36860641 0.49708616 0.35128936 0.46347879\n",
      "  0.2913425  0.76610894 0.43654682 0.14895955 0.30611757 0.18846679\n",
      "  0.21557288 0.53577806 0.38316229 0.41172033 0.27214417 0.27423451\n",
      "  0.24697133 0.34897405 0.56410006 0.51943515 0.19684559 0.36094218\n",
      "  0.28355859 0.10481369 0.35578853 0.40636839 0.33002103 0.27324039\n",
      "  0.35336203 0.11731123 0.58289524 0.14524348 0.41896813 0.38075011\n",
      "  0.5134461  0.36338978 0.281254   0.46984987 0.41774723 0.34161712\n",
      "  0.49941783 0.53154906 0.5307227  0.30686982 0.09699136 0.46554958\n",
      "  0.55942662 0.50260129 0.14908893 0.36261819 0.27769112 0.30310255\n",
      "  0.15785523 0.49813415 0.40594593 0.37077242 0.65744878 0.61743778\n",
      "  0.10303617 0.34119857 0.25054732 0.6284573  0.39274467 0.37272191\n",
      "  0.14937246 0.45217891 0.49931171 0.10479709 0.13028736 0.49059376\n",
      "  0.19000024 0.73346347 0.4504088  0.62718125 0.61159164 0.18323517\n",
      "  0.25848119 0.48283472 0.71153568 0.13581601 0.40412263 0.25018563\n",
      "  0.11723317 0.         0.52712703 0.09176945]\n",
      " [0.57387266 0.74750267 0.54444279 0.58426841 0.4288134  0.14875379\n",
      "  0.53932739 0.21738968 0.35551075 0.2848055  0.2361577  0.64042721\n",
      "  0.25485164 0.86179979 0.79714042 0.81314934 0.8417177  0.97158933\n",
      "  0.78035213 0.36127964 0.80073453 0.66751416 0.44062783 0.68763746\n",
      "  0.72945524 0.37468433 0.18780106 0.4185153  0.53196133 0.51965647\n",
      "  0.29186173 0.87599661 0.51472367 0.2057358  0.63282955 0.28789126\n",
      "  0.40693931 0.56320458 0.73444154 0.71470406 0.35762275 0.29861842\n",
      "  0.24787699 0.560578   0.34190428 0.38294751 0.94374132 0.38554439\n",
      "  0.22859525 0.37995474 0.29829249 0.77204237 0.61722143 0.77175085\n",
      "  0.2641452  0.13929917 0.31141164 0.71730592 0.44559405 0.08156612\n",
      "  0.64034613 0.11881721 0.64969865 0.45400598 0.58288691 0.50769165\n",
      "  0.36942161 0.8332573  0.7730295  0.87853488 0.56367355 0.84908573\n",
      "  0.4454976  0.59432044 0.73451205 0.24277679 0.82772375 0.40664718\n",
      "  0.49312517 0.38963928 0.17729237 0.42233828 0.42068408 0.23688373\n",
      "  0.68494529 0.37209885 0.1015715  0.23906333 0.70966681 0.51118434\n",
      "  0.27050268 0.05571339 0.28917872 0.54520281 0.47366466 0.77570939\n",
      "  0.64350145 0.52712703 0.         0.61693539]\n",
      " [0.34993027 0.32821618 0.33032555 0.54743229 0.39273907 0.69931976\n",
      "  0.43633624 0.56267224 0.53388285 0.85047009 0.43983484 0.07785126\n",
      "  0.49832873 0.31288477 0.34499502 0.46129648 0.26771599 0.39228066\n",
      "  0.24212378 0.84080005 0.39135231 0.06020473 0.37773301 0.1108396\n",
      "  0.12673403 0.59422974 0.46601561 0.45940009 0.28879304 0.29494817\n",
      "  0.33196601 0.25950033 0.63400552 0.59652271 0.15995334 0.44894969\n",
      "  0.33567581 0.13686195 0.31392474 0.42240837 0.41264684 0.36373275\n",
      "  0.43061598 0.15182889 0.66856061 0.23400586 0.3349054  0.4596558\n",
      "  0.58831755 0.41815452 0.35790784 0.44026982 0.42216964 0.32027033\n",
      "  0.58786418 0.61411217 0.61708076 0.29941861 0.1866972  0.55680121\n",
      "  0.57473911 0.59437058 0.07811625 0.40233147 0.27712076 0.36178598\n",
      "  0.24860187 0.45686696 0.36258855 0.30264679 0.72758779 0.59502962\n",
      "  0.17877708 0.34346729 0.21017213 0.70563724 0.36389104 0.42228465\n",
      "  0.18634517 0.50565101 0.57881129 0.19521033 0.20656779 0.58014123\n",
      "  0.15193992 0.804314   0.54188597 0.70463525 0.61914106 0.20804111\n",
      "  0.34960097 0.57134617 0.78944096 0.145479   0.44083606 0.15896072\n",
      "  0.04487701 0.09176945 0.61693539 0.        ]]\n"
     ]
    }
   ],
   "source": [
    "Z = np.random.random((100,2))\n",
    "X,Y = np.atleast_2d(Z[:,0], Z[:,1])\n",
    "D = np.sqrt( (X-X.T)**2 + (Y-Y.T)**2)\n",
    "print(D)\n"
   ]
  },
  {
   "cell_type": "markdown",
   "id": "b90e0bb2",
   "metadata": {},
   "source": [
    "#### 53. How to convert a float (32 bits) array into an integer (32 bits) in place?"
   ]
  },
  {
   "cell_type": "code",
   "execution_count": 106,
   "id": "db97ea05",
   "metadata": {},
   "outputs": [
    {
     "name": "stdout",
     "output_type": "stream",
     "text": [
      "[78 65  7 23 87 46 47 60 91 26]\n"
     ]
    }
   ],
   "source": [
    "Z = (np.random.rand(10)*100).astype(np.float32)\n",
    "Y = Z.view(np.int32)\n",
    "Y[:] = Z\n",
    "print(Y)"
   ]
  },
  {
   "cell_type": "markdown",
   "id": "0d1b021c",
   "metadata": {},
   "source": [
    "#### 54. How to read the following file? (★★☆)\n",
    "```\n",
    "1, 2, 3, 4, 5\n",
    "6,  ,  , 7, 8\n",
    " ,  , 9,10,11\n",
    "```"
   ]
  },
  {
   "cell_type": "code",
   "execution_count": 107,
   "id": "9551928e",
   "metadata": {},
   "outputs": [
    {
     "name": "stdout",
     "output_type": "stream",
     "text": [
      "[[ 1  2  3  4  5]\n",
      " [ 6 -1 -1  7  8]\n",
      " [-1 -1  9 10 11]]\n"
     ]
    },
    {
     "name": "stderr",
     "output_type": "stream",
     "text": [
      "C:\\Users\\ivanm\\AppData\\Local\\Temp\\ipykernel_2324\\1868410621.py:10: DeprecationWarning: `np.int` is a deprecated alias for the builtin `int`. To silence this warning, use `int` by itself. Doing this will not modify any behavior and is safe. When replacing `np.int`, you may wish to use e.g. `np.int64` or `np.int32` to specify the precision. If you wish to review your current use, check the release note link for additional information.\n",
      "Deprecated in NumPy 1.20; for more details and guidance: https://numpy.org/devdocs/release/1.20.0-notes.html#deprecations\n",
      "  Z = np.genfromtxt(s, delimiter=\",\", dtype=np.int)\n"
     ]
    }
   ],
   "source": [
    "from io import StringIO\n",
    "\n",
    "# Fake file\n",
    "s = StringIO('''1, 2, 3, 4, 5\n",
    "\n",
    "                6,  ,  , 7, 8\n",
    "\n",
    "                 ,  , 9,10,11\n",
    "''')\n",
    "Z = np.genfromtxt(s, delimiter=\",\", dtype=np.int)\n",
    "print(Z)"
   ]
  },
  {
   "cell_type": "markdown",
   "id": "56928772",
   "metadata": {},
   "source": [
    "#### 55. What is the equivalent of enumerate for numpy arrays? (★★☆)"
   ]
  },
  {
   "cell_type": "code",
   "execution_count": 108,
   "id": "327d9b88",
   "metadata": {},
   "outputs": [
    {
     "name": "stdout",
     "output_type": "stream",
     "text": [
      "(0, 0) 0\n",
      "(0, 1) 1\n",
      "(0, 2) 2\n",
      "(1, 0) 3\n",
      "(1, 1) 4\n",
      "(1, 2) 5\n",
      "(2, 0) 6\n",
      "(2, 1) 7\n",
      "(2, 2) 8\n",
      "(0, 0) 0\n",
      "(0, 1) 1\n",
      "(0, 2) 2\n",
      "(1, 0) 3\n",
      "(1, 1) 4\n",
      "(1, 2) 5\n",
      "(2, 0) 6\n",
      "(2, 1) 7\n",
      "(2, 2) 8\n"
     ]
    }
   ],
   "source": [
    "Z = np.arange(9).reshape(3,3)\n",
    "for index, value in np.ndenumerate(Z):\n",
    "    print(index, value)\n",
    "for index in np.ndindex(Z.shape):\n",
    "    print(index, Z[index])"
   ]
  },
  {
   "cell_type": "markdown",
   "id": "257e0bac",
   "metadata": {},
   "source": [
    "#### 56. Generate a generic 2D Gaussian-like array (★★☆)"
   ]
  },
  {
   "cell_type": "code",
   "execution_count": null,
   "id": "1325d664",
   "metadata": {},
   "outputs": [],
   "source": [
    "X, Y = np.meshgrid(np.linspace(-1,1,10), np.linspace(-1,1,10))\n",
    "D = np.sqrt(X*X+Y*Y)\n",
    "sigma, mu = 1.0, 0.0\n",
    "G = np.exp(-( (D-mu)**2 / ( 2.0 * sigma**2 ) ) )\n",
    "print(G)"
   ]
  },
  {
   "cell_type": "markdown",
   "id": "441347ee",
   "metadata": {},
   "source": [
    "#### 57. How to randomly place p elements in a 2D array? (★★☆)"
   ]
  },
  {
   "cell_type": "code",
   "execution_count": 109,
   "id": "1e61fce5",
   "metadata": {},
   "outputs": [
    {
     "name": "stdout",
     "output_type": "stream",
     "text": [
      "[[0. 0. 0. 0. 0. 0. 0. 0. 0. 0.]\n",
      " [0. 0. 0. 0. 0. 0. 0. 0. 0. 0.]\n",
      " [0. 0. 0. 0. 1. 0. 0. 0. 0. 0.]\n",
      " [0. 0. 0. 0. 0. 0. 0. 0. 0. 0.]\n",
      " [0. 0. 0. 0. 0. 1. 0. 0. 0. 0.]\n",
      " [0. 0. 0. 0. 0. 0. 0. 0. 0. 0.]\n",
      " [0. 0. 0. 0. 0. 0. 0. 1. 0. 0.]\n",
      " [0. 0. 0. 0. 0. 0. 0. 0. 0. 0.]\n",
      " [0. 0. 0. 0. 0. 0. 0. 0. 0. 0.]\n",
      " [0. 0. 0. 0. 0. 0. 0. 0. 0. 0.]]\n"
     ]
    }
   ],
   "source": [
    "n = 10\n",
    "p = 3\n",
    "Z = np.zeros((n,n))\n",
    "np.put(Z, np.random.choice(range(n*n), p, replace=False),1)\n",
    "print(Z)"
   ]
  },
  {
   "cell_type": "markdown",
   "id": "8a76af52",
   "metadata": {},
   "source": [
    "#### 58. Subtract the mean of each row of a matrix (★★☆)"
   ]
  },
  {
   "cell_type": "code",
   "execution_count": 110,
   "id": "65cf18e9",
   "metadata": {},
   "outputs": [],
   "source": [
    "X = np.random.rand(5, 10)\n",
    "\n",
    "# Recent versions of numpy\n",
    "Y = X - X.mean(axis=1, keepdims=True)"
   ]
  },
  {
   "cell_type": "markdown",
   "id": "d2dc8b5f",
   "metadata": {},
   "source": [
    "#### 59. How to sort an array by the nth column? (★★☆)"
   ]
  },
  {
   "cell_type": "code",
   "execution_count": 111,
   "id": "83b5eafe",
   "metadata": {},
   "outputs": [
    {
     "name": "stdout",
     "output_type": "stream",
     "text": [
      "[[8 1 1]\n",
      " [1 1 0]\n",
      " [9 6 4]]\n",
      "[[8 1 1]\n",
      " [1 1 0]\n",
      " [9 6 4]]\n"
     ]
    }
   ],
   "source": [
    "Z = np.random.randint(0,10,(3,3))\n",
    "print(Z)\n",
    "print(Z[Z[:,1].argsort()])"
   ]
  },
  {
   "cell_type": "markdown",
   "id": "4886f74e",
   "metadata": {},
   "source": [
    "#### 60. How to tell if a given 2D array has null columns? (★★☆)"
   ]
  },
  {
   "cell_type": "code",
   "execution_count": 113,
   "id": "7a066dd9",
   "metadata": {},
   "outputs": [
    {
     "name": "stdout",
     "output_type": "stream",
     "text": [
      "[False False  True]\n"
     ]
    }
   ],
   "source": [
    "Z=np.array([\n",
    "    [0,1,np.nan],\n",
    "    [1,2,np.nan],\n",
    "    [4,5,np.nan]\n",
    "])\n",
    "print(np.isnan(Z).all(axis=0))"
   ]
  },
  {
   "cell_type": "markdown",
   "id": "1f5ad2a9",
   "metadata": {},
   "source": [
    "#### 61. Find the nearest value from a given value in an array (★★☆)"
   ]
  },
  {
   "cell_type": "code",
   "execution_count": 114,
   "id": "f53df167",
   "metadata": {},
   "outputs": [
    {
     "name": "stdout",
     "output_type": "stream",
     "text": [
      "0.386684891293955\n"
     ]
    }
   ],
   "source": [
    "Z = np.random.uniform(0,1,10)\n",
    "z = 0.5\n",
    "m = Z.flat[np.abs(Z - z).argmin()]\n",
    "print(m)"
   ]
  },
  {
   "cell_type": "markdown",
   "id": "aa48f9b2",
   "metadata": {},
   "source": [
    "#### 62. Considering two arrays with shape (1,3) and (3,1), how to compute their sum using an iterator? (★★☆)"
   ]
  },
  {
   "cell_type": "code",
   "execution_count": 115,
   "id": "68987301",
   "metadata": {},
   "outputs": [
    {
     "name": "stdout",
     "output_type": "stream",
     "text": [
      "[[0 1 2]\n",
      " [1 2 3]\n",
      " [2 3 4]]\n"
     ]
    }
   ],
   "source": [
    "A = np.arange(3).reshape(3,1)\n",
    "B = np.arange(3).reshape(1,3)\n",
    "it = np.nditer([A,B,None])\n",
    "for x,y,z in it: z[...] = x + y\n",
    "print(it.operands[2])"
   ]
  },
  {
   "cell_type": "markdown",
   "id": "0bed1516",
   "metadata": {},
   "source": [
    "#### 63. Create an array class that has a name attribute (★★☆)"
   ]
  },
  {
   "cell_type": "code",
   "execution_count": 117,
   "id": "fa1d52fc",
   "metadata": {},
   "outputs": [
    {
     "name": "stdout",
     "output_type": "stream",
     "text": [
      "range_10\n"
     ]
    }
   ],
   "source": [
    "class NamedArray(np.ndarray):\n",
    "    def __new__(cls, array, name=\"no name\"):\n",
    "        obj = np.asarray(array).view(cls)\n",
    "        obj.name = name\n",
    "        return obj\n",
    "    def __array_finalize__(self, obj):\n",
    "        if obj is None: return\n",
    "        self.name = getattr(obj, 'name', \"no name\")\n",
    "\n",
    "Z = NamedArray(np.arange(10), \"range_10\")\n",
    "print (Z.name)"
   ]
  },
  {
   "cell_type": "markdown",
   "id": "463a40bb",
   "metadata": {},
   "source": [
    "#### 64. Consider a given vector, how to add 1 to each element indexed by a second vector (be careful with repeated indices)? (★★★)"
   ]
  },
  {
   "cell_type": "code",
   "execution_count": 118,
   "id": "cdb2cad0",
   "metadata": {},
   "outputs": [
    {
     "name": "stdout",
     "output_type": "stream",
     "text": [
      "[2. 4. 4. 3. 5. 3. 4. 2. 1. 2.]\n"
     ]
    }
   ],
   "source": [
    "Z = np.ones(10)\n",
    "I = np.random.randint(0,len(Z),20)\n",
    "Z += np.bincount(I, minlength=len(Z))\n",
    "print(Z)"
   ]
  },
  {
   "cell_type": "markdown",
   "id": "2a2f8219",
   "metadata": {},
   "source": [
    "#### 65. How to accumulate elements of a vector (X) to an array (F) based on an index list (I)? (★★★)"
   ]
  },
  {
   "cell_type": "code",
   "execution_count": 119,
   "id": "9cc34a77",
   "metadata": {},
   "outputs": [
    {
     "name": "stdout",
     "output_type": "stream",
     "text": [
      "[0. 7. 0. 6. 5. 0. 0. 0. 0. 3.]\n"
     ]
    }
   ],
   "source": [
    "X = [1,2,3,4,5,6]\n",
    "I = [1,3,9,3,4,1]\n",
    "F = np.bincount(I,X)\n",
    "print(F)"
   ]
  },
  {
   "cell_type": "markdown",
   "id": "6a6a3c66",
   "metadata": {},
   "source": [
    "#### 66. Considering a (w,h,3) image of (dtype=ubyte), compute the number of unique colors (★★☆)"
   ]
  },
  {
   "cell_type": "code",
   "execution_count": 120,
   "id": "c88f5a5e",
   "metadata": {},
   "outputs": [
    {
     "name": "stdout",
     "output_type": "stream",
     "text": [
      "64\n"
     ]
    }
   ],
   "source": [
    "w, h = 256, 256\n",
    "I = np.random.randint(0, 4, (h, w, 3)).astype(np.ubyte)\n",
    "colors = np.unique(I.reshape(-1, 3), axis=0)\n",
    "n = len(colors)\n",
    "print(n)"
   ]
  },
  {
   "cell_type": "markdown",
   "id": "4b030baa",
   "metadata": {},
   "source": [
    "#### 67. Considering a four dimensions array, how to get sum over the last two axis at once? (★★★)"
   ]
  },
  {
   "cell_type": "code",
   "execution_count": 122,
   "id": "cd2e7c9c",
   "metadata": {},
   "outputs": [
    {
     "name": "stdout",
     "output_type": "stream",
     "text": [
      "[[60 44 42 49]\n",
      " [61 45 47 47]\n",
      " [63 40 45 42]]\n"
     ]
    }
   ],
   "source": [
    "A = np.random.randint(0,10,(3,4,3,4))\n",
    "sum = A.sum(axis=(-2,-1))\n",
    "print(sum)"
   ]
  },
  {
   "cell_type": "markdown",
   "id": "1fa6053b",
   "metadata": {},
   "source": [
    "#### 68. Considering a one-dimensional vector D, how to compute means of subsets of D using a vector S of same size describing subset  indices? (★★★)"
   ]
  },
  {
   "cell_type": "code",
   "execution_count": 123,
   "id": "9b5a070d",
   "metadata": {},
   "outputs": [
    {
     "name": "stdout",
     "output_type": "stream",
     "text": [
      "[0.46273992 0.54666962 0.52694184 0.72703913 0.50747179 0.4788856\n",
      " 0.53416038 0.56863792 0.49485052 0.45154655]\n"
     ]
    }
   ],
   "source": [
    "D = np.random.uniform(0,1,100)\n",
    "S = np.random.randint(0,10,100)\n",
    "D_sums = np.bincount(S, weights=D)\n",
    "D_counts = np.bincount(S)\n",
    "D_means = D_sums / D_counts\n",
    "print(D_means)"
   ]
  },
  {
   "cell_type": "markdown",
   "id": "2e7b0395",
   "metadata": {},
   "source": [
    "#### 69. How to get the diagonal of a dot product? (★★★)"
   ]
  },
  {
   "cell_type": "code",
   "execution_count": 124,
   "id": "ae437196",
   "metadata": {},
   "outputs": [
    {
     "data": {
      "text/plain": [
       "array([1.73968314, 1.28339117, 1.69784615, 1.10657738, 1.00709858])"
      ]
     },
     "execution_count": 124,
     "metadata": {},
     "output_type": "execute_result"
    }
   ],
   "source": [
    "A = np.random.uniform(0,1,(5,5))\n",
    "B = np.random.uniform(0,1,(5,5))\n",
    "np.sum(A * B.T, axis=1)"
   ]
  },
  {
   "cell_type": "markdown",
   "id": "2bf2f8e4",
   "metadata": {},
   "source": [
    "#### 70. Consider the vector [1, 2, 3, 4, 5], how to build a new vector with 3 consecutive zeros interleaved between each value? (★★★)"
   ]
  },
  {
   "cell_type": "code",
   "execution_count": 125,
   "id": "8a427342",
   "metadata": {},
   "outputs": [
    {
     "name": "stdout",
     "output_type": "stream",
     "text": [
      "[1. 0. 0. 0. 2. 0. 0. 0. 3. 0. 0. 0. 4. 0. 0. 0. 5.]\n"
     ]
    }
   ],
   "source": [
    "Z = np.array([1,2,3,4,5])\n",
    "nz = 3\n",
    "Z0 = np.zeros(len(Z) + (len(Z)-1)*(nz))\n",
    "Z0[::nz+1] = Z\n",
    "print(Z0)"
   ]
  },
  {
   "cell_type": "markdown",
   "id": "fff802ea",
   "metadata": {},
   "source": [
    "#### 71. Consider an array of dimension (5,5,3), how to mulitply it by an array with dimensions (5,5)? (★★★)"
   ]
  },
  {
   "cell_type": "code",
   "execution_count": 126,
   "id": "e83ab7b5",
   "metadata": {},
   "outputs": [
    {
     "name": "stdout",
     "output_type": "stream",
     "text": [
      "[[[2. 2. 2.]\n",
      "  [2. 2. 2.]\n",
      "  [2. 2. 2.]\n",
      "  [2. 2. 2.]\n",
      "  [2. 2. 2.]]\n",
      "\n",
      " [[2. 2. 2.]\n",
      "  [2. 2. 2.]\n",
      "  [2. 2. 2.]\n",
      "  [2. 2. 2.]\n",
      "  [2. 2. 2.]]\n",
      "\n",
      " [[2. 2. 2.]\n",
      "  [2. 2. 2.]\n",
      "  [2. 2. 2.]\n",
      "  [2. 2. 2.]\n",
      "  [2. 2. 2.]]\n",
      "\n",
      " [[2. 2. 2.]\n",
      "  [2. 2. 2.]\n",
      "  [2. 2. 2.]\n",
      "  [2. 2. 2.]\n",
      "  [2. 2. 2.]]\n",
      "\n",
      " [[2. 2. 2.]\n",
      "  [2. 2. 2.]\n",
      "  [2. 2. 2.]\n",
      "  [2. 2. 2.]\n",
      "  [2. 2. 2.]]]\n"
     ]
    }
   ],
   "source": [
    "A = np.ones((5,5,3))\n",
    "B = 2*np.ones((5,5))\n",
    "print(A * B[:,:,None])"
   ]
  },
  {
   "cell_type": "markdown",
   "id": "a0865c04",
   "metadata": {},
   "source": [
    "#### 72. How to swap two rows of an array? (★★★)"
   ]
  },
  {
   "cell_type": "code",
   "execution_count": 127,
   "id": "bb510428",
   "metadata": {},
   "outputs": [
    {
     "name": "stdout",
     "output_type": "stream",
     "text": [
      "[[ 5  6  7  8  9]\n",
      " [ 0  1  2  3  4]\n",
      " [10 11 12 13 14]\n",
      " [15 16 17 18 19]\n",
      " [20 21 22 23 24]]\n"
     ]
    }
   ],
   "source": [
    "A = np.arange(25).reshape(5,5)\n",
    "A[[0,1]] = A[[1,0]]\n",
    "print(A)"
   ]
  },
  {
   "cell_type": "markdown",
   "id": "52beda8d",
   "metadata": {},
   "source": [
    "#### 73. Consider a set of 10 triplets describing 10 triangles (with shared vertices), find the set of unique line segments composing all the  triangles (★★★)"
   ]
  },
  {
   "cell_type": "code",
   "execution_count": 128,
   "id": "5b9895de",
   "metadata": {},
   "outputs": [
    {
     "name": "stdout",
     "output_type": "stream",
     "text": [
      "[( 1, 29) ( 1, 33) ( 3, 14) ( 3, 26) ( 4, 15) ( 4, 46) ( 6, 92) ( 6, 97)\n",
      " (11, 35) (11, 47) (14, 26) (14, 30) (14, 49) (15, 46) (15, 60) (15, 72)\n",
      " (25, 64) (25, 67) (29, 33) (30, 49) (32, 67) (32, 87) (35, 47) (41, 68)\n",
      " (41, 83) (60, 72) (64, 67) (67, 87) (68, 83) (92, 97)]\n"
     ]
    }
   ],
   "source": [
    "faces = np.random.randint(0,100,(10,3))\n",
    "F = np.roll(faces.repeat(2,axis=1),-1,axis=1)\n",
    "F = F.reshape(len(F)*3,2)\n",
    "F = np.sort(F,axis=1)\n",
    "G = F.view( dtype=[('p0',F.dtype),('p1',F.dtype)] )\n",
    "G = np.unique(G)\n",
    "print(G)"
   ]
  },
  {
   "cell_type": "markdown",
   "id": "b1f8e571",
   "metadata": {},
   "source": [
    "#### 74. Given a sorted array C that corresponds to a bincount, how to produce an array A such that np.bincount(A) == C? (★★★)"
   ]
  },
  {
   "cell_type": "code",
   "execution_count": 129,
   "id": "ea6d42e9",
   "metadata": {},
   "outputs": [
    {
     "name": "stdout",
     "output_type": "stream",
     "text": [
      "[1 1 2 3 4 4 6]\n"
     ]
    }
   ],
   "source": [
    "C = np.bincount([1,1,2,3,4,4,6])\n",
    "A = np.repeat(np.arange(len(C)), C)\n",
    "print(A)"
   ]
  },
  {
   "cell_type": "markdown",
   "id": "db1ed658",
   "metadata": {},
   "source": [
    "#### 75. How to compute averages using a sliding window over an array? (★★★)"
   ]
  },
  {
   "cell_type": "code",
   "execution_count": 130,
   "id": "9dc6a98a",
   "metadata": {},
   "outputs": [
    {
     "name": "stdout",
     "output_type": "stream",
     "text": [
      "[ 1.  2.  3.  4.  5.  6.  7.  8.  9. 10. 11. 12. 13. 14. 15. 16. 17. 18.]\n"
     ]
    }
   ],
   "source": [
    "def moving_average(a, n=3) :\n",
    "    ret = np.cumsum(a, dtype=float)\n",
    "    ret[n:] = ret[n:] - ret[:-n]\n",
    "    return ret[n - 1:] / n\n",
    "Z = np.arange(20)\n",
    "print(moving_average(Z, n=3))"
   ]
  },
  {
   "cell_type": "markdown",
   "id": "1ca35bda",
   "metadata": {},
   "source": [
    "#### 76. Consider a one-dimensional array Z, build a two-dimensional array whose first row is (Z[0],Z[1],Z[2]) and each subsequent row is  shifted by 1 (last row should be (Z[-3],Z[-2],Z[-1]) (★★★)"
   ]
  },
  {
   "cell_type": "code",
   "execution_count": 132,
   "id": "900e8b0a",
   "metadata": {},
   "outputs": [
    {
     "name": "stdout",
     "output_type": "stream",
     "text": [
      "[[0 1 2]\n",
      " [1 2 3]\n",
      " [2 3 4]\n",
      " [3 4 5]\n",
      " [4 5 6]\n",
      " [5 6 7]\n",
      " [6 7 8]\n",
      " [7 8 9]]\n"
     ]
    }
   ],
   "source": [
    "from numpy.lib import stride_tricks\n",
    "\n",
    "def rolling(a, window):\n",
    "    shape = (a.size - window + 1, window)\n",
    "    strides = (a.strides[0], a.strides[0])\n",
    "    return stride_tricks.as_strided(a, shape=shape, strides=strides)\n",
    "Z = rolling(np.arange(10), 3)\n",
    "print(Z)"
   ]
  },
  {
   "cell_type": "markdown",
   "id": "18bd6fab",
   "metadata": {},
   "source": [
    "#### 77. How to negate a boolean, or to change the sign of a float inplace? (★★★)"
   ]
  },
  {
   "cell_type": "code",
   "execution_count": 133,
   "id": "554c5103",
   "metadata": {},
   "outputs": [
    {
     "data": {
      "text/plain": [
       "array([-0.28360501,  0.76029026, -0.7624389 , -0.51008848,  0.93109413,\n",
       "       -0.88615304,  0.23584951, -0.00667664, -0.40956661,  0.23731182,\n",
       "        0.20847702,  0.27570733,  0.0212022 , -0.87483272, -0.86221451,\n",
       "       -0.82865658,  0.07320832,  0.03485955, -0.39935653, -0.2357044 ,\n",
       "        0.3867913 ,  0.04632632,  0.74697544, -0.26290407, -0.29787759,\n",
       "       -0.32071897, -0.96830428, -0.00867245,  0.02156924,  0.8488107 ,\n",
       "        0.36840839, -0.66404619,  0.08055248, -0.64146949, -0.38084248,\n",
       "       -0.12086184,  0.27129763, -0.02792399,  0.29849265,  0.47356778,\n",
       "        0.23991298, -0.56756131,  0.26009416, -0.90065465,  0.97329731,\n",
       "        0.72516977, -0.87622147,  0.91943722,  0.83199812,  0.83185233,\n",
       "        0.18519202, -0.95638531, -0.83863187, -0.06213464, -0.75130589,\n",
       "       -0.16314921,  0.93358159,  0.0327884 ,  0.50493483, -0.43369461,\n",
       "        0.9913314 ,  0.5808312 ,  0.32643575,  0.19506514, -0.93339509,\n",
       "        0.69288045, -0.15985026,  0.94751043,  0.4766579 ,  0.70983435,\n",
       "        0.5134526 , -0.73989453,  0.6918246 , -0.62565645,  0.09713046,\n",
       "       -0.71806261,  0.4139655 , -0.61160291, -0.44970781,  0.37323212,\n",
       "        0.56252477, -0.50293685,  0.20001679, -0.06775144,  0.86216052,\n",
       "        0.96015883, -0.43120133,  0.60404653,  0.08852733, -0.18837416,\n",
       "       -0.25009693, -0.59189454,  0.72458802, -0.17222829,  0.94885605,\n",
       "       -0.47131244, -0.21025066,  0.72070486,  0.0591119 , -0.46604154])"
      ]
     },
     "execution_count": 133,
     "metadata": {},
     "output_type": "execute_result"
    }
   ],
   "source": [
    "Z = np.random.randint(0,2,100)\n",
    "np.logical_not(Z, out=Z)\n",
    "\n",
    "Z = np.random.uniform(-1.0,1.0,100)\n",
    "np.negative(Z, out=Z)"
   ]
  },
  {
   "cell_type": "markdown",
   "id": "79a5b412",
   "metadata": {},
   "source": [
    "#### 78. Consider 2 sets of points P0,P1 describing lines (2d) and a point p, how to compute distance from p to each line i (P0[i],P1[i])? (★★★)"
   ]
  },
  {
   "cell_type": "code",
   "execution_count": 134,
   "id": "4e4eac2f",
   "metadata": {},
   "outputs": [
    {
     "name": "stdout",
     "output_type": "stream",
     "text": [
      "[8.85847094 5.0528196  2.23216812 0.49252951 5.92114991 3.48708087\n",
      " 5.57853602 7.18449568 7.81751278 8.91183528]\n"
     ]
    }
   ],
   "source": [
    "def distance(P0, P1, p):\n",
    "    T = P1 - P0\n",
    "    L = (T**2).sum(axis=1)\n",
    "    U = -((P0[:,0]-p[...,0])*T[:,0] + (P0[:,1]-p[...,1])*T[:,1]) / L\n",
    "    U = U.reshape(len(U),1)\n",
    "    D = P0 + U*T - p\n",
    "    return np.sqrt((D**2).sum(axis=1))\n",
    "\n",
    "P0 = np.random.uniform(-10,10,(10,2))\n",
    "P1 = np.random.uniform(-10,10,(10,2))\n",
    "p  = np.random.uniform(-10,10,( 1,2))\n",
    "print(distance(P0, P1, p))"
   ]
  },
  {
   "cell_type": "markdown",
   "id": "33ffa66d",
   "metadata": {},
   "source": [
    "#### 79. Consider 2 sets of points P0,P1 describing lines (2d) and a set of points P, how to compute distance from each point j (P[j]) to each line i (P0[i],P1[i])? (★★★)"
   ]
  },
  {
   "cell_type": "code",
   "execution_count": 135,
   "id": "b56c2510",
   "metadata": {},
   "outputs": [
    {
     "name": "stdout",
     "output_type": "stream",
     "text": [
      "[[ 4.46572544  5.96980929  1.77634893  1.04895249  5.69817376  3.64467527\n",
      "   7.11518667  3.48279043 16.99502075  0.95049727]\n",
      " [ 3.60340111  6.48655008  1.19880774  0.32616151  4.00588082  3.70502519\n",
      "   5.17598763  1.61175442 15.18631298  0.96656189]\n",
      " [ 4.82859818  6.06572298  1.75913544  2.15762342  7.33949788  4.3068813\n",
      "   9.35240663  5.49676921 19.40642864  3.34468483]\n",
      " [ 3.21775084 12.45189368  4.92918738  8.02747813  3.81228402  8.30286034\n",
      "   1.64696543  5.83790326 10.76845145  6.61792556]\n",
      " [10.13345765  0.3660492   7.40556954  6.35349092 10.27545242  1.59565589\n",
      "   9.84951883  7.13963547 17.25783606  2.36795623]\n",
      " [ 6.14637809  2.73793289  4.74962723  0.03387512  2.399474    1.35467056\n",
      "   0.80470832  1.57924693  8.8036924   6.58368943]\n",
      " [ 9.12347239  1.20773874  8.53880294  1.05738403  1.83208059  6.3063185\n",
      "   2.30420864  3.58136984  3.66386424 10.91612368]\n",
      " [ 2.2666228  12.6606004   4.93884903  5.19374399  0.3632052   9.94489212\n",
      "   4.02339937  0.7261703  16.86416819  0.55878699]\n",
      " [ 4.91521513 15.27905437  7.56924225  7.6730238   1.77652846 12.39322104\n",
      "   2.74451217  2.43600653 16.74006942  1.22241436]\n",
      " [ 3.71409281  5.1387917   2.3371687   2.31701716  0.4233715   0.8854792\n",
      "   0.38673879  3.1641201   8.66998243  7.21211381]]\n"
     ]
    }
   ],
   "source": [
    "P0 = np.random.uniform(-10, 10, (10,2))\n",
    "P1 = np.random.uniform(-10,10,(10,2))\n",
    "p = np.random.uniform(-10, 10, (10,2))\n",
    "print(np.array([distance(P0,P1,p_i) for p_i in p]))"
   ]
  },
  {
   "cell_type": "markdown",
   "id": "a0f23dfa",
   "metadata": {},
   "source": [
    "#### 80. Consider an arbitrary array, write a function that extract a subpart with a fixed shape and centered on a given element (pad with a `fill` value when necessary) (★★★)"
   ]
  },
  {
   "cell_type": "code",
   "execution_count": 136,
   "id": "4b7b96fc",
   "metadata": {},
   "outputs": [
    {
     "name": "stdout",
     "output_type": "stream",
     "text": [
      "[[7 5 2 1 3 1 6 5 8 3]\n",
      " [4 3 6 5 5 5 8 3 3 1]\n",
      " [1 8 2 4 1 4 0 4 8 3]\n",
      " [4 4 7 5 2 0 9 6 4 6]\n",
      " [9 4 0 6 3 5 5 2 4 8]\n",
      " [8 4 6 9 6 5 1 6 5 1]\n",
      " [5 4 4 5 2 0 0 7 8 5]\n",
      " [4 2 3 3 1 2 9 5 3 5]\n",
      " [6 4 2 3 2 4 3 5 5 3]\n",
      " [6 0 1 3 4 2 1 1 5 3]]\n",
      "[[0 0 0 0 0]\n",
      " [0 7 5 2 1]\n",
      " [0 4 3 6 5]\n",
      " [0 1 8 2 4]\n",
      " [0 4 4 7 5]]\n"
     ]
    },
    {
     "name": "stderr",
     "output_type": "stream",
     "text": [
      "C:\\Users\\ivanm\\AppData\\Local\\Temp\\ipykernel_2324\\1159162857.py:23: FutureWarning: Using a non-tuple sequence for multidimensional indexing is deprecated; use `arr[tuple(seq)]` instead of `arr[seq]`. In the future this will be interpreted as an array index, `arr[np.array(seq)]`, which will result either in an error or a different result.\n",
      "  R[r] = Z[z]\n"
     ]
    }
   ],
   "source": [
    "Z = np.random.randint(0,10,(10,10))\n",
    "shape = (5,5)\n",
    "fill  = 0\n",
    "position = (1,1)\n",
    "\n",
    "R = np.ones(shape, dtype=Z.dtype)*fill\n",
    "P  = np.array(list(position)).astype(int)\n",
    "Rs = np.array(list(R.shape)).astype(int)\n",
    "Zs = np.array(list(Z.shape)).astype(int)\n",
    "\n",
    "R_start = np.zeros((len(shape),)).astype(int)\n",
    "R_stop  = np.array(list(shape)).astype(int)\n",
    "Z_start = (P-Rs//2)\n",
    "Z_stop  = (P+Rs//2)+Rs%2\n",
    "\n",
    "R_start = (R_start - np.minimum(Z_start,0)).tolist()\n",
    "Z_start = (np.maximum(Z_start,0)).tolist()\n",
    "R_stop = np.maximum(R_start, (R_stop - np.maximum(Z_stop-Zs,0))).tolist()\n",
    "Z_stop = (np.minimum(Z_stop,Zs)).tolist()\n",
    "\n",
    "r = [slice(start,stop) for start,stop in zip(R_start,R_stop)]\n",
    "z = [slice(start,stop) for start,stop in zip(Z_start,Z_stop)]\n",
    "R[r] = Z[z]\n",
    "print(Z)\n",
    "print(R)"
   ]
  },
  {
   "cell_type": "markdown",
   "id": "cc27e944",
   "metadata": {},
   "source": [
    "#### 81. Consider an array Z = [1,2,3,4,5,6,7,8,9,10,11,12,13,14], how to generate an array R = [[1,2,3,4], [2,3,4,5], [3,4,5,6], ..., [11,12,13,14]]? (★★★)"
   ]
  },
  {
   "cell_type": "code",
   "execution_count": 137,
   "id": "2fdaa26c",
   "metadata": {},
   "outputs": [
    {
     "name": "stdout",
     "output_type": "stream",
     "text": [
      "[[ 1  2  3  4]\n",
      " [ 2  3  4  5]\n",
      " [ 3  4  5  6]\n",
      " [ 4  5  6  7]\n",
      " [ 5  6  7  8]\n",
      " [ 6  7  8  9]\n",
      " [ 7  8  9 10]\n",
      " [ 8  9 10 11]\n",
      " [ 9 10 11 12]\n",
      " [10 11 12 13]\n",
      " [11 12 13 14]]\n"
     ]
    }
   ],
   "source": [
    "Z = np.arange(1,15,dtype=np.uint32)\n",
    "R = stride_tricks.as_strided(Z,(11,4),(4,4))\n",
    "print(R)"
   ]
  },
  {
   "cell_type": "markdown",
   "id": "9bc44d6e",
   "metadata": {},
   "source": [
    "#### 82. Compute a matrix rank (★★★)"
   ]
  },
  {
   "cell_type": "code",
   "execution_count": 138,
   "id": "3a4c7564",
   "metadata": {},
   "outputs": [
    {
     "name": "stdout",
     "output_type": "stream",
     "text": [
      "10\n"
     ]
    }
   ],
   "source": [
    "Z = np.random.uniform(0,1,(10,10))\n",
    "U, S, V = np.linalg.svd(Z) # Singular Value Decomposition\n",
    "rank = np.sum(S > 1e-10)\n",
    "print(rank)"
   ]
  },
  {
   "cell_type": "markdown",
   "id": "718a82dd",
   "metadata": {},
   "source": [
    "#### 83. How to find the most frequent value in an array?"
   ]
  },
  {
   "cell_type": "code",
   "execution_count": 139,
   "id": "8ffc513c",
   "metadata": {},
   "outputs": [
    {
     "name": "stdout",
     "output_type": "stream",
     "text": [
      "3\n"
     ]
    }
   ],
   "source": [
    "Z = np.random.randint(0,10,50)\n",
    "print(np.bincount(Z).argmax())"
   ]
  },
  {
   "cell_type": "markdown",
   "id": "754ceeba",
   "metadata": {},
   "source": [
    "#### 84. Extract all the contiguous 3x3 blocks from a random 10x10 matrix (★★★)"
   ]
  },
  {
   "cell_type": "code",
   "execution_count": 140,
   "id": "c32bb120",
   "metadata": {},
   "outputs": [
    {
     "name": "stdout",
     "output_type": "stream",
     "text": [
      "[[[[0 1 0]\n",
      "   [3 1 3]\n",
      "   [1 3 2]]\n",
      "\n",
      "  [[1 0 3]\n",
      "   [1 3 0]\n",
      "   [3 2 1]]\n",
      "\n",
      "  [[0 3 2]\n",
      "   [3 0 3]\n",
      "   [2 1 2]]\n",
      "\n",
      "  [[3 2 1]\n",
      "   [0 3 0]\n",
      "   [1 2 0]]\n",
      "\n",
      "  [[2 1 4]\n",
      "   [3 0 3]\n",
      "   [2 0 4]]\n",
      "\n",
      "  [[1 4 0]\n",
      "   [0 3 1]\n",
      "   [0 4 4]]\n",
      "\n",
      "  [[4 0 2]\n",
      "   [3 1 2]\n",
      "   [4 4 3]]\n",
      "\n",
      "  [[0 2 4]\n",
      "   [1 2 0]\n",
      "   [4 3 0]]]\n",
      "\n",
      "\n",
      " [[[3 1 3]\n",
      "   [1 3 2]\n",
      "   [0 3 1]]\n",
      "\n",
      "  [[1 3 0]\n",
      "   [3 2 1]\n",
      "   [3 1 0]]\n",
      "\n",
      "  [[3 0 3]\n",
      "   [2 1 2]\n",
      "   [1 0 3]]\n",
      "\n",
      "  [[0 3 0]\n",
      "   [1 2 0]\n",
      "   [0 3 0]]\n",
      "\n",
      "  [[3 0 3]\n",
      "   [2 0 4]\n",
      "   [3 0 2]]\n",
      "\n",
      "  [[0 3 1]\n",
      "   [0 4 4]\n",
      "   [0 2 0]]\n",
      "\n",
      "  [[3 1 2]\n",
      "   [4 4 3]\n",
      "   [2 0 0]]\n",
      "\n",
      "  [[1 2 0]\n",
      "   [4 3 0]\n",
      "   [0 0 4]]]\n",
      "\n",
      "\n",
      " [[[1 3 2]\n",
      "   [0 3 1]\n",
      "   [1 3 1]]\n",
      "\n",
      "  [[3 2 1]\n",
      "   [3 1 0]\n",
      "   [3 1 3]]\n",
      "\n",
      "  [[2 1 2]\n",
      "   [1 0 3]\n",
      "   [1 3 1]]\n",
      "\n",
      "  [[1 2 0]\n",
      "   [0 3 0]\n",
      "   [3 1 1]]\n",
      "\n",
      "  [[2 0 4]\n",
      "   [3 0 2]\n",
      "   [1 1 3]]\n",
      "\n",
      "  [[0 4 4]\n",
      "   [0 2 0]\n",
      "   [1 3 0]]\n",
      "\n",
      "  [[4 4 3]\n",
      "   [2 0 0]\n",
      "   [3 0 3]]\n",
      "\n",
      "  [[4 3 0]\n",
      "   [0 0 4]\n",
      "   [0 3 1]]]\n",
      "\n",
      "\n",
      " [[[0 3 1]\n",
      "   [1 3 1]\n",
      "   [3 0 3]]\n",
      "\n",
      "  [[3 1 0]\n",
      "   [3 1 3]\n",
      "   [0 3 1]]\n",
      "\n",
      "  [[1 0 3]\n",
      "   [1 3 1]\n",
      "   [3 1 0]]\n",
      "\n",
      "  [[0 3 0]\n",
      "   [3 1 1]\n",
      "   [1 0 2]]\n",
      "\n",
      "  [[3 0 2]\n",
      "   [1 1 3]\n",
      "   [0 2 1]]\n",
      "\n",
      "  [[0 2 0]\n",
      "   [1 3 0]\n",
      "   [2 1 4]]\n",
      "\n",
      "  [[2 0 0]\n",
      "   [3 0 3]\n",
      "   [1 4 4]]\n",
      "\n",
      "  [[0 0 4]\n",
      "   [0 3 1]\n",
      "   [4 4 4]]]\n",
      "\n",
      "\n",
      " [[[1 3 1]\n",
      "   [3 0 3]\n",
      "   [4 1 1]]\n",
      "\n",
      "  [[3 1 3]\n",
      "   [0 3 1]\n",
      "   [1 1 2]]\n",
      "\n",
      "  [[1 3 1]\n",
      "   [3 1 0]\n",
      "   [1 2 3]]\n",
      "\n",
      "  [[3 1 1]\n",
      "   [1 0 2]\n",
      "   [2 3 4]]\n",
      "\n",
      "  [[1 1 3]\n",
      "   [0 2 1]\n",
      "   [3 4 3]]\n",
      "\n",
      "  [[1 3 0]\n",
      "   [2 1 4]\n",
      "   [4 3 4]]\n",
      "\n",
      "  [[3 0 3]\n",
      "   [1 4 4]\n",
      "   [3 4 2]]\n",
      "\n",
      "  [[0 3 1]\n",
      "   [4 4 4]\n",
      "   [4 2 3]]]\n",
      "\n",
      "\n",
      " [[[3 0 3]\n",
      "   [4 1 1]\n",
      "   [4 4 3]]\n",
      "\n",
      "  [[0 3 1]\n",
      "   [1 1 2]\n",
      "   [4 3 1]]\n",
      "\n",
      "  [[3 1 0]\n",
      "   [1 2 3]\n",
      "   [3 1 1]]\n",
      "\n",
      "  [[1 0 2]\n",
      "   [2 3 4]\n",
      "   [1 1 2]]\n",
      "\n",
      "  [[0 2 1]\n",
      "   [3 4 3]\n",
      "   [1 2 1]]\n",
      "\n",
      "  [[2 1 4]\n",
      "   [4 3 4]\n",
      "   [2 1 0]]\n",
      "\n",
      "  [[1 4 4]\n",
      "   [3 4 2]\n",
      "   [1 0 2]]\n",
      "\n",
      "  [[4 4 4]\n",
      "   [4 2 3]\n",
      "   [0 2 4]]]\n",
      "\n",
      "\n",
      " [[[4 1 1]\n",
      "   [4 4 3]\n",
      "   [3 3 0]]\n",
      "\n",
      "  [[1 1 2]\n",
      "   [4 3 1]\n",
      "   [3 0 1]]\n",
      "\n",
      "  [[1 2 3]\n",
      "   [3 1 1]\n",
      "   [0 1 4]]\n",
      "\n",
      "  [[2 3 4]\n",
      "   [1 1 2]\n",
      "   [1 4 4]]\n",
      "\n",
      "  [[3 4 3]\n",
      "   [1 2 1]\n",
      "   [4 4 1]]\n",
      "\n",
      "  [[4 3 4]\n",
      "   [2 1 0]\n",
      "   [4 1 1]]\n",
      "\n",
      "  [[3 4 2]\n",
      "   [1 0 2]\n",
      "   [1 1 2]]\n",
      "\n",
      "  [[4 2 3]\n",
      "   [0 2 4]\n",
      "   [1 2 1]]]\n",
      "\n",
      "\n",
      " [[[4 4 3]\n",
      "   [3 3 0]\n",
      "   [3 3 1]]\n",
      "\n",
      "  [[4 3 1]\n",
      "   [3 0 1]\n",
      "   [3 1 0]]\n",
      "\n",
      "  [[3 1 1]\n",
      "   [0 1 4]\n",
      "   [1 0 2]]\n",
      "\n",
      "  [[1 1 2]\n",
      "   [1 4 4]\n",
      "   [0 2 4]]\n",
      "\n",
      "  [[1 2 1]\n",
      "   [4 4 1]\n",
      "   [2 4 4]]\n",
      "\n",
      "  [[2 1 0]\n",
      "   [4 1 1]\n",
      "   [4 4 0]]\n",
      "\n",
      "  [[1 0 2]\n",
      "   [1 1 2]\n",
      "   [4 0 2]]\n",
      "\n",
      "  [[0 2 4]\n",
      "   [1 2 1]\n",
      "   [0 2 3]]]]\n"
     ]
    }
   ],
   "source": [
    "Z = np.random.randint(0,5,(10,10))\n",
    "n = 3\n",
    "i = 1 + (Z.shape[0]-3)\n",
    "j = 1 + (Z.shape[1]-3)\n",
    "C = stride_tricks.as_strided(Z, shape=(i, j, n, n), strides=Z.strides + Z.strides)\n",
    "print(C)"
   ]
  },
  {
   "cell_type": "markdown",
   "id": "9fc0b63a",
   "metadata": {},
   "source": [
    "#### 85. Create a 2D array subclass such that Z[i,j] == Z[j,i] (★★★)"
   ]
  },
  {
   "cell_type": "code",
   "execution_count": 141,
   "id": "c41d0f9b",
   "metadata": {},
   "outputs": [
    {
     "name": "stdout",
     "output_type": "stream",
     "text": [
      "[[ 1  9  8 18  2]\n",
      " [ 9  8 13  7 10]\n",
      " [ 8 13  2 42  5]\n",
      " [18  7 42  6 11]\n",
      " [ 2 10  5 11  2]]\n"
     ]
    }
   ],
   "source": [
    "class Symetric(np.ndarray):\n",
    "    def __setitem__(self, index, value):\n",
    "        i,j = index\n",
    "        super(Symetric, self).__setitem__((i,j), value)\n",
    "        super(Symetric, self).__setitem__((j,i), value)\n",
    "\n",
    "def symetric(Z):\n",
    "    return np.asarray(Z + Z.T - np.diag(Z.diagonal())).view(Symetric)\n",
    "\n",
    "S = symetric(np.random.randint(0,10,(5,5)))\n",
    "S[2,3] = 42\n",
    "print(S)"
   ]
  },
  {
   "cell_type": "markdown",
   "id": "ae909782",
   "metadata": {},
   "source": [
    "#### 86. Consider a set of p matrices wich shape (n,n) and a set of p vectors with shape (n,1). How to compute the sum of of the p matrix products at once? (result has shape (n,1)) (★★★)"
   ]
  },
  {
   "cell_type": "code",
   "execution_count": 142,
   "id": "013944b1",
   "metadata": {},
   "outputs": [
    {
     "name": "stdout",
     "output_type": "stream",
     "text": [
      "[[200.]\n",
      " [200.]\n",
      " [200.]\n",
      " [200.]\n",
      " [200.]\n",
      " [200.]\n",
      " [200.]\n",
      " [200.]\n",
      " [200.]\n",
      " [200.]\n",
      " [200.]\n",
      " [200.]\n",
      " [200.]\n",
      " [200.]\n",
      " [200.]\n",
      " [200.]\n",
      " [200.]\n",
      " [200.]\n",
      " [200.]\n",
      " [200.]]\n"
     ]
    }
   ],
   "source": [
    "p, n = 10, 20\n",
    "M = np.ones((p,n,n))\n",
    "V = np.ones((p,n,1))\n",
    "S = np.tensordot(M, V, axes=[[0, 2], [0, 1]])\n",
    "print(S)"
   ]
  },
  {
   "cell_type": "markdown",
   "id": "5f134bf4",
   "metadata": {},
   "source": [
    "#### 87. Consider a 16x16 array, how to get the block-sum (block size is 4x4)? (★★★)"
   ]
  },
  {
   "cell_type": "code",
   "execution_count": 143,
   "id": "bf480005",
   "metadata": {},
   "outputs": [
    {
     "name": "stdout",
     "output_type": "stream",
     "text": [
      "[[16. 16. 16. 16.]\n",
      " [16. 16. 16. 16.]\n",
      " [16. 16. 16. 16.]\n",
      " [16. 16. 16. 16.]]\n"
     ]
    }
   ],
   "source": [
    "Z = np.ones((16,16))\n",
    "k = 4\n",
    "S = np.add.reduceat(np.add.reduceat(Z, np.arange(0, Z.shape[0], k), axis=0),\n",
    "                                       np.arange(0, Z.shape[1], k), axis=1)\n",
    "print(S)"
   ]
  },
  {
   "cell_type": "markdown",
   "id": "aa91a3be",
   "metadata": {},
   "source": [
    "#### 88. How to implement the Game of Life using numpy arrays? (★★★)"
   ]
  },
  {
   "cell_type": "code",
   "execution_count": 145,
   "id": "a20f0e2b",
   "metadata": {},
   "outputs": [
    {
     "name": "stdout",
     "output_type": "stream",
     "text": [
      "[[0 0 0 0 0 0 0 0 0 0 0 0 0 0 0 0 0 0 0 0 0 0 0 0 0 0 0 0 0 0 0 0 0 0 0 0\n",
      "  0 0 0 0 0 0 0 0 0 0 0 0 0 0]\n",
      " [0 0 0 0 0 0 0 0 0 0 0 0 0 0 0 0 0 0 0 0 0 0 0 0 0 0 0 0 0 0 0 0 0 0 0 0\n",
      "  0 0 0 0 0 0 0 0 0 0 0 0 0 0]\n",
      " [0 0 0 0 0 0 0 0 0 0 0 0 0 0 0 0 0 0 0 0 0 0 0 0 0 0 0 0 0 0 0 0 0 0 0 0\n",
      "  0 0 0 0 0 0 0 0 0 0 0 0 0 0]\n",
      " [0 0 0 0 0 0 0 0 0 0 0 0 0 0 0 0 0 0 0 0 0 0 0 0 0 0 0 0 0 0 0 0 0 0 0 0\n",
      "  0 0 0 0 0 0 0 0 0 0 0 0 0 0]\n",
      " [0 0 0 0 0 0 1 0 0 0 0 0 0 0 0 0 0 0 0 1 1 0 0 0 0 0 0 1 1 0 0 0 0 0 0 0\n",
      "  0 0 0 0 0 0 0 0 0 0 0 0 0 0]\n",
      " [0 0 0 0 0 1 0 1 0 0 0 0 0 0 0 0 0 0 0 1 1 0 0 0 0 0 0 1 0 0 0 0 0 0 0 0\n",
      "  0 0 0 0 0 0 0 0 0 0 0 0 0 0]\n",
      " [0 0 0 0 0 1 0 0 1 0 0 0 0 0 0 0 0 0 0 0 0 0 0 0 0 1 1 1 0 0 0 0 0 0 0 0\n",
      "  0 0 0 0 0 0 0 0 0 0 0 0 0 0]\n",
      " [0 0 0 0 0 0 1 1 0 0 0 0 0 0 0 0 0 0 0 0 0 0 0 1 0 0 0 0 1 1 0 0 0 0 0 0\n",
      "  0 0 0 0 0 0 0 0 0 0 0 0 0 0]\n",
      " [0 0 0 0 0 0 0 0 0 0 0 0 0 0 0 0 0 0 0 0 0 0 0 0 0 0 0 0 1 1 0 0 0 0 0 0\n",
      "  0 0 0 0 0 0 0 0 0 0 0 0 0 0]\n",
      " [0 0 0 0 0 0 0 0 0 0 0 0 0 0 0 0 0 0 0 0 0 0 0 1 0 0 0 0 1 1 0 0 0 0 0 0\n",
      "  0 0 0 0 0 0 0 0 0 0 0 0 0 0]\n",
      " [0 0 0 0 0 0 0 0 0 0 0 0 0 0 0 0 0 0 0 0 0 0 0 0 0 0 0 1 1 0 0 0 0 0 0 0\n",
      "  0 0 0 0 0 0 0 0 0 0 0 0 0 0]\n",
      " [0 0 0 0 0 0 0 0 0 0 0 0 0 0 0 0 0 0 0 0 0 0 0 0 0 0 1 1 0 0 0 0 0 0 0 0\n",
      "  0 0 0 0 0 0 0 0 0 0 0 0 0 0]\n",
      " [0 0 0 0 0 0 0 0 0 0 0 0 0 0 0 0 0 0 0 0 0 0 0 0 0 0 0 1 0 1 1 1 1 0 0 0\n",
      "  0 0 0 0 0 0 0 0 0 0 0 0 0 0]\n",
      " [0 0 0 0 0 0 0 0 0 0 0 0 0 0 0 0 0 0 0 0 0 0 0 0 0 0 0 1 0 0 1 0 1 0 0 0\n",
      "  0 0 0 0 0 0 0 0 0 0 0 0 0 0]\n",
      " [0 0 0 0 0 0 0 0 0 0 0 0 0 0 0 0 0 0 0 0 0 0 0 0 0 0 0 1 1 0 0 1 0 1 0 0\n",
      "  0 0 0 0 0 0 0 0 0 0 0 0 0 0]\n",
      " [0 0 0 0 0 0 0 0 0 0 0 0 0 0 0 0 0 0 0 0 0 0 0 0 0 0 0 0 1 1 0 0 0 1 1 0\n",
      "  0 0 0 0 0 0 0 0 1 0 0 0 0 0]\n",
      " [0 0 0 0 0 0 0 0 0 0 0 0 0 0 0 0 0 0 0 0 0 0 0 0 0 0 0 0 0 0 0 0 0 1 1 0\n",
      "  0 0 0 0 0 0 0 1 0 1 0 0 0 0]\n",
      " [0 0 0 0 0 0 0 0 0 0 0 0 0 0 0 0 0 0 0 0 0 0 0 0 0 0 0 0 0 0 1 0 1 0 0 0\n",
      "  0 0 0 0 0 0 1 0 0 1 0 0 0 0]\n",
      " [0 0 0 0 0 0 0 0 0 0 0 0 0 0 0 0 0 0 0 0 0 0 0 0 0 0 0 0 1 1 0 1 1 0 0 0\n",
      "  0 0 0 0 0 0 0 1 1 0 0 0 0 0]\n",
      " [0 0 0 0 0 0 0 0 0 0 0 0 0 0 0 0 0 0 0 0 0 0 0 0 0 0 0 0 0 1 0 1 0 0 0 0\n",
      "  0 0 0 0 0 0 0 0 0 0 0 0 0 0]\n",
      " [0 0 0 0 0 0 0 0 0 0 0 0 0 0 0 0 0 0 0 0 0 0 0 0 0 0 0 0 0 0 1 0 0 0 0 0\n",
      "  0 0 0 0 0 0 0 0 0 0 0 0 0 0]\n",
      " [0 0 0 0 0 0 0 0 0 0 0 0 0 0 0 0 0 0 0 0 0 0 0 0 0 0 0 0 0 0 0 0 0 0 0 0\n",
      "  0 0 0 0 0 0 0 0 0 0 0 0 0 0]\n",
      " [0 0 0 0 0 0 0 0 0 0 0 0 0 0 0 0 0 0 0 0 0 0 0 0 0 0 0 0 0 0 0 0 0 0 0 0\n",
      "  0 0 0 0 0 0 0 0 0 0 0 0 0 0]\n",
      " [0 0 0 0 0 0 0 0 0 0 0 0 0 0 0 0 0 0 0 0 0 0 0 0 0 0 0 0 0 0 0 0 0 0 0 0\n",
      "  0 0 0 0 0 0 0 0 0 0 0 0 0 0]\n",
      " [0 0 0 0 0 0 0 0 0 0 0 0 0 0 0 0 0 0 1 1 1 0 0 0 0 0 0 0 0 0 0 0 0 0 0 0\n",
      "  0 0 0 0 0 0 0 0 0 0 0 0 0 0]\n",
      " [0 0 0 0 0 0 0 0 0 0 0 0 0 0 0 0 0 0 1 1 0 1 1 1 0 0 0 0 0 0 0 0 0 0 0 0\n",
      "  0 0 0 0 0 0 0 0 0 0 0 0 0 0]\n",
      " [0 0 0 0 0 0 0 0 0 0 0 0 0 0 0 0 0 0 0 1 0 1 1 1 0 0 0 0 0 0 0 0 0 0 0 0\n",
      "  0 0 0 0 0 0 0 0 0 0 0 0 0 0]\n",
      " [0 0 0 0 0 0 0 0 0 0 0 0 0 0 0 0 0 0 1 0 1 1 1 1 0 0 0 0 0 0 0 0 0 0 0 0\n",
      "  0 0 0 0 0 0 0 0 0 0 0 0 0 0]\n",
      " [0 0 0 0 0 0 0 0 0 0 0 0 0 0 0 0 0 0 1 1 1 0 0 0 0 0 0 0 0 0 0 0 0 0 0 0\n",
      "  0 0 0 0 0 0 0 0 0 0 0 0 0 0]\n",
      " [0 0 0 0 0 0 0 0 0 0 0 0 0 0 0 0 0 0 0 1 1 0 0 0 0 0 0 0 0 0 0 0 0 0 0 0\n",
      "  0 0 0 0 0 0 0 0 0 0 0 0 0 0]\n",
      " [0 0 0 0 0 0 0 0 0 0 0 0 0 1 0 0 0 0 0 0 0 0 0 0 0 0 0 0 0 0 0 0 0 0 0 0\n",
      "  0 0 0 0 0 0 0 0 0 0 0 0 0 0]\n",
      " [0 0 0 0 0 0 0 0 0 0 0 0 0 1 0 0 0 0 0 0 0 0 0 0 0 0 0 0 0 0 0 0 0 0 0 0\n",
      "  0 0 0 0 0 0 0 0 1 1 0 0 0 0]\n",
      " [0 0 0 0 0 0 0 0 0 0 0 1 1 0 1 0 0 0 0 0 0 0 0 0 0 0 0 0 0 1 0 0 0 0 0 0\n",
      "  0 0 0 0 0 0 0 0 1 1 0 0 0 0]\n",
      " [0 0 0 0 0 0 0 0 0 0 1 0 0 1 0 0 0 0 0 0 0 0 0 0 0 0 0 0 1 0 1 0 0 0 0 0\n",
      "  1 1 0 0 0 0 0 0 0 0 0 0 0 0]\n",
      " [0 0 0 0 0 0 0 0 0 0 1 0 0 1 0 0 0 0 0 0 0 0 0 0 0 0 0 0 1 1 0 0 0 0 0 0\n",
      "  1 1 0 0 0 0 0 0 0 0 0 0 0 0]\n",
      " [0 0 0 0 0 0 0 0 0 0 0 0 0 0 0 0 0 0 0 0 0 0 0 0 0 0 0 0 0 0 0 0 0 0 0 0\n",
      "  0 0 0 0 0 0 0 0 0 0 0 0 0 0]\n",
      " [0 0 0 0 0 0 0 0 0 0 0 0 0 0 0 0 0 0 0 0 0 0 0 0 0 0 0 0 0 0 0 0 0 0 0 0\n",
      "  0 0 0 0 0 0 0 0 0 0 0 0 0 0]\n",
      " [0 0 0 0 0 0 0 0 0 0 0 0 0 0 0 0 0 0 0 0 0 0 0 0 0 0 0 0 0 0 0 0 0 0 0 0\n",
      "  0 0 0 0 0 0 0 0 0 0 0 0 0 0]\n",
      " [0 0 0 0 0 0 0 0 0 0 0 0 0 0 0 0 0 0 0 0 0 0 0 1 0 0 0 0 0 0 0 0 0 0 0 0\n",
      "  0 0 0 0 0 0 0 0 0 0 0 0 0 0]\n",
      " [0 0 0 0 0 0 0 0 0 0 0 0 0 0 0 0 0 0 0 0 0 0 1 0 1 0 0 0 0 0 0 0 0 0 0 0\n",
      "  0 0 0 0 0 0 0 0 0 0 0 0 0 0]\n",
      " [0 0 0 0 0 0 0 0 0 0 0 0 0 0 0 0 0 0 0 0 0 1 1 0 1 1 0 0 0 0 0 0 0 0 0 0\n",
      "  0 0 0 0 0 0 0 0 0 0 0 0 0 0]\n",
      " [0 0 0 0 0 0 0 0 0 0 0 0 0 0 0 0 0 0 0 0 0 0 1 0 1 0 0 0 0 0 0 0 0 0 0 0\n",
      "  0 0 0 0 0 0 0 1 1 0 0 0 0 0]\n",
      " [0 0 0 0 0 0 0 0 0 0 0 0 0 0 0 0 0 0 0 0 0 0 0 1 0 0 0 0 0 0 0 0 0 0 0 0\n",
      "  0 0 0 0 0 0 0 1 1 0 0 0 0 0]\n",
      " [0 0 0 0 0 0 0 0 0 0 0 0 0 0 0 0 0 0 0 0 0 0 0 0 0 0 0 0 0 0 0 0 0 0 0 0\n",
      "  0 0 0 0 0 0 0 0 0 0 0 0 0 0]\n",
      " [0 0 0 0 0 0 0 0 0 0 0 0 0 0 0 0 0 0 0 0 0 0 0 0 0 0 0 0 0 0 0 0 0 0 0 0\n",
      "  0 0 0 0 0 0 0 0 0 0 0 0 0 0]\n",
      " [0 0 0 0 0 0 0 0 0 0 0 0 0 0 0 0 0 0 0 0 0 0 0 0 0 0 0 0 0 0 1 1 1 0 0 0\n",
      "  0 1 1 0 0 0 0 0 0 0 0 0 0 0]\n",
      " [0 0 0 0 0 0 0 0 0 0 0 0 0 0 0 0 0 0 0 0 0 0 0 0 0 0 0 0 0 0 0 0 0 0 0 0\n",
      "  1 0 0 1 0 0 0 0 0 0 0 0 0 0]\n",
      " [0 0 0 0 0 0 0 0 0 0 0 0 0 0 0 0 0 0 0 0 0 0 0 0 0 0 0 0 0 0 0 0 0 0 0 0\n",
      "  0 1 1 0 0 0 0 0 0 0 0 1 1 0]\n",
      " [0 0 0 0 0 0 0 0 0 0 0 0 0 0 0 0 0 0 0 0 0 0 0 0 0 0 0 0 0 0 0 0 0 0 0 0\n",
      "  0 0 0 0 0 0 0 0 0 0 0 1 1 0]\n",
      " [0 0 0 0 0 0 0 0 0 0 0 0 0 0 0 0 0 0 0 0 0 0 0 0 0 0 0 0 0 0 0 0 0 0 0 0\n",
      "  0 0 0 0 0 0 0 0 0 0 0 0 0 0]]\n"
     ]
    }
   ],
   "source": [
    "def iterate(Z):\n",
    "    # Count neighbours\n",
    "    N = (Z[0:-2,0:-2] + Z[0:-2,1:-1] + Z[0:-2,2:] +\n",
    "         Z[1:-1,0:-2]                + Z[1:-1,2:] +\n",
    "         Z[2:  ,0:-2] + Z[2:  ,1:-1] + Z[2:  ,2:])\n",
    "\n",
    "    # Apply rules\n",
    "    birth = (N==3) & (Z[1:-1,1:-1]==0)\n",
    "    survive = ((N==2) | (N==3)) & (Z[1:-1,1:-1]==1)\n",
    "    Z[...] = 0\n",
    "    Z[1:-1,1:-1][birth | survive] = 1\n",
    "    return Z\n",
    "\n",
    "Z = np.random.randint(0,2,(50,50))\n",
    "for i in range(100): Z = iterate(Z)\n",
    "print(Z)"
   ]
  },
  {
   "cell_type": "markdown",
   "id": "885023d9",
   "metadata": {},
   "source": [
    "#### 89. How to get the n largest values of an array (★★★)"
   ]
  },
  {
   "cell_type": "code",
   "execution_count": 146,
   "id": "996ab585",
   "metadata": {},
   "outputs": [
    {
     "name": "stdout",
     "output_type": "stream",
     "text": [
      "[9995 9996 9997 9998 9999]\n",
      "[9998 9999 9997 9996 9995]\n"
     ]
    }
   ],
   "source": [
    "Z = np.arange(10000)\n",
    "np.random.shuffle(Z)\n",
    "n = 5\n",
    "\n",
    "# Slow\n",
    "print (Z[np.argsort(Z)[-n:]])\n",
    "\n",
    "# Fast\n",
    "print (Z[np.argpartition(-Z,n)[:n]])"
   ]
  },
  {
   "cell_type": "markdown",
   "id": "d0518aeb",
   "metadata": {},
   "source": [
    "#### 90. Given an arbitrary number of vectors, build the cartesian product (every combinations of every item) (★★★)"
   ]
  },
  {
   "cell_type": "code",
   "execution_count": 147,
   "id": "d9ae30ca",
   "metadata": {},
   "outputs": [
    {
     "name": "stdout",
     "output_type": "stream",
     "text": [
      "[[1 4 6]\n",
      " [1 4 7]\n",
      " [1 5 6]\n",
      " [1 5 7]\n",
      " [2 4 6]\n",
      " [2 4 7]\n",
      " [2 5 6]\n",
      " [2 5 7]\n",
      " [3 4 6]\n",
      " [3 4 7]\n",
      " [3 5 6]\n",
      " [3 5 7]]\n"
     ]
    }
   ],
   "source": [
    "def cartesian(arrays):\n",
    "    arrays = [np.asarray(a) for a in arrays]\n",
    "    shape = (len(x) for x in arrays)\n",
    "\n",
    "    ix = np.indices(shape, dtype=int)\n",
    "    ix = ix.reshape(len(arrays), -1).T\n",
    "\n",
    "    for n, arr in enumerate(arrays):\n",
    "        ix[:, n] = arrays[n][ix[:, n]]\n",
    "\n",
    "    return ix\n",
    "\n",
    "print (cartesian(([1, 2, 3], [4, 5], [6, 7])))"
   ]
  },
  {
   "cell_type": "markdown",
   "id": "20cc5dc6",
   "metadata": {},
   "source": [
    "#### 91. How to create a record array from a regular array? (★★★)"
   ]
  },
  {
   "cell_type": "code",
   "execution_count": 148,
   "id": "a7d05a34",
   "metadata": {},
   "outputs": [
    {
     "name": "stdout",
     "output_type": "stream",
     "text": [
      "[(b'Hello', 2.5, 3) (b'World', 3.6, 2)]\n"
     ]
    }
   ],
   "source": [
    "Z = np.array([(\"Hello\", 2.5, 3),\n",
    "              (\"World\", 3.6, 2)])\n",
    "R = np.core.records.fromarrays(Z.T,\n",
    "                               names='col1, col2, col3',\n",
    "                               formats = 'S8, f8, i8')\n",
    "print(R)"
   ]
  },
  {
   "cell_type": "markdown",
   "id": "e59a2c44",
   "metadata": {},
   "source": [
    "#### 92. Consider a large vector Z, compute Z to the power of 3 using 3 different methods (★★★)"
   ]
  },
  {
   "cell_type": "code",
   "execution_count": 149,
   "id": "916168ea",
   "metadata": {},
   "outputs": [
    {
     "name": "stdout",
     "output_type": "stream",
     "text": [
      "1.77 s ± 362 ms per loop (mean ± std. dev. of 7 runs, 1 loop each)\n",
      "501 ms ± 22.8 ms per loop (mean ± std. dev. of 7 runs, 1 loop each)\n",
      "286 ms ± 9.97 ms per loop (mean ± std. dev. of 7 runs, 1 loop each)\n"
     ]
    }
   ],
   "source": [
    "x = np.random.rand(int(5e7))\n",
    "\n",
    "%timeit np.power(x,3)\n",
    "%timeit x*x*x\n",
    "%timeit np.einsum('i,i,i->i',x,x,x)"
   ]
  },
  {
   "cell_type": "markdown",
   "id": "f1fc4b70",
   "metadata": {},
   "source": [
    "#### 93. Consider two arrays A and B of shape (8,3) and (2,2). How to find rows of A that contain elements of each row of B regardless of the order of the elements in B? (★★★)"
   ]
  },
  {
   "cell_type": "code",
   "execution_count": 150,
   "id": "d35b4705",
   "metadata": {},
   "outputs": [
    {
     "name": "stdout",
     "output_type": "stream",
     "text": [
      "[4 5]\n"
     ]
    }
   ],
   "source": [
    "A = np.random.randint(0,5,(8,3))\n",
    "B = np.random.randint(0,5,(2,2))\n",
    "\n",
    "C = (A[..., np.newaxis, np.newaxis] == B)\n",
    "rows = np.where(C.any((3,1)).all(1))[0]\n",
    "print(rows)"
   ]
  },
  {
   "cell_type": "markdown",
   "id": "821a6ce8",
   "metadata": {},
   "source": [
    "#### 94. Considering a 10x3 matrix, extract rows with unequal values (e.g. [2,2,3]) (★★★)"
   ]
  },
  {
   "cell_type": "code",
   "execution_count": 151,
   "id": "5690c131",
   "metadata": {},
   "outputs": [
    {
     "name": "stdout",
     "output_type": "stream",
     "text": [
      "[[4 3 4]\n",
      " [4 3 3]\n",
      " [0 4 0]\n",
      " [0 0 2]\n",
      " [4 4 0]\n",
      " [4 2 1]\n",
      " [3 3 0]\n",
      " [3 1 0]\n",
      " [2 0 4]\n",
      " [4 3 3]]\n"
     ]
    }
   ],
   "source": [
    "Z = np.random.randint(0,5,(10,3))\n",
    "print(Z)"
   ]
  },
  {
   "cell_type": "markdown",
   "id": "9dc9a61c",
   "metadata": {},
   "source": [
    "#### 95. Convert a vector of ints into a matrix binary representation (★★★)"
   ]
  },
  {
   "cell_type": "code",
   "execution_count": 152,
   "id": "c728306f",
   "metadata": {},
   "outputs": [
    {
     "name": "stdout",
     "output_type": "stream",
     "text": [
      "[[0 0 0 0 0 0 0 0]\n",
      " [0 0 0 0 0 0 0 1]\n",
      " [0 0 0 0 0 0 1 0]\n",
      " [0 0 0 0 0 0 1 1]\n",
      " [0 0 0 0 1 1 1 1]\n",
      " [0 0 0 1 0 0 0 0]\n",
      " [0 0 1 0 0 0 0 0]\n",
      " [0 1 0 0 0 0 0 0]\n",
      " [1 0 0 0 0 0 0 0]]\n"
     ]
    }
   ],
   "source": [
    "I = np.array([0, 1, 2, 3, 15, 16, 32, 64, 128])\n",
    "B = ((I.reshape(-1,1) & (2**np.arange(8))) != 0).astype(int)\n",
    "print(B[:,::-1])"
   ]
  },
  {
   "cell_type": "markdown",
   "id": "cca48e6e",
   "metadata": {},
   "source": [
    "#### 96. Given a two dimensional array, how to extract unique rows? (★★★)"
   ]
  },
  {
   "cell_type": "code",
   "execution_count": 153,
   "id": "ae2e6484",
   "metadata": {},
   "outputs": [
    {
     "name": "stdout",
     "output_type": "stream",
     "text": [
      "[[0 0 0]\n",
      " [0 0 1]\n",
      " [0 1 0]\n",
      " [1 0 1]\n",
      " [1 1 0]]\n"
     ]
    }
   ],
   "source": [
    "Z = np.random.randint(0,2,(6,3))\n",
    "T = np.ascontiguousarray(Z).view(np.dtype((np.void, Z.dtype.itemsize * Z.shape[1])))\n",
    "_, idx = np.unique(T, return_index=True)\n",
    "uZ = Z[idx]\n",
    "print(uZ)"
   ]
  },
  {
   "cell_type": "markdown",
   "id": "3621d474",
   "metadata": {},
   "source": [
    "#### 97. Considering 2 vectors A & B, write the einsum equivalent of inner, outer, sum, and mul function (★★★)"
   ]
  },
  {
   "cell_type": "code",
   "execution_count": 154,
   "id": "09238dfb",
   "metadata": {},
   "outputs": [
    {
     "data": {
      "text/plain": [
       "array([[0.01956403, 0.55261341, 0.48630791, 0.26089524, 0.25663729,\n",
       "        0.57477382, 0.04580453, 0.51128135, 0.46477767, 0.51227557],\n",
       "       [0.02699717, 0.7625727 , 0.67107516, 0.36001947, 0.35414376,\n",
       "        0.7931527 , 0.06320745, 0.70553698, 0.64136475, 0.70690895],\n",
       "       [0.02141758, 0.60496955, 0.53238208, 0.28561319, 0.28095182,\n",
       "        0.6292295 , 0.05014418, 0.55972158, 0.50881201, 0.56081   ],\n",
       "       [0.00845256, 0.2387544 , 0.21010738, 0.11271874, 0.11087911,\n",
       "        0.24832872, 0.01978966, 0.22089705, 0.20080532, 0.2213266 ],\n",
       "       [0.0243989 , 0.689181  , 0.60648939, 0.32537039, 0.32006017,\n",
       "        0.71681792, 0.05712422, 0.63763453, 0.57963838, 0.63887446],\n",
       "       [0.01949273, 0.55059943, 0.48453558, 0.25994442, 0.25570198,\n",
       "        0.57267908, 0.0456376 , 0.509418  , 0.46308381, 0.5104086 ],\n",
       "       [0.02502288, 0.70680604, 0.62199969, 0.33369138, 0.32824535,\n",
       "        0.73514974, 0.05858511, 0.65394133, 0.59446199, 0.65521296],\n",
       "       [0.00791324, 0.22352059, 0.1967014 , 0.10552668, 0.10380442,\n",
       "        0.23248401, 0.01852698, 0.20680263, 0.18799286, 0.20720478],\n",
       "       [0.01545421, 0.43652565, 0.38414898, 0.20608886, 0.20272537,\n",
       "        0.45403081, 0.03618235, 0.40387624, 0.36714161, 0.4046616 ],\n",
       "       [0.02702144, 0.76325841, 0.6716786 , 0.3603432 , 0.3544622 ,\n",
       "        0.79386591, 0.06326429, 0.70617141, 0.64194147, 0.70754461]])"
      ]
     },
     "execution_count": 154,
     "metadata": {},
     "output_type": "execute_result"
    }
   ],
   "source": [
    "A = np.random.uniform(0,1,10)\n",
    "B = np.random.uniform(0,1,10)\n",
    "\n",
    "np.einsum('i->', A)       # np.sum(A)\n",
    "np.einsum('i,i->i', A, B) # A * B\n",
    "np.einsum('i,i', A, B)    # np.inner(A, B)\n",
    "np.einsum('i,j->ij', A, B)"
   ]
  },
  {
   "cell_type": "markdown",
   "id": "26162fae",
   "metadata": {},
   "source": [
    "#### 98. Considering a path described by two vectors (X,Y), how to sample it using equidistant samples (★★★)?"
   ]
  },
  {
   "cell_type": "code",
   "execution_count": 155,
   "id": "283c279f",
   "metadata": {},
   "outputs": [],
   "source": [
    "phi = np.arange(0, 10*np.pi, 0.1)\n",
    "a = 1\n",
    "x = a*phi*np.cos(phi)\n",
    "y = a*phi*np.sin(phi)\n",
    "\n",
    "dr = (np.diff(x)**2 + np.diff(y)**2)**.5 # segment lengths\n",
    "r = np.zeros_like(x)\n",
    "r[1:] = np.cumsum(dr)                # integrate path\n",
    "r_int = np.linspace(0, r.max(), 200) # regular spaced path\n",
    "x_int = np.interp(r_int, r, x)       # integrate path\n",
    "y_int = np.interp(r_int, r, y)"
   ]
  },
  {
   "cell_type": "markdown",
   "id": "44b20c57",
   "metadata": {},
   "source": [
    "#### 99. Given an integer n and a 2D array X, select from X the rows which can be interpreted as draws from a multinomial distribution with n degrees, i.e., the rows which only contain integers and which sum to n. (★★★)"
   ]
  },
  {
   "cell_type": "code",
   "execution_count": 156,
   "id": "389b7190",
   "metadata": {},
   "outputs": [
    {
     "name": "stdout",
     "output_type": "stream",
     "text": [
      "[[2. 0. 1. 1.]]\n"
     ]
    }
   ],
   "source": [
    "X = np.asarray([[1.0, 0.0, 3.0, 8.0],\n",
    "                [2.0, 0.0, 1.0, 1.0],\n",
    "                [1.5, 2.5, 1.0, 0.0]])\n",
    "n = 4\n",
    "M = np.logical_and.reduce(np.mod(X, 1) == 0, axis=-1)\n",
    "M &= (X.sum(axis=-1) == n)\n",
    "print(X[M])"
   ]
  },
  {
   "cell_type": "markdown",
   "id": "6fa5ed76",
   "metadata": {},
   "source": [
    "#### 100. Compute bootstrapped 95% confidence intervals for the mean of a 1D array X (i.e., resample the elements of an array with replacement N times, compute the mean of each sample, and then compute percentiles over the means). (★★★)"
   ]
  },
  {
   "cell_type": "code",
   "execution_count": 157,
   "id": "4db4cc57",
   "metadata": {},
   "outputs": [
    {
     "name": "stdout",
     "output_type": "stream",
     "text": [
      "[-0.20181056  0.19204562]\n"
     ]
    }
   ],
   "source": [
    "X = np.random.randn(100) # random 1D array\n",
    "N = 1000 # number of bootstrap samples\n",
    "idx = np.random.randint(0, X.size, (N, X.size))\n",
    "means = X[idx].mean(axis=1)\n",
    "confint = np.percentile(means, [2.5, 97.5])\n",
    "print(confint)"
   ]
  }
 ],
 "metadata": {
  "kernelspec": {
   "display_name": "Python 3",
   "language": "python",
   "name": "python3"
  },
  "language_info": {
   "codemirror_mode": {
    "name": "ipython",
    "version": 3
   },
   "file_extension": ".py",
   "mimetype": "text/x-python",
   "name": "python",
   "nbconvert_exporter": "python",
   "pygments_lexer": "ipython3",
   "version": "3.9.13"
  }
 },
 "nbformat": 4,
 "nbformat_minor": 5
}
